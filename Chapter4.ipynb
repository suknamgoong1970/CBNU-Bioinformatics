{
 "cells": [
  {
   "cell_type": "markdown",
   "metadata": {},
   "source": [
    "# 4장. 파이썬 기초 \n",
    "\n",
    "## 파이썬을 계산기로 사용해보자.\n"
   ]
  },
  {
   "cell_type": "markdown",
   "metadata": {},
   "source": [
    "수식을 입력해보자. "
   ]
  },
  {
   "cell_type": "code",
   "execution_count": 1,
   "metadata": {},
   "outputs": [
    {
     "data": {
      "text/plain": [
       "3"
      ]
     },
     "execution_count": 1,
     "metadata": {},
     "output_type": "execute_result"
    }
   ],
   "source": [
    "1+1+1"
   ]
  },
  {
   "cell_type": "code",
   "execution_count": 2,
   "metadata": {},
   "outputs": [
    {
     "data": {
      "text/plain": [
       "1.0"
      ]
     },
     "execution_count": 2,
     "metadata": {},
     "output_type": "execute_result"
    }
   ],
   "source": [
    "(1+1+1)/3"
   ]
  },
  {
   "cell_type": "code",
   "execution_count": 4,
   "metadata": {},
   "outputs": [
    {
     "data": {
      "text/plain": [
       "120"
      ]
     },
     "execution_count": 4,
     "metadata": {},
     "output_type": "execute_result"
    }
   ],
   "source": [
    "1*2*3*4*5"
   ]
  },
  {
   "cell_type": "code",
   "execution_count": 3,
   "metadata": {},
   "outputs": [
    {
     "data": {
      "text/plain": [
       "70"
      ]
     },
     "execution_count": 3,
     "metadata": {},
     "output_type": "execute_result"
    }
   ],
   "source": [
    "10+20+40"
   ]
  },
  {
   "cell_type": "markdown",
   "metadata": {},
   "source": [
    "메뉴에서 'Insert Cell Below' 를 선택해서 셀을 추가한 다음에 수식을 넣고, 실행을 해보자."
   ]
  },
  {
   "cell_type": "markdown",
   "metadata": {},
   "source": [
    "## 변수 (Variable) \n",
    "\n",
    "- 변수는 '무엇인가' 를 저장하는 저장소라고 생각하면 된다. \n",
    "- '무엇인가' 는 숫자, 글자, 기타 데이터 등 여러가지가 될 수 있음. "
   ]
  },
  {
   "cell_type": "code",
   "execution_count": 5,
   "metadata": {},
   "outputs": [],
   "source": [
    "a=1\n",
    "b=1\n",
    "c = a+b"
   ]
  },
  {
   "cell_type": "markdown",
   "metadata": {},
   "source": [
    "a의 값을 살펴보고 싶으면..."
   ]
  },
  {
   "cell_type": "code",
   "execution_count": 11,
   "metadata": {},
   "outputs": [
    {
     "data": {
      "text/plain": [
       "3"
      ]
     },
     "execution_count": 11,
     "metadata": {},
     "output_type": "execute_result"
    }
   ],
   "source": [
    "a=3\n",
    "a"
   ]
  },
  {
   "cell_type": "markdown",
   "metadata": {},
   "source": [
    "b의 값을 살펴보고 싶으면..."
   ]
  },
  {
   "cell_type": "code",
   "execution_count": 7,
   "metadata": {},
   "outputs": [
    {
     "data": {
      "text/plain": [
       "1"
      ]
     },
     "execution_count": 7,
     "metadata": {},
     "output_type": "execute_result"
    }
   ],
   "source": [
    "b"
   ]
  },
  {
   "cell_type": "code",
   "execution_count": 14,
   "metadata": {},
   "outputs": [
    {
     "data": {
      "text/plain": [
       "2"
      ]
     },
     "execution_count": 14,
     "metadata": {},
     "output_type": "execute_result"
    }
   ],
   "source": [
    "c"
   ]
  },
  {
   "cell_type": "markdown",
   "metadata": {},
   "source": [
    "글자를 저장하는 것도 가능하다. 컴퓨터 언에서 보통 글자는 '문자열' 혹은 '스트링' (String) 이라고 부른다. \n",
    "글자는 작은 따옴표 혹은 큰 따옴표로 구분한다. "
   ]
  },
  {
   "cell_type": "code",
   "execution_count": 16,
   "metadata": {},
   "outputs": [],
   "source": [
    "d = \"Python\"\n",
    "e = \" is good\" \n",
    "f = d + e "
   ]
  },
  {
   "cell_type": "code",
   "execution_count": 22,
   "metadata": {},
   "outputs": [
    {
     "name": "stdout",
     "output_type": "stream",
     "text": [
      "Python is good\n"
     ]
    }
   ],
   "source": [
    "print (f)"
   ]
  },
  {
   "cell_type": "code",
   "execution_count": 24,
   "metadata": {},
   "outputs": [],
   "source": [
    "a=\"ACGATAGAGAGG\""
   ]
  },
  {
   "cell_type": "code",
   "execution_count": 26,
   "metadata": {},
   "outputs": [
    {
     "name": "stdout",
     "output_type": "stream",
     "text": [
      "ACGATAGAGAGG\n"
     ]
    }
   ],
   "source": [
    "print (a)"
   ]
  },
  {
   "cell_type": "code",
   "execution_count": null,
   "metadata": {},
   "outputs": [],
   "source": [
    "'='는 '같다'가 아니라 변수에 데이터를 넣는 기호이다. \n",
    "a = 'this is good' \n",
    "\n",
    "a에 'this is good'을 넣는다. "
   ]
  },
  {
   "cell_type": "code",
   "execution_count": 13,
   "metadata": {},
   "outputs": [
    {
     "data": {
      "text/plain": [
       "'this is good'"
      ]
     },
     "execution_count": 13,
     "metadata": {},
     "output_type": "execute_result"
    }
   ],
   "source": [
    "a='this is good'\n",
    "a"
   ]
  },
  {
   "cell_type": "markdown",
   "metadata": {},
   "source": [
    "'문자열' 은 서열 정보를 저장하는데도 사용할 수 있다. \n",
    "다음 예를 본다면..."
   ]
  },
  {
   "cell_type": "code",
   "execution_count": 27,
   "metadata": {},
   "outputs": [
    {
     "name": "stdout",
     "output_type": "stream",
     "text": [
      "ACGTACGTAG\n"
     ]
    }
   ],
   "source": [
    "sequence = \"ACGTACGTAG\"\n",
    "print (sequence)"
   ]
  },
  {
   "cell_type": "markdown",
   "metadata": {},
   "source": [
    "문자열끼리 '더하기' 를 하면 두 개의 서열이 이어진다. "
   ]
  },
  {
   "cell_type": "code",
   "execution_count": 28,
   "metadata": {},
   "outputs": [
    {
     "name": "stdout",
     "output_type": "stream",
     "text": [
      "ACGTACGTAGGGATCCGT\n"
     ]
    }
   ],
   "source": [
    "sequence2 = \"GGATCCGT\"\n",
    "new_sequence = sequence + sequence2\n",
    "print (new_sequence)"
   ]
  },
  {
   "cell_type": "code",
   "execution_count": 44,
   "metadata": {},
   "outputs": [
    {
     "ename": "IndexError",
     "evalue": "string index out of range",
     "output_type": "error",
     "traceback": [
      "\u001b[0;31m---------------------------------------------------------------------------\u001b[0m",
      "\u001b[0;31mIndexError\u001b[0m                                Traceback (most recent call last)",
      "\u001b[0;32m<ipython-input-44-10ff5c66afa2>\u001b[0m in \u001b[0;36m<module>\u001b[0;34m\u001b[0m\n\u001b[0;32m----> 1\u001b[0;31m \u001b[0mnew_sequence\u001b[0m\u001b[0;34m[\u001b[0m\u001b[0;36m18\u001b[0m\u001b[0;34m]\u001b[0m\u001b[0;34m\u001b[0m\u001b[0;34m\u001b[0m\u001b[0m\n\u001b[0m",
      "\u001b[0;31mIndexError\u001b[0m: string index out of range"
     ]
    }
   ],
   "source": [
    "new_sequence[18]"
   ]
  },
  {
   "cell_type": "markdown",
   "metadata": {},
   "source": [
    "만약 이들을 각각의 위치별의 글자로 읽으려면 어떻게 해야 하나? \n",
    "문자열의 일부에 접근하려면 대괄호 '[]' 와 숫자를 이용한다. "
   ]
  },
  {
   "cell_type": "code",
   "execution_count": 17,
   "metadata": {},
   "outputs": [
    {
     "data": {
      "text/plain": [
       "'A'"
      ]
     },
     "execution_count": 17,
     "metadata": {},
     "output_type": "execute_result"
    }
   ],
   "source": [
    "new_sequence[0]"
   ]
  },
  {
   "cell_type": "code",
   "execution_count": 18,
   "metadata": {},
   "outputs": [
    {
     "data": {
      "text/plain": [
       "'C'"
      ]
     },
     "execution_count": 18,
     "metadata": {},
     "output_type": "execute_result"
    }
   ],
   "source": [
    "new_sequence[1]"
   ]
  },
  {
   "cell_type": "markdown",
   "metadata": {},
   "source": [
    "대괄호 안의 숫자를 바꾸어 보자. \n",
    "첫번째 항목은 0 으로부터 시작한다. "
   ]
  },
  {
   "cell_type": "markdown",
   "metadata": {},
   "source": [
    "여러 개의 항목을 접근하려면 [시작위치:끝위치] 형식으로 숫자를 이용한다. "
   ]
  },
  {
   "cell_type": "code",
   "execution_count": 46,
   "metadata": {},
   "outputs": [
    {
     "data": {
      "text/plain": [
       "'ACG'"
      ]
     },
     "execution_count": 46,
     "metadata": {},
     "output_type": "execute_result"
    }
   ],
   "source": [
    "new_sequence[0:3]"
   ]
  },
  {
   "cell_type": "code",
   "execution_count": 47,
   "metadata": {},
   "outputs": [
    {
     "data": {
      "text/plain": [
       "'ACGTACGTAG'"
      ]
     },
     "execution_count": 47,
     "metadata": {},
     "output_type": "execute_result"
    }
   ],
   "source": [
    "new_sequence[0:10]"
   ]
  },
  {
   "cell_type": "markdown",
   "metadata": {},
   "source": [
    "만약 세번째부터 끝까지의 서열에 접근하고 싶다면? "
   ]
  },
  {
   "cell_type": "code",
   "execution_count": 48,
   "metadata": {},
   "outputs": [
    {
     "data": {
      "text/plain": [
       "'GTACGTAGGGATCCGT'"
      ]
     },
     "execution_count": 48,
     "metadata": {},
     "output_type": "execute_result"
    }
   ],
   "source": [
    "#0,1,2....\n",
    "new_sequence[2:]"
   ]
  },
  {
   "cell_type": "markdown",
   "metadata": {},
   "source": [
    "세번째까지의 서열을 알고 싶다면..."
   ]
  },
  {
   "cell_type": "code",
   "execution_count": 50,
   "metadata": {},
   "outputs": [
    {
     "data": {
      "text/plain": [
       "'ACGT'"
      ]
     },
     "execution_count": 50,
     "metadata": {},
     "output_type": "execute_result"
    }
   ],
   "source": [
    "new_sequence[:4]"
   ]
  },
  {
   "cell_type": "code",
   "execution_count": 55,
   "metadata": {},
   "outputs": [
    {
     "data": {
      "text/plain": [
       "'ACGTACGTAGGGATC'"
      ]
     },
     "execution_count": 55,
     "metadata": {},
     "output_type": "execute_result"
    }
   ],
   "source": [
    "#끝에서 3글자 빼기\n",
    "\n",
    "new_sequence[:-3]"
   ]
  },
  {
   "cell_type": "code",
   "execution_count": 56,
   "metadata": {},
   "outputs": [
    {
     "data": {
      "text/plain": [
       "'TA'"
      ]
     },
     "execution_count": 56,
     "metadata": {},
     "output_type": "execute_result"
    }
   ],
   "source": [
    "new_sequence[3:5]"
   ]
  },
  {
   "cell_type": "markdown",
   "metadata": {},
   "source": [
    "## 리스트 (LIST) \n",
    "\n",
    "- 여러 개의 데이터를 저장할 때 사용한다. \n",
    "- 대괄호와 쉼표로 여러 개의 데이터를 구분하여 저장한다. \n",
    "- 숫자, 쉼표, 다른 변수 등등 여러 종류의 데이터를 저장 가능하다. \n"
   ]
  },
  {
   "cell_type": "code",
   "execution_count": 57,
   "metadata": {},
   "outputs": [],
   "source": [
    "even = [2,4,6,8,10,12]"
   ]
  },
  {
   "cell_type": "code",
   "execution_count": 59,
   "metadata": {},
   "outputs": [],
   "source": [
    "odd = [1,3,5,7,9]"
   ]
  },
  {
   "cell_type": "code",
   "execution_count": 26,
   "metadata": {},
   "outputs": [
    {
     "data": {
      "text/plain": [
       "[2, 4, 6, 8, 10, 12]"
      ]
     },
     "execution_count": 26,
     "metadata": {},
     "output_type": "execute_result"
    }
   ],
   "source": [
    "even = [2,4,6,8,10,12]\n",
    "odd = [1,3,5,7,9]\n",
    "even"
   ]
  },
  {
   "cell_type": "code",
   "execution_count": 62,
   "metadata": {},
   "outputs": [
    {
     "data": {
      "text/plain": [
       "'this is good'"
      ]
     },
     "execution_count": 62,
     "metadata": {},
     "output_type": "execute_result"
    }
   ],
   "source": [
    "string = 'this is good'\n",
    "string"
   ]
  },
  {
   "cell_type": "code",
   "execution_count": 63,
   "metadata": {},
   "outputs": [
    {
     "data": {
      "text/plain": [
       "['one', 'two', 'three', 'four', 'five']"
      ]
     },
     "execution_count": 63,
     "metadata": {},
     "output_type": "execute_result"
    }
   ],
   "source": [
    "string_list = ['one', 'two','three','four','five']\n",
    "string_list"
   ]
  },
  {
   "cell_type": "markdown",
   "metadata": {},
   "source": [
    "리스트의 항목도 문자열 안의 글자와 비슷하게 참조할 수 있다. "
   ]
  },
  {
   "cell_type": "code",
   "execution_count": 66,
   "metadata": {},
   "outputs": [
    {
     "data": {
      "text/plain": [
       "'five'"
      ]
     },
     "execution_count": 66,
     "metadata": {},
     "output_type": "execute_result"
    }
   ],
   "source": [
    "string_list[4]"
   ]
  },
  {
   "cell_type": "code",
   "execution_count": 31,
   "metadata": {},
   "outputs": [
    {
     "data": {
      "text/plain": [
       "'five'"
      ]
     },
     "execution_count": 31,
     "metadata": {},
     "output_type": "execute_result"
    }
   ],
   "source": [
    "string_list[4]"
   ]
  },
  {
   "cell_type": "code",
   "execution_count": 68,
   "metadata": {},
   "outputs": [
    {
     "data": {
      "text/plain": [
       "3"
      ]
     },
     "execution_count": 68,
     "metadata": {},
     "output_type": "execute_result"
    }
   ],
   "source": [
    "odd[1]"
   ]
  },
  {
   "cell_type": "code",
   "execution_count": null,
   "metadata": {},
   "outputs": [],
   "source": [
    "리스트의 항목 일부도 마찬가지로 억세스할 수 있다. \n",
    "string_list의 첫번째에서 세번째 항목까지 억세스하려면? "
   ]
  },
  {
   "cell_type": "code",
   "execution_count": 71,
   "metadata": {},
   "outputs": [
    {
     "data": {
      "text/plain": [
       "['one', 'two', 'three']"
      ]
     },
     "execution_count": 71,
     "metadata": {},
     "output_type": "execute_result"
    }
   ],
   "source": [
    "string_list[0:3]"
   ]
  },
  {
   "cell_type": "markdown",
   "metadata": {},
   "source": [
    "두 개의 리스트를 더할 수도 있다. "
   ]
  },
  {
   "cell_type": "code",
   "execution_count": 73,
   "metadata": {},
   "outputs": [
    {
     "data": {
      "text/plain": [
       "[1, 3, 5, 7, 9]"
      ]
     },
     "execution_count": 73,
     "metadata": {},
     "output_type": "execute_result"
    }
   ],
   "source": []
  },
  {
   "cell_type": "code",
   "execution_count": 74,
   "metadata": {},
   "outputs": [],
   "source": [
    "number = even + odd"
   ]
  },
  {
   "cell_type": "code",
   "execution_count": 77,
   "metadata": {},
   "outputs": [],
   "source": [
    "number.append(100)"
   ]
  },
  {
   "cell_type": "markdown",
   "metadata": {},
   "source": [
    "하나를 추가하고 싶다고 하자. '100'"
   ]
  },
  {
   "cell_type": "code",
   "execution_count": 37,
   "metadata": {},
   "outputs": [],
   "source": [
    "number.append(100)"
   ]
  },
  {
   "cell_type": "code",
   "execution_count": 80,
   "metadata": {},
   "outputs": [],
   "source": [
    "string_list.append('hundred')"
   ]
  },
  {
   "cell_type": "code",
   "execution_count": 82,
   "metadata": {},
   "outputs": [],
   "source": [
    "string_list.append('hundred one')"
   ]
  },
  {
   "cell_type": "code",
   "execution_count": 83,
   "metadata": {},
   "outputs": [
    {
     "data": {
      "text/plain": [
       "['one', 'two', 'three', 'four', 'five', 'hundred', 'hundred one']"
      ]
     },
     "execution_count": 83,
     "metadata": {},
     "output_type": "execute_result"
    }
   ],
   "source": [
    "string_list"
   ]
  },
  {
   "cell_type": "code",
   "execution_count": 39,
   "metadata": {},
   "outputs": [],
   "source": [
    "string_list.append('six')"
   ]
  },
  {
   "cell_type": "code",
   "execution_count": 40,
   "metadata": {},
   "outputs": [
    {
     "data": {
      "text/plain": [
       "['one', 'two', 'three', 'four', 'five', 'six']"
      ]
     },
     "execution_count": 40,
     "metadata": {},
     "output_type": "execute_result"
    }
   ],
   "source": [
    "string_list"
   ]
  },
  {
   "cell_type": "code",
   "execution_count": 85,
   "metadata": {},
   "outputs": [],
   "source": [
    "number.sort()"
   ]
  },
  {
   "cell_type": "markdown",
   "metadata": {},
   "source": [
    "number라는 리스트에 있는 내용을 숫자별로 정렬하고 싶다면? \n"
   ]
  },
  {
   "cell_type": "code",
   "execution_count": 86,
   "metadata": {},
   "outputs": [
    {
     "data": {
      "text/plain": [
       "[1, 2, 3, 4, 5, 6, 7, 8, 9, 10, 12, 100]"
      ]
     },
     "execution_count": 86,
     "metadata": {},
     "output_type": "execute_result"
    }
   ],
   "source": [
    "number"
   ]
  },
  {
   "cell_type": "code",
   "execution_count": 43,
   "metadata": {},
   "outputs": [
    {
     "data": {
      "text/plain": [
       "[1, 2, 3, 4, 5, 6, 7, 8, 9, 10, 12, 100]"
      ]
     },
     "execution_count": 43,
     "metadata": {},
     "output_type": "execute_result"
    }
   ],
   "source": [
    "number"
   ]
  },
  {
   "cell_type": "code",
   "execution_count": 88,
   "metadata": {},
   "outputs": [],
   "source": [
    "string_list.append('aaaaaa')"
   ]
  },
  {
   "cell_type": "code",
   "execution_count": 91,
   "metadata": {},
   "outputs": [
    {
     "data": {
      "text/plain": [
       "['aaaaaa', 'five', 'four', 'hundred', 'hundred one', 'one', 'three', 'two']"
      ]
     },
     "execution_count": 91,
     "metadata": {},
     "output_type": "execute_result"
    }
   ],
   "source": [
    "string_list"
   ]
  },
  {
   "cell_type": "code",
   "execution_count": 46,
   "metadata": {},
   "outputs": [
    {
     "data": {
      "text/plain": [
       "['aaaaaa', 'five', 'four', 'one', 'six', 'three', 'two']"
      ]
     },
     "execution_count": 46,
     "metadata": {},
     "output_type": "execute_result"
    }
   ],
   "source": [
    "string_list.sort()\n",
    "string_list"
   ]
  },
  {
   "cell_type": "markdown",
   "metadata": {},
   "source": [
    "리스트에 있는 내용을 바꾸고 싶다면? \n",
    "가령 두번째의 'five'를 'FIVE'로 바꾸고 싶다고 하자. \n"
   ]
  },
  {
   "cell_type": "code",
   "execution_count": 47,
   "metadata": {},
   "outputs": [
    {
     "data": {
      "text/plain": [
       "'five'"
      ]
     },
     "execution_count": 47,
     "metadata": {},
     "output_type": "execute_result"
    }
   ],
   "source": [
    "string_list[1]"
   ]
  },
  {
   "cell_type": "code",
   "execution_count": 48,
   "metadata": {},
   "outputs": [],
   "source": [
    "string_list[1]='FIVE'"
   ]
  },
  {
   "cell_type": "code",
   "execution_count": 49,
   "metadata": {},
   "outputs": [
    {
     "data": {
      "text/plain": [
       "['aaaaaa', 'FIVE', 'four', 'one', 'six', 'three', 'two']"
      ]
     },
     "execution_count": 49,
     "metadata": {},
     "output_type": "execute_result"
    }
   ],
   "source": [
    "string_list"
   ]
  },
  {
   "cell_type": "code",
   "execution_count": 50,
   "metadata": {},
   "outputs": [],
   "source": [
    "del string_list[1]"
   ]
  },
  {
   "cell_type": "code",
   "execution_count": 95,
   "metadata": {},
   "outputs": [
    {
     "data": {
      "text/plain": [
       "'AAGGAGAGG'"
      ]
     },
     "execution_count": 95,
     "metadata": {},
     "output_type": "execute_result"
    }
   ],
   "source": []
  },
  {
   "cell_type": "markdown",
   "metadata": {},
   "source": [
    "## 딕셔너리 (Dictionary)  \n",
    "\n",
    "- 서로 관계가 있는 데이터를 저장하고 싶다고 하자. \n",
    "- Elephant, Animal\n",
    "- Sunflower, Plant\n",
    "- E.coli, Microbe\n",
    "- Human, Animal\n",
    "- Rice, Plant \n",
    "\n",
    "- 이러한 관계를 어떻게 저장할 것인가? "
   ]
  },
  {
   "cell_type": "code",
   "execution_count": 96,
   "metadata": {},
   "outputs": [],
   "source": [
    "organism = {'Elephant':'Animal',\n",
    "            'Sunflower':'Plant',\n",
    "            'E.coli':'Microbe',\n",
    "            'Human':'Animal',\n",
    "            'Rice':'Plant'}"
   ]
  },
  {
   "cell_type": "markdown",
   "metadata": {},
   "source": [
    "딕셔너리에서 앞의 내용을 '키' (Key)라고 하고 뒤의 내용을 '값' (Value)라고 한다. \n",
    "하나의 딕셔너리에서는 키의 값은 고유한 값이어야 한다. "
   ]
  },
  {
   "cell_type": "code",
   "execution_count": 99,
   "metadata": {},
   "outputs": [
    {
     "data": {
      "text/plain": [
       "'Plant'"
      ]
     },
     "execution_count": 99,
     "metadata": {},
     "output_type": "execute_result"
    }
   ],
   "source": [
    "organism['Rice']"
   ]
  },
  {
   "cell_type": "code",
   "execution_count": 55,
   "metadata": {},
   "outputs": [
    {
     "data": {
      "text/plain": [
       "'Microbe'"
      ]
     },
     "execution_count": 55,
     "metadata": {},
     "output_type": "execute_result"
    }
   ],
   "source": [
    "#키를 이용하여 값을 알아낸다. \n",
    "\n",
    "organism['E.coli']"
   ]
  },
  {
   "cell_type": "code",
   "execution_count": 101,
   "metadata": {},
   "outputs": [
    {
     "data": {
      "text/plain": [
       "{'Elephant': 'Animal',\n",
       " 'Sunflower': 'Plant',\n",
       " 'E.coli': 'Microbe',\n",
       " 'Human': 'Animal',\n",
       " 'Rice': 'Plant',\n",
       " 'Dog': 'Animal'}"
      ]
     },
     "execution_count": 101,
     "metadata": {},
     "output_type": "execute_result"
    }
   ],
   "source": [
    "organism['Dog']='Animal'\n",
    "organism"
   ]
  },
  {
   "cell_type": "markdown",
   "metadata": {},
   "source": [
    "딕셔너리에 새로운 데이터를 넣고 싶을 경우\n",
    "딕셔너리['키'] = '값' "
   ]
  },
  {
   "cell_type": "code",
   "execution_count": 103,
   "metadata": {},
   "outputs": [],
   "source": [
    "organism['Dog']=\"Human's best friend\""
   ]
  },
  {
   "cell_type": "code",
   "execution_count": 104,
   "metadata": {},
   "outputs": [
    {
     "data": {
      "text/plain": [
       "\"Human's best friend\""
      ]
     },
     "execution_count": 104,
     "metadata": {},
     "output_type": "execute_result"
    }
   ],
   "source": [
    "organism['Dog']"
   ]
  },
  {
   "cell_type": "code",
   "execution_count": 109,
   "metadata": {},
   "outputs": [
    {
     "data": {
      "text/plain": [
       "{'Elephant': 'Animal',\n",
       " 'Sunflower': 'Plant',\n",
       " 'E.coli': 'Microbe',\n",
       " 'Human': 'Animal',\n",
       " 'Rice': 'Plant',\n",
       " 'Dog': 'Do not eat dog'}"
      ]
     },
     "execution_count": 109,
     "metadata": {},
     "output_type": "execute_result"
    }
   ],
   "source": [
    "organism['Dog']='Good Food'\n",
    "organism['Dog']='Do not eat dog'\n",
    "organism"
   ]
  },
  {
   "cell_type": "markdown",
   "metadata": {},
   "source": [
    "딕셔너리에는 동일한 키 값이 두 개 이상 존재할 수 없다. "
   ]
  },
  {
   "cell_type": "code",
   "execution_count": 110,
   "metadata": {},
   "outputs": [
    {
     "data": {
      "text/plain": [
       "dict_keys(['Elephant', 'Sunflower', 'E.coli', 'Human', 'Rice', 'Dog'])"
      ]
     },
     "execution_count": 110,
     "metadata": {},
     "output_type": "execute_result"
    }
   ],
   "source": [
    "organism.keys()"
   ]
  },
  {
   "cell_type": "code",
   "execution_count": 111,
   "metadata": {},
   "outputs": [
    {
     "data": {
      "text/plain": [
       "dict_values(['Animal', 'Plant', 'Microbe', 'Animal', 'Plant', 'Do not eat dog'])"
      ]
     },
     "execution_count": 111,
     "metadata": {},
     "output_type": "execute_result"
    }
   ],
   "source": [
    "organism.values()"
   ]
  },
  {
   "cell_type": "code",
   "execution_count": 63,
   "metadata": {},
   "outputs": [
    {
     "data": {
      "text/plain": [
       "dict_values(['Animal', 'Plant', 'Microbe', 'Animal', 'Plant', 'Humans best friends'])"
      ]
     },
     "execution_count": 63,
     "metadata": {},
     "output_type": "execute_result"
    }
   ],
   "source": [
    "organism.values()"
   ]
  },
  {
   "cell_type": "markdown",
   "metadata": {},
   "source": [
    "## 튜플 (Tuple)  \n",
    "\n",
    "- 튜플은 리스트와 거의 비슷하나 하나의 차이가 있다. "
   ]
  },
  {
   "cell_type": "code",
   "execution_count": 112,
   "metadata": {},
   "outputs": [],
   "source": [
    "list = [1,2,3,4]\n",
    "tuple = (1,2,3,4)"
   ]
  },
  {
   "cell_type": "code",
   "execution_count": 113,
   "metadata": {},
   "outputs": [
    {
     "data": {
      "text/plain": [
       "[1, 2, 3, 4]"
      ]
     },
     "execution_count": 113,
     "metadata": {},
     "output_type": "execute_result"
    }
   ],
   "source": [
    "list"
   ]
  },
  {
   "cell_type": "code",
   "execution_count": 114,
   "metadata": {},
   "outputs": [
    {
     "data": {
      "text/plain": [
       "(1, 2, 3, 4)"
      ]
     },
     "execution_count": 114,
     "metadata": {},
     "output_type": "execute_result"
    }
   ],
   "source": [
    "tuple"
   ]
  },
  {
   "cell_type": "code",
   "execution_count": 115,
   "metadata": {},
   "outputs": [
    {
     "data": {
      "text/plain": [
       "[2, 2, 3, 4]"
      ]
     },
     "execution_count": 115,
     "metadata": {},
     "output_type": "execute_result"
    }
   ],
   "source": [
    "list[0] = 2\n",
    "list"
   ]
  },
  {
   "cell_type": "code",
   "execution_count": 117,
   "metadata": {},
   "outputs": [
    {
     "ename": "TypeError",
     "evalue": "'tuple' object does not support item assignment",
     "output_type": "error",
     "traceback": [
      "\u001b[0;31m---------------------------------------------------------------------------\u001b[0m",
      "\u001b[0;31mTypeError\u001b[0m                                 Traceback (most recent call last)",
      "\u001b[0;32m<ipython-input-117-c727c9eb080f>\u001b[0m in \u001b[0;36m<module>\u001b[0;34m\u001b[0m\n\u001b[0;32m----> 1\u001b[0;31m \u001b[0mtuple\u001b[0m\u001b[0;34m[\u001b[0m\u001b[0;36m0\u001b[0m\u001b[0;34m]\u001b[0m\u001b[0;34m=\u001b[0m\u001b[0;36m1000\u001b[0m\u001b[0;34m\u001b[0m\u001b[0;34m\u001b[0m\u001b[0m\n\u001b[0m",
      "\u001b[0;31mTypeError\u001b[0m: 'tuple' object does not support item assignment"
     ]
    }
   ],
   "source": [
    "tuple[0]=1000"
   ]
  },
  {
   "cell_type": "markdown",
   "metadata": {},
   "source": [
    "리스트는 값을 추가하거나 바꿀 수 있지만, 튜플은 바꿀 수 없다. \n",
    "튜플은 한번 넣어두면 바뀌지 않는 값을 여러 개 저장할 때 사용한다. "
   ]
  },
  {
   "cell_type": "code",
   "execution_count": 69,
   "metadata": {},
   "outputs": [],
   "source": [
    "base = ('A','C','G','T')"
   ]
  },
  {
   "cell_type": "markdown",
   "metadata": {},
   "source": [
    "## 지금까지 파이썬에서 어떻게 자료를 저장하는지 배웠음. \n",
    "\n",
    "- 변수 \n",
    "- 리스트 \n",
    "- 딕셔너리\n",
    "- 튜플\n",
    "- 문자열 "
   ]
  },
  {
   "cell_type": "markdown",
   "metadata": {},
   "source": [
    "## 조건과 반복\n",
    "\n",
    "컴퓨터 프로그래밍의 가장 기본적인 두 가지 요소 \n",
    "\n",
    "- 반복 \n",
    "- 조건 판단 \n",
    "\n",
    "리스트에 들어 있는 여러 값을 하나씩 꺼내서 살펴보는 과정을 보자. "
   ]
  },
  {
   "cell_type": "code",
   "execution_count": 119,
   "metadata": {},
   "outputs": [],
   "source": [
    "test_list = ['권은비', \n",
    "             '미야와키 사쿠라', \n",
    "             '강혜원', \n",
    "             '최예나', \n",
    "             '이채연', \n",
    "             '김채원', \n",
    "             '김민주', \n",
    "             '야부키 나코', \n",
    "             '혼다 히토미', \n",
    "             '조유리', \n",
    "             '안유진', \n",
    "             '장원영']"
   ]
  },
  {
   "cell_type": "code",
   "execution_count": 127,
   "metadata": {},
   "outputs": [
    {
     "ename": "IndentationError",
     "evalue": "unexpected indent (<ipython-input-127-6eb78c3d463e>, line 3)",
     "output_type": "error",
     "traceback": [
      "\u001b[0;36m  File \u001b[0;32m\"<ipython-input-127-6eb78c3d463e>\"\u001b[0;36m, line \u001b[0;32m3\u001b[0m\n\u001b[0;31m    print (\"....\")\u001b[0m\n\u001b[0m    ^\u001b[0m\n\u001b[0;31mIndentationError\u001b[0m\u001b[0;31m:\u001b[0m unexpected indent\n"
     ]
    }
   ],
   "source": [
    "for member in test_list:\n",
    "    print (member)\n",
    "    print (\"....\")"
   ]
  },
  {
   "cell_type": "markdown",
   "metadata": {},
   "source": [
    "파이썬에서는 반복문이나 조건문 내에서 수행되는 라인을 구분하기 위하여 '들여쓰기' 를 한다. \n",
    "뭔 말이냐면...다음과 같은 코드를 입력하면.."
   ]
  },
  {
   "cell_type": "code",
   "execution_count": 11,
   "metadata": {},
   "outputs": [
    {
     "ename": "IndentationError",
     "evalue": "expected an indented block (<ipython-input-11-044f31795d4e>, line 2)",
     "output_type": "error",
     "traceback": [
      "\u001b[0;36m  File \u001b[0;32m\"<ipython-input-11-044f31795d4e>\"\u001b[0;36m, line \u001b[0;32m2\u001b[0m\n\u001b[0;31m    print (member)\u001b[0m\n\u001b[0m        ^\u001b[0m\n\u001b[0;31mIndentationError\u001b[0m\u001b[0;31m:\u001b[0m expected an indented block\n"
     ]
    }
   ],
   "source": [
    "#에러 발생\n",
    "for member in test_list:\n",
    "print (member)"
   ]
  },
  {
   "cell_type": "code",
   "execution_count": 14,
   "metadata": {},
   "outputs": [
    {
     "name": "stdout",
     "output_type": "stream",
     "text": [
      "권은비\n",
      "미야와키 사쿠라\n",
      "강혜원\n",
      "최예나\n",
      "이채연\n",
      "김채원\n",
      "김민주\n",
      "야부키 나코\n",
      "혼다 히토미\n",
      "조유리\n",
      "안유진\n",
      "장원영\n"
     ]
    }
   ],
   "source": [
    "#수정됨\n",
    "for member in test_list:\n",
    "    print (member)"
   ]
  },
  {
   "cell_type": "code",
   "execution_count": 15,
   "metadata": {},
   "outputs": [
    {
     "ename": "IndentationError",
     "evalue": "unexpected indent (<ipython-input-15-1c328a6c1689>, line 4)",
     "output_type": "error",
     "traceback": [
      "\u001b[0;36m  File \u001b[0;32m\"<ipython-input-15-1c328a6c1689>\"\u001b[0;36m, line \u001b[0;32m4\u001b[0m\n\u001b[0;31m    print (\"..\")\u001b[0m\n\u001b[0m    ^\u001b[0m\n\u001b[0;31mIndentationError\u001b[0m\u001b[0;31m:\u001b[0m unexpected indent\n"
     ]
    }
   ],
   "source": [
    "for member in test_list:\n",
    "    #반복문 안의 문장들은 들여쓰기 (Tab) 레벨이 같아야 한다. \n",
    "    print (member)\n",
    "        print (\"..\")"
   ]
  },
  {
   "cell_type": "markdown",
   "metadata": {},
   "source": [
    "# range \n",
    "\n",
    "일정한 숫자를 이용하여 반복을 한다. "
   ]
  },
  {
   "cell_type": "code",
   "execution_count": 129,
   "metadata": {},
   "outputs": [
    {
     "name": "stdout",
     "output_type": "stream",
     "text": [
      "0\n",
      "1\n",
      "2\n",
      "3\n",
      "4\n",
      "5\n",
      "6\n",
      "7\n",
      "8\n",
      "9\n",
      "10\n",
      "11\n",
      "12\n",
      "13\n",
      "14\n",
      "15\n",
      "16\n",
      "17\n",
      "18\n",
      "19\n",
      "20\n",
      "21\n",
      "22\n",
      "23\n",
      "24\n",
      "25\n",
      "26\n",
      "27\n",
      "28\n",
      "29\n",
      "30\n",
      "31\n",
      "32\n",
      "33\n",
      "34\n",
      "35\n",
      "36\n",
      "37\n",
      "38\n",
      "39\n",
      "40\n",
      "41\n",
      "42\n",
      "43\n",
      "44\n",
      "45\n",
      "46\n",
      "47\n",
      "48\n",
      "49\n",
      "50\n",
      "51\n",
      "52\n",
      "53\n",
      "54\n",
      "55\n",
      "56\n",
      "57\n",
      "58\n",
      "59\n",
      "60\n",
      "61\n",
      "62\n",
      "63\n",
      "64\n",
      "65\n",
      "66\n",
      "67\n",
      "68\n",
      "69\n",
      "70\n",
      "71\n",
      "72\n",
      "73\n",
      "74\n",
      "75\n",
      "76\n",
      "77\n",
      "78\n",
      "79\n",
      "80\n",
      "81\n",
      "82\n",
      "83\n",
      "84\n",
      "85\n",
      "86\n",
      "87\n",
      "88\n",
      "89\n",
      "90\n",
      "91\n",
      "92\n",
      "93\n",
      "94\n",
      "95\n",
      "96\n",
      "97\n",
      "98\n",
      "99\n"
     ]
    }
   ],
   "source": [
    "for i in range(100):\n",
    "    print (i)"
   ]
  },
  {
   "cell_type": "code",
   "execution_count": 131,
   "metadata": {},
   "outputs": [
    {
     "name": "stdout",
     "output_type": "stream",
     "text": [
      "1 1\n",
      "1 2\n",
      "1 3\n",
      "1 4\n",
      "1 5\n",
      "1 6\n",
      "1 7\n",
      "1 8\n",
      "1 9\n",
      "2 1\n",
      "2 2\n",
      "2 3\n",
      "2 4\n",
      "2 5\n",
      "2 6\n",
      "2 7\n",
      "2 8\n",
      "2 9\n",
      "3 1\n",
      "3 2\n",
      "3 3\n",
      "3 4\n",
      "3 5\n",
      "3 6\n",
      "3 7\n",
      "3 8\n",
      "3 9\n",
      "4 1\n",
      "4 2\n",
      "4 3\n",
      "4 4\n",
      "4 5\n",
      "4 6\n",
      "4 7\n",
      "4 8\n",
      "4 9\n",
      "5 1\n",
      "5 2\n",
      "5 3\n",
      "5 4\n",
      "5 5\n",
      "5 6\n",
      "5 7\n",
      "5 8\n",
      "5 9\n",
      "6 1\n",
      "6 2\n",
      "6 3\n",
      "6 4\n",
      "6 5\n",
      "6 6\n",
      "6 7\n",
      "6 8\n",
      "6 9\n",
      "7 1\n",
      "7 2\n",
      "7 3\n",
      "7 4\n",
      "7 5\n",
      "7 6\n",
      "7 7\n",
      "7 8\n",
      "7 9\n",
      "8 1\n",
      "8 2\n",
      "8 3\n",
      "8 4\n",
      "8 5\n",
      "8 6\n",
      "8 7\n",
      "8 8\n",
      "8 9\n",
      "9 1\n",
      "9 2\n",
      "9 3\n",
      "9 4\n",
      "9 5\n",
      "9 6\n",
      "9 7\n",
      "9 8\n",
      "9 9\n"
     ]
    }
   ],
   "source": [
    "for i in range(1,10):\n",
    "    for j in range(1,10):\n",
    "        print (i,j)"
   ]
  },
  {
   "cell_type": "markdown",
   "metadata": {},
   "source": [
    "for 문은 중첩 가능하다"
   ]
  },
  {
   "cell_type": "code",
   "execution_count": 132,
   "metadata": {},
   "outputs": [
    {
     "name": "stdout",
     "output_type": "stream",
     "text": [
      "1 1 1\n",
      "1 2 2\n",
      "1 3 3\n",
      "1 4 4\n",
      "1 5 5\n",
      "1 6 6\n",
      "1 7 7\n",
      "1 8 8\n",
      "1 9 9\n",
      "2 1 2\n",
      "2 2 4\n",
      "2 3 6\n",
      "2 4 8\n",
      "2 5 10\n",
      "2 6 12\n",
      "2 7 14\n",
      "2 8 16\n",
      "2 9 18\n",
      "3 1 3\n",
      "3 2 6\n",
      "3 3 9\n",
      "3 4 12\n",
      "3 5 15\n",
      "3 6 18\n",
      "3 7 21\n",
      "3 8 24\n",
      "3 9 27\n",
      "4 1 4\n",
      "4 2 8\n",
      "4 3 12\n",
      "4 4 16\n",
      "4 5 20\n",
      "4 6 24\n",
      "4 7 28\n",
      "4 8 32\n",
      "4 9 36\n",
      "5 1 5\n",
      "5 2 10\n",
      "5 3 15\n",
      "5 4 20\n",
      "5 5 25\n",
      "5 6 30\n",
      "5 7 35\n",
      "5 8 40\n",
      "5 9 45\n",
      "6 1 6\n",
      "6 2 12\n",
      "6 3 18\n",
      "6 4 24\n",
      "6 5 30\n",
      "6 6 36\n",
      "6 7 42\n",
      "6 8 48\n",
      "6 9 54\n",
      "7 1 7\n",
      "7 2 14\n",
      "7 3 21\n",
      "7 4 28\n",
      "7 5 35\n",
      "7 6 42\n",
      "7 7 49\n",
      "7 8 56\n",
      "7 9 63\n",
      "8 1 8\n",
      "8 2 16\n",
      "8 3 24\n",
      "8 4 32\n",
      "8 5 40\n",
      "8 6 48\n",
      "8 7 56\n",
      "8 8 64\n",
      "8 9 72\n",
      "9 1 9\n",
      "9 2 18\n",
      "9 3 27\n",
      "9 4 36\n",
      "9 5 45\n",
      "9 6 54\n",
      "9 7 63\n",
      "9 8 72\n",
      "9 9 81\n"
     ]
    }
   ],
   "source": [
    "for x in range (1,10):\n",
    "    for y in range(1,10):\n",
    "        print (x,y,x*y)"
   ]
  },
  {
   "cell_type": "markdown",
   "metadata": {},
   "source": [
    "구구단?"
   ]
  },
  {
   "cell_type": "code",
   "execution_count": 75,
   "metadata": {},
   "outputs": [
    {
     "name": "stdout",
     "output_type": "stream",
     "text": [
      "1 1 1\n",
      "1 2 2\n",
      "1 3 3\n",
      "1 4 4\n",
      "1 5 5\n",
      "1 6 6\n",
      "1 7 7\n",
      "1 8 8\n",
      "1 9 9\n",
      "2 1 2\n",
      "2 2 4\n",
      "2 3 6\n",
      "2 4 8\n",
      "2 5 10\n",
      "2 6 12\n",
      "2 7 14\n",
      "2 8 16\n",
      "2 9 18\n",
      "3 1 3\n",
      "3 2 6\n",
      "3 3 9\n",
      "3 4 12\n",
      "3 5 15\n",
      "3 6 18\n",
      "3 7 21\n",
      "3 8 24\n",
      "3 9 27\n",
      "4 1 4\n",
      "4 2 8\n",
      "4 3 12\n",
      "4 4 16\n",
      "4 5 20\n",
      "4 6 24\n",
      "4 7 28\n",
      "4 8 32\n",
      "4 9 36\n",
      "5 1 5\n",
      "5 2 10\n",
      "5 3 15\n",
      "5 4 20\n",
      "5 5 25\n",
      "5 6 30\n",
      "5 7 35\n",
      "5 8 40\n",
      "5 9 45\n",
      "6 1 6\n",
      "6 2 12\n",
      "6 3 18\n",
      "6 4 24\n",
      "6 5 30\n",
      "6 6 36\n",
      "6 7 42\n",
      "6 8 48\n",
      "6 9 54\n",
      "7 1 7\n",
      "7 2 14\n",
      "7 3 21\n",
      "7 4 28\n",
      "7 5 35\n",
      "7 6 42\n",
      "7 7 49\n",
      "7 8 56\n",
      "7 9 63\n",
      "8 1 8\n",
      "8 2 16\n",
      "8 3 24\n",
      "8 4 32\n",
      "8 5 40\n",
      "8 6 48\n",
      "8 7 56\n",
      "8 8 64\n",
      "8 9 72\n",
      "9 1 9\n",
      "9 2 18\n",
      "9 3 27\n",
      "9 4 36\n",
      "9 5 45\n",
      "9 6 54\n",
      "9 7 63\n",
      "9 8 72\n",
      "9 9 81\n"
     ]
    }
   ],
   "source": [
    "for x in range (1,10):\n",
    "    for y in range(1,10):\n",
    "        print (x,y,x*y)"
   ]
  },
  {
   "cell_type": "markdown",
   "metadata": {},
   "source": [
    "1부터 5까지만 계산하려면 어떻게 코드를 고쳐야 할까? "
   ]
  },
  {
   "cell_type": "code",
   "execution_count": 135,
   "metadata": {},
   "outputs": [
    {
     "name": "stdout",
     "output_type": "stream",
     "text": [
      "1\n",
      "1 1 1\n",
      "1\n",
      "1 2 2\n",
      "1\n",
      "1 3 3\n",
      "1\n",
      "1 4 4\n",
      "2\n",
      "2 1 2\n",
      "2\n",
      "2 2 4\n",
      "2\n",
      "2 3 6\n",
      "2\n",
      "2 4 8\n",
      "3\n",
      "3 1 3\n",
      "3\n",
      "3 2 6\n",
      "3\n",
      "3 3 9\n",
      "3\n",
      "3 4 12\n",
      "4\n",
      "4 1 4\n",
      "4\n",
      "4 2 8\n",
      "4\n",
      "4 3 12\n",
      "4\n",
      "4 4 16\n",
      "5\n",
      "5 1 5\n",
      "5\n",
      "5 2 10\n",
      "5\n",
      "5 3 15\n",
      "5\n",
      "5 4 20\n",
      "6\n",
      "6 1 6\n",
      "6\n",
      "6 2 12\n",
      "6\n",
      "6 3 18\n",
      "6\n",
      "6 4 24\n",
      "7\n",
      "7 1 7\n",
      "7\n",
      "7 2 14\n",
      "7\n",
      "7 3 21\n",
      "7\n",
      "7 4 28\n",
      "8\n",
      "8 1 8\n",
      "8\n",
      "8 2 16\n",
      "8\n",
      "8 3 24\n",
      "8\n",
      "8 4 32\n",
      "9\n",
      "9 1 9\n",
      "9\n",
      "9 2 18\n",
      "9\n",
      "9 3 27\n",
      "9\n",
      "9 4 36\n"
     ]
    }
   ],
   "source": [
    "for x in range (1,10):\n",
    "    for y in range(1,5):\n",
    "        print (x)\n",
    "        print (x,y,x*y)"
   ]
  },
  {
   "cell_type": "markdown",
   "metadata": {},
   "source": [
    "## 조건문 if \n",
    "\n",
    "컴퓨터 언어의 기본은 판단 \n",
    "구구단의 결과 중에서 50 보다 큰 값만 출력하고 싶다면? \n"
   ]
  },
  {
   "cell_type": "code",
   "execution_count": 141,
   "metadata": {},
   "outputs": [
    {
     "name": "stdout",
     "output_type": "stream",
     "text": [
      "1 1 1\n",
      "1 2 2\n",
      "1 3 3\n",
      "1 4 4\n",
      "1 5 5\n",
      "1 6 6\n",
      "1 7 7\n",
      "1 8 8\n",
      "1 9 9\n",
      "3 1 3\n",
      "3 2 6\n",
      "3 3 9\n",
      "3 4 12\n",
      "3 5 15\n",
      "3 6 18\n",
      "3 7 21\n",
      "3 8 24\n",
      "3 9 27\n",
      "4 1 4\n",
      "4 2 8\n",
      "4 3 12\n",
      "4 4 16\n",
      "4 5 20\n",
      "4 6 24\n",
      "4 7 28\n",
      "4 8 32\n",
      "4 9 36\n",
      "5 1 5\n",
      "5 2 10\n",
      "5 3 15\n",
      "5 4 20\n",
      "5 5 25\n",
      "5 6 30\n",
      "5 7 35\n",
      "5 8 40\n",
      "5 9 45\n",
      "6 1 6\n",
      "6 2 12\n",
      "6 3 18\n",
      "6 4 24\n",
      "6 5 30\n",
      "6 6 36\n",
      "6 7 42\n",
      "6 8 48\n",
      "6 9 54\n",
      "7 1 7\n",
      "7 2 14\n",
      "7 3 21\n",
      "7 4 28\n",
      "7 5 35\n",
      "7 6 42\n",
      "7 7 49\n",
      "7 8 56\n",
      "7 9 63\n",
      "8 1 8\n",
      "8 2 16\n",
      "8 3 24\n",
      "8 4 32\n",
      "8 5 40\n",
      "8 6 48\n",
      "8 7 56\n",
      "8 8 64\n",
      "8 9 72\n",
      "9 1 9\n",
      "9 2 18\n",
      "9 3 27\n",
      "9 4 36\n",
      "9 5 45\n",
      "9 6 54\n",
      "9 7 63\n",
      "9 8 72\n",
      "9 9 81\n"
     ]
    }
   ],
   "source": [
    "for x in range (1,10):\n",
    "    for y in range(1,10):\n",
    "        #만약 x와 y를 곱한 값이 50보다 크면 \n",
    "        if x != 2:\n",
    "            #x,y, 그리고 x*y 값을 출력해라 \n",
    "            print (x,y,x*y)"
   ]
  },
  {
   "cell_type": "markdown",
   "metadata": {},
   "source": [
    "#조건문과 딕셔너리를 결합 "
   ]
  },
  {
   "cell_type": "code",
   "execution_count": 142,
   "metadata": {},
   "outputs": [
    {
     "name": "stdout",
     "output_type": "stream",
     "text": [
      "권은비 1995\n",
      "미야와키 사쿠라 1998\n",
      "강혜원 1999\n",
      "최예나 1999\n",
      "이채연 2000\n",
      "김채원 2000\n",
      "김민주 2001\n",
      "야부키 나코 2001\n",
      "혼다 히토미 2001\n",
      "조유리 2001\n",
      "안유진 2003\n",
      "장원영 2004\n"
     ]
    }
   ],
   "source": [
    "#모 걸그룹의 멤버와 출생년도를 딕셔너리 형태로 저장한다. \n",
    "izone = {'권은비':1995, \n",
    "         '미야와키 사쿠라':1998, \n",
    "         '강혜원':1999, \n",
    "         '최예나':1999, \n",
    "         '이채연':2000, \n",
    "         '김채원':2000, \n",
    "         '김민주':2001, \n",
    "         '야부키 나코':2001, \n",
    "         '혼다 히토미':2001, \n",
    "         '조유리':2001, \n",
    "         '안유진':2003, \n",
    "         '장원영':2004}\n",
    "\n",
    "#딕셔너리의 키와 값들을 하나씩 훑어본다. \n",
    "for key,value in izone.items():\n",
    "    print (key,value)"
   ]
  },
  {
   "cell_type": "markdown",
   "metadata": {},
   "source": [
    "2000년생 이전 멤버만 출력하고 싶다면?"
   ]
  },
  {
   "cell_type": "code",
   "execution_count": 145,
   "metadata": {},
   "outputs": [
    {
     "name": "stdout",
     "output_type": "stream",
     "text": [
      "이채연 2000\n",
      "김채원 2000\n",
      "김민주 2001\n",
      "야부키 나코 2001\n",
      "혼다 히토미 2001\n",
      "조유리 2001\n",
      "안유진 2003\n",
      "장원영 2004\n"
     ]
    }
   ],
   "source": [
    "for key,value in izone.items():\n",
    "    if value>=2000:\n",
    "        print (key,value)"
   ]
  },
  {
   "cell_type": "markdown",
   "metadata": {},
   "source": [
    "'야부키 나코' 보다 동생만 출력하고 싶다면?"
   ]
  },
  {
   "cell_type": "code",
   "execution_count": 149,
   "metadata": {},
   "outputs": [
    {
     "data": {
      "text/plain": [
       "2001"
      ]
     },
     "execution_count": 149,
     "metadata": {},
     "output_type": "execute_result"
    }
   ],
   "source": [
    "#nako라는 변수에 '야부키 나코'의 나이를 저장하고 \n",
    "\n",
    "nako=izone['야부키 나코']\n",
    "nako"
   ]
  },
  {
   "cell_type": "code",
   "execution_count": 154,
   "metadata": {},
   "outputs": [
    {
     "name": "stdout",
     "output_type": "stream",
     "text": [
      "권은비 1995\n",
      "미야와키 사쿠라 1998\n",
      "강혜원 1999\n",
      "최예나 1999\n",
      "이채연 2000\n",
      "김채원 2000\n",
      "안유진 2003\n",
      "장원영 2004\n"
     ]
    }
   ],
   "source": [
    "for key,value in izone.items():\n",
    "    if nako!=value:\n",
    "        print (key,value)"
   ]
  },
  {
   "cell_type": "markdown",
   "metadata": {},
   "source": [
    "## if..else\n",
    "\n",
    "만약...이면 이걸 하고 아니면 저걸 한다. "
   ]
  },
  {
   "cell_type": "code",
   "execution_count": 155,
   "metadata": {},
   "outputs": [
    {
     "name": "stdout",
     "output_type": "stream",
     "text": [
      "권은비 동갑 아니면 언니\n",
      "미야와키 사쿠라 동갑 아니면 언니\n",
      "강혜원 동갑 아니면 언니\n",
      "최예나 동갑 아니면 언니\n",
      "이채연 동갑 아니면 언니\n",
      "김채원 동갑 아니면 언니\n",
      "김민주 동갑 아니면 언니\n",
      "야부키 나코 동갑 아니면 언니\n",
      "혼다 히토미 동갑 아니면 언니\n",
      "조유리 동갑 아니면 언니\n",
      "안유진 동생\n",
      "장원영 동생\n"
     ]
    }
   ],
   "source": [
    "for key,value in izone.items():\n",
    "    if nako<value:\n",
    "        print (key+\" 동생\")\n",
    "    else:\n",
    "        print (key+\" 동갑 아니면 언니\")"
   ]
  },
  {
   "cell_type": "markdown",
   "metadata": {},
   "source": [
    "만약 조건 A면 (if) A를 하고 만약 조건 B면 (elif) B를 하고..이도저도 아니면 (else) C를 한다 "
   ]
  },
  {
   "cell_type": "code",
   "execution_count": 156,
   "metadata": {},
   "outputs": [
    {
     "name": "stdout",
     "output_type": "stream",
     "text": [
      "권은비 언니\n",
      "미야와키 사쿠라 언니\n",
      "강혜원 언니\n",
      "최예나 언니\n",
      "이채연 언니\n",
      "김채원 언니\n",
      "김민주 동갑\n",
      "야부키 나코 동갑\n",
      "혼다 히토미 동갑\n",
      "조유리 동갑\n",
      "안유진 동생\n",
      "장원영 동생\n"
     ]
    }
   ],
   "source": [
    "for key,value in izone.items():\n",
    "    if nako<value:\n",
    "        print (key+\" 동생\")\n",
    "    elif nako==value:\n",
    "        print (key+\" 동갑\")\n",
    "    else:\n",
    "        print (key+\" 언니\")"
   ]
  },
  {
   "cell_type": "markdown",
   "metadata": {},
   "source": [
    "## 연습문제 \n",
    "\n",
    "'미야와키 사쿠라' (혹은 아무 멤버와) 다른 모든 멤버와의 나이를 출력해보자. "
   ]
  },
  {
   "cell_type": "code",
   "execution_count": 159,
   "metadata": {},
   "outputs": [],
   "source": [
    "#아래 스크립트를 고쳐서...\n",
    "\n",
    "izone = {'권은비':1995, \n",
    "         '미야와키 사쿠라':1998, \n",
    "         '강혜원':1999, \n",
    "         '최예나':1999, \n",
    "         '이채연':2000, \n",
    "         '김채원':2000, \n",
    "         '김민주':2001, \n",
    "         '야부키 나코':2001, \n",
    "         '혼다 히토미':2001, \n",
    "         '조유리':2001, \n",
    "         '안유진':2003, \n",
    "         '장원영':2004}\n",
    "\n",
    "#미야와키 사쿠라의 이름을 'OnePick'이라는 변수에 저장하고 \n",
    "OnePick = '미야와키 사쿠라'\n",
    "\n",
    "#미야와키 사쿠라의 나이를 딕셔너리에서 불러온다. \n",
    "OnePickYear = izone[OnePick]\n",
    "\n",
    "\n",
    "    "
   ]
  },
  {
   "cell_type": "code",
   "execution_count": 162,
   "metadata": {},
   "outputs": [
    {
     "name": "stdout",
     "output_type": "stream",
     "text": [
      "권은비 3\n",
      "미야와키 사쿠라 0\n",
      "강혜원 -1\n",
      "최예나 -1\n",
      "이채연 -2\n",
      "김채원 -2\n",
      "김민주 -3\n",
      "야부키 나코 -3\n",
      "혼다 히토미 -3\n",
      "조유리 -3\n",
      "안유진 -5\n",
      "장원영 -6\n"
     ]
    }
   ],
   "source": [
    "for key,value in izone.items():\n",
    "    print (key, OnePickYear-value)\n",
    "    #여기서 다음 출력이 나오려면 어떻게 입력해야 할까? "
   ]
  },
  {
   "cell_type": "markdown",
   "metadata": {},
   "source": [
    "덕질은 그만하고...\n",
    "이제 좀 연구에 가까운 것을 해보자 (...)"
   ]
  },
  {
   "cell_type": "code",
   "execution_count": 163,
   "metadata": {},
   "outputs": [],
   "source": [
    "seq=\"\"\"MEEPQSDPSVEPPLSQETFSDLWKLLPENNVLSPLPSQAMDDLMLSPDDIEQWFTEDPGPDEAPRMPEAAPPVAPAPAAPTPAAPAPAPSWPLSSSVPSQKTYQGSYGFRLGFLHSGTAKSVTCTYSPALNKMFCQLAKTCPVQLWVDSTPPPGTRVRAMAIYKQSQHMTEVVRRCPHHERCSDSDGLAPPQHLIRVEGNLRVEYLDDRNTFRHSVVVPYEPPEVGSDCTTIHYNYMCNSSCMGGMNRRPILTIITLEDSSGNLLGRNSFEVRVCACPGRDRRTEEENLRKKGEPHHELPPGSTKRALPNNTSSSPQPKKKPLDGEYFTLQIRGRERFEMFRELNEALELKDAQAGKEPGGSRAHSSHLKSKKGQSTSRHKKLMFKTEGPDSD\"\"\""
   ]
  },
  {
   "cell_type": "code",
   "execution_count": 165,
   "metadata": {},
   "outputs": [
    {
     "data": {
      "text/plain": [
       "393"
      ]
     },
     "execution_count": 165,
     "metadata": {},
     "output_type": "execute_result"
    }
   ],
   "source": [
    "len(seq)"
   ]
  },
  {
   "cell_type": "markdown",
   "metadata": {},
   "source": [
    "이 아미노산의 길이는?"
   ]
  },
  {
   "cell_type": "code",
   "execution_count": 171,
   "metadata": {},
   "outputs": [
    {
     "name": "stdout",
     "output_type": "stream",
     "text": [
      "M\n",
      "131.19\n",
      "E\n",
      "129.12\n",
      "E\n",
      "129.12\n",
      "P\n",
      "97.12\n",
      "Q\n",
      "128.14\n",
      "S\n",
      "87.08\n",
      "D\n",
      "115.09\n",
      "P\n",
      "97.12\n",
      "S\n",
      "87.08\n",
      "V\n",
      "99.14\n",
      "E\n",
      "129.12\n",
      "P\n",
      "97.12\n",
      "P\n",
      "97.12\n",
      "L\n",
      "113.16\n",
      "S\n",
      "87.08\n",
      "Q\n",
      "128.14\n",
      "E\n",
      "129.12\n",
      "T\n",
      "101.11\n",
      "F\n",
      "147.18\n",
      "S\n",
      "87.08\n",
      "D\n",
      "115.09\n",
      "L\n",
      "113.16\n",
      "W\n",
      "186.21\n",
      "K\n",
      "128.17\n",
      "L\n",
      "113.16\n",
      "L\n",
      "113.16\n",
      "P\n",
      "97.12\n",
      "E\n",
      "129.12\n",
      "N\n",
      "114.11\n",
      "N\n",
      "114.11\n",
      "V\n",
      "99.14\n",
      "L\n",
      "113.16\n",
      "S\n",
      "87.08\n",
      "P\n",
      "97.12\n",
      "L\n",
      "113.16\n",
      "P\n",
      "97.12\n",
      "S\n",
      "87.08\n",
      "Q\n",
      "128.14\n",
      "A\n",
      "71.09\n",
      "M\n",
      "131.19\n",
      "D\n",
      "115.09\n",
      "D\n",
      "115.09\n",
      "L\n",
      "113.16\n",
      "M\n",
      "131.19\n",
      "L\n",
      "113.16\n",
      "S\n",
      "87.08\n",
      "P\n",
      "97.12\n",
      "D\n",
      "115.09\n",
      "D\n",
      "115.09\n",
      "I\n",
      "113.16\n",
      "E\n",
      "129.12\n",
      "Q\n",
      "128.14\n",
      "W\n",
      "186.21\n",
      "F\n",
      "147.18\n",
      "T\n",
      "101.11\n",
      "E\n",
      "129.12\n",
      "D\n",
      "115.09\n",
      "P\n",
      "97.12\n",
      "G\n",
      "57.05\n",
      "P\n",
      "97.12\n",
      "D\n",
      "115.09\n",
      "E\n",
      "129.12\n",
      "A\n",
      "71.09\n",
      "P\n",
      "97.12\n",
      "R\n",
      "156.19\n",
      "M\n",
      "131.19\n",
      "P\n",
      "97.12\n",
      "E\n",
      "129.12\n",
      "A\n",
      "71.09\n",
      "A\n",
      "71.09\n",
      "P\n",
      "97.12\n",
      "P\n",
      "97.12\n",
      "V\n",
      "99.14\n",
      "A\n",
      "71.09\n",
      "P\n",
      "97.12\n",
      "A\n",
      "71.09\n",
      "P\n",
      "97.12\n",
      "A\n",
      "71.09\n",
      "A\n",
      "71.09\n",
      "P\n",
      "97.12\n",
      "T\n",
      "101.11\n",
      "P\n",
      "97.12\n",
      "A\n",
      "71.09\n",
      "A\n",
      "71.09\n",
      "P\n",
      "97.12\n",
      "A\n",
      "71.09\n",
      "P\n",
      "97.12\n",
      "A\n",
      "71.09\n",
      "P\n",
      "97.12\n",
      "S\n",
      "87.08\n",
      "W\n",
      "186.21\n",
      "P\n",
      "97.12\n",
      "L\n",
      "113.16\n",
      "S\n",
      "87.08\n",
      "S\n",
      "87.08\n",
      "S\n",
      "87.08\n",
      "V\n",
      "99.14\n",
      "P\n",
      "97.12\n",
      "S\n",
      "87.08\n",
      "Q\n",
      "128.14\n",
      "K\n",
      "128.17\n",
      "T\n",
      "101.11\n",
      "Y\n",
      "163.18\n",
      "Q\n",
      "128.14\n",
      "G\n",
      "57.05\n",
      "S\n",
      "87.08\n",
      "Y\n",
      "163.18\n",
      "G\n",
      "57.05\n",
      "F\n",
      "147.18\n",
      "R\n",
      "156.19\n",
      "L\n",
      "113.16\n",
      "G\n",
      "57.05\n",
      "F\n",
      "147.18\n",
      "L\n",
      "113.16\n",
      "H\n",
      "137.14\n",
      "S\n",
      "87.08\n",
      "G\n",
      "57.05\n",
      "T\n",
      "101.11\n",
      "A\n",
      "71.09\n",
      "K\n",
      "128.17\n",
      "S\n",
      "87.08\n",
      "V\n",
      "99.14\n",
      "T\n",
      "101.11\n",
      "C\n",
      "103.15\n",
      "T\n",
      "101.11\n",
      "Y\n",
      "163.18\n",
      "S\n",
      "87.08\n",
      "P\n",
      "97.12\n",
      "A\n",
      "71.09\n",
      "L\n",
      "113.16\n",
      "N\n",
      "114.11\n",
      "K\n",
      "128.17\n",
      "M\n",
      "131.19\n",
      "F\n",
      "147.18\n",
      "C\n",
      "103.15\n",
      "Q\n",
      "128.14\n",
      "L\n",
      "113.16\n",
      "A\n",
      "71.09\n",
      "K\n",
      "128.17\n",
      "T\n",
      "101.11\n",
      "C\n",
      "103.15\n",
      "P\n",
      "97.12\n",
      "V\n",
      "99.14\n",
      "Q\n",
      "128.14\n",
      "L\n",
      "113.16\n",
      "W\n",
      "186.21\n",
      "V\n",
      "99.14\n",
      "D\n",
      "115.09\n",
      "S\n",
      "87.08\n",
      "T\n",
      "101.11\n",
      "P\n",
      "97.12\n",
      "P\n",
      "97.12\n",
      "P\n",
      "97.12\n",
      "G\n",
      "57.05\n",
      "T\n",
      "101.11\n",
      "R\n",
      "156.19\n",
      "V\n",
      "99.14\n",
      "R\n",
      "156.19\n",
      "A\n",
      "71.09\n",
      "M\n",
      "131.19\n",
      "A\n",
      "71.09\n",
      "I\n",
      "113.16\n",
      "Y\n",
      "163.18\n",
      "K\n",
      "128.17\n",
      "Q\n",
      "128.14\n",
      "S\n",
      "87.08\n",
      "Q\n",
      "128.14\n",
      "H\n",
      "137.14\n",
      "M\n",
      "131.19\n",
      "T\n",
      "101.11\n",
      "E\n",
      "129.12\n",
      "V\n",
      "99.14\n",
      "V\n",
      "99.14\n",
      "R\n",
      "156.19\n",
      "R\n",
      "156.19\n",
      "C\n",
      "103.15\n",
      "P\n",
      "97.12\n",
      "H\n",
      "137.14\n",
      "H\n",
      "137.14\n",
      "E\n",
      "129.12\n",
      "R\n",
      "156.19\n",
      "C\n",
      "103.15\n",
      "S\n",
      "87.08\n",
      "D\n",
      "115.09\n",
      "S\n",
      "87.08\n",
      "D\n",
      "115.09\n",
      "G\n",
      "57.05\n",
      "L\n",
      "113.16\n",
      "A\n",
      "71.09\n",
      "P\n",
      "97.12\n",
      "P\n",
      "97.12\n",
      "Q\n",
      "128.14\n",
      "H\n",
      "137.14\n",
      "L\n",
      "113.16\n",
      "I\n",
      "113.16\n",
      "R\n",
      "156.19\n",
      "V\n",
      "99.14\n",
      "E\n",
      "129.12\n",
      "G\n",
      "57.05\n",
      "N\n",
      "114.11\n",
      "L\n",
      "113.16\n",
      "R\n",
      "156.19\n",
      "V\n",
      "99.14\n",
      "E\n",
      "129.12\n",
      "Y\n",
      "163.18\n",
      "L\n",
      "113.16\n",
      "D\n",
      "115.09\n",
      "D\n",
      "115.09\n",
      "R\n",
      "156.19\n",
      "N\n",
      "114.11\n",
      "T\n",
      "101.11\n",
      "F\n",
      "147.18\n",
      "R\n",
      "156.19\n",
      "H\n",
      "137.14\n",
      "S\n",
      "87.08\n",
      "V\n",
      "99.14\n",
      "V\n",
      "99.14\n",
      "V\n",
      "99.14\n",
      "P\n",
      "97.12\n",
      "Y\n",
      "163.18\n",
      "E\n",
      "129.12\n",
      "P\n",
      "97.12\n",
      "P\n",
      "97.12\n",
      "E\n",
      "129.12\n",
      "V\n",
      "99.14\n",
      "G\n",
      "57.05\n",
      "S\n",
      "87.08\n",
      "D\n",
      "115.09\n",
      "C\n",
      "103.15\n",
      "T\n",
      "101.11\n",
      "T\n",
      "101.11\n",
      "I\n",
      "113.16\n",
      "H\n",
      "137.14\n",
      "Y\n",
      "163.18\n",
      "N\n",
      "114.11\n",
      "Y\n",
      "163.18\n",
      "M\n",
      "131.19\n",
      "C\n",
      "103.15\n",
      "N\n",
      "114.11\n",
      "S\n",
      "87.08\n",
      "S\n",
      "87.08\n",
      "C\n",
      "103.15\n",
      "M\n",
      "131.19\n",
      "G\n",
      "57.05\n",
      "G\n",
      "57.05\n",
      "M\n",
      "131.19\n",
      "N\n",
      "114.11\n",
      "R\n",
      "156.19\n",
      "R\n",
      "156.19\n",
      "P\n",
      "97.12\n",
      "I\n",
      "113.16\n",
      "L\n",
      "113.16\n",
      "T\n",
      "101.11\n",
      "I\n",
      "113.16\n",
      "I\n",
      "113.16\n",
      "T\n",
      "101.11\n",
      "L\n",
      "113.16\n",
      "E\n",
      "129.12\n",
      "D\n",
      "115.09\n",
      "S\n",
      "87.08\n",
      "S\n",
      "87.08\n",
      "G\n",
      "57.05\n",
      "N\n",
      "114.11\n",
      "L\n",
      "113.16\n",
      "L\n",
      "113.16\n",
      "G\n",
      "57.05\n",
      "R\n",
      "156.19\n",
      "N\n",
      "114.11\n",
      "S\n",
      "87.08\n",
      "F\n",
      "147.18\n",
      "E\n",
      "129.12\n",
      "V\n",
      "99.14\n",
      "R\n",
      "156.19\n",
      "V\n",
      "99.14\n",
      "C\n",
      "103.15\n",
      "A\n",
      "71.09\n",
      "C\n",
      "103.15\n",
      "P\n",
      "97.12\n",
      "G\n",
      "57.05\n",
      "R\n",
      "156.19\n",
      "D\n",
      "115.09\n",
      "R\n",
      "156.19\n",
      "R\n",
      "156.19\n",
      "T\n",
      "101.11\n",
      "E\n",
      "129.12\n",
      "E\n",
      "129.12\n",
      "E\n",
      "129.12\n",
      "N\n",
      "114.11\n",
      "L\n",
      "113.16\n",
      "R\n",
      "156.19\n",
      "K\n",
      "128.17\n",
      "K\n",
      "128.17\n",
      "G\n",
      "57.05\n",
      "E\n",
      "129.12\n",
      "P\n",
      "97.12\n",
      "H\n",
      "137.14\n",
      "H\n",
      "137.14\n",
      "E\n",
      "129.12\n",
      "L\n",
      "113.16\n",
      "P\n",
      "97.12\n",
      "P\n",
      "97.12\n",
      "G\n",
      "57.05\n",
      "S\n",
      "87.08\n",
      "T\n",
      "101.11\n",
      "K\n",
      "128.17\n",
      "R\n",
      "156.19\n",
      "A\n",
      "71.09\n",
      "L\n",
      "113.16\n",
      "P\n",
      "97.12\n",
      "N\n",
      "114.11\n",
      "N\n",
      "114.11\n",
      "T\n",
      "101.11\n",
      "S\n",
      "87.08\n",
      "S\n",
      "87.08\n",
      "S\n",
      "87.08\n",
      "P\n",
      "97.12\n",
      "Q\n",
      "128.14\n",
      "P\n",
      "97.12\n",
      "K\n",
      "128.17\n",
      "K\n",
      "128.17\n",
      "K\n",
      "128.17\n",
      "P\n",
      "97.12\n",
      "L\n",
      "113.16\n",
      "D\n",
      "115.09\n",
      "G\n",
      "57.05\n",
      "E\n",
      "129.12\n",
      "Y\n",
      "163.18\n",
      "F\n",
      "147.18\n",
      "T\n",
      "101.11\n",
      "L\n",
      "113.16\n",
      "Q\n",
      "128.14\n",
      "I\n",
      "113.16\n",
      "R\n",
      "156.19\n",
      "G\n",
      "57.05\n",
      "R\n",
      "156.19\n",
      "E\n",
      "129.12\n",
      "R\n",
      "156.19\n",
      "F\n",
      "147.18\n",
      "E\n",
      "129.12\n",
      "M\n",
      "131.19\n",
      "F\n",
      "147.18\n",
      "R\n",
      "156.19\n",
      "E\n",
      "129.12\n",
      "L\n",
      "113.16\n",
      "N\n",
      "114.11\n",
      "E\n",
      "129.12\n",
      "A\n",
      "71.09\n",
      "L\n",
      "113.16\n",
      "E\n",
      "129.12\n",
      "L\n",
      "113.16\n",
      "K\n",
      "128.17\n",
      "D\n",
      "115.09\n",
      "A\n",
      "71.09\n",
      "Q\n",
      "128.14\n",
      "A\n",
      "71.09\n",
      "G\n",
      "57.05\n",
      "K\n",
      "128.17\n",
      "E\n",
      "129.12\n",
      "P\n",
      "97.12\n",
      "G\n",
      "57.05\n",
      "G\n",
      "57.05\n",
      "S\n",
      "87.08\n",
      "R\n",
      "156.19\n",
      "A\n",
      "71.09\n",
      "H\n",
      "137.14\n",
      "S\n",
      "87.08\n",
      "S\n",
      "87.08\n",
      "H\n",
      "137.14\n",
      "L\n",
      "113.16\n",
      "K\n",
      "128.17\n",
      "S\n",
      "87.08\n",
      "K\n",
      "128.17\n",
      "K\n",
      "128.17\n",
      "G\n",
      "57.05\n",
      "Q\n",
      "128.14\n",
      "S\n",
      "87.08\n",
      "T\n",
      "101.11\n",
      "S\n",
      "87.08\n",
      "R\n",
      "156.19\n",
      "H\n",
      "137.14\n",
      "K\n",
      "128.17\n",
      "K\n",
      "128.17\n",
      "L\n",
      "113.16\n",
      "M\n",
      "131.19\n",
      "F\n",
      "147.18\n",
      "K\n",
      "128.17\n",
      "T\n",
      "101.11\n",
      "E\n",
      "129.12\n",
      "G\n",
      "57.05\n",
      "P\n",
      "97.12\n",
      "D\n",
      "115.09\n",
      "S\n",
      "87.08\n",
      "D\n",
      "115.09\n"
     ]
    }
   ],
   "source": [
    "MolecularWeight = 0\n",
    "for aa in seq:\n",
    "    print (aa)\n",
    "    print (MW[aa])\n",
    "    MolecularWeight = MolecularWeight + MW[aa]"
   ]
  },
  {
   "cell_type": "markdown",
   "metadata": {},
   "source": [
    "이 단백질의 분자량을 계산해 보자. \n",
    "각각의 아미노산의 분자량을 딕셔너리로 저장하고..."
   ]
  },
  {
   "cell_type": "code",
   "execution_count": 172,
   "metadata": {},
   "outputs": [
    {
     "data": {
      "text/plain": [
       "43636.37000000006"
      ]
     },
     "execution_count": 172,
     "metadata": {},
     "output_type": "execute_result"
    }
   ],
   "source": [
    "MolecularWeight"
   ]
  },
  {
   "cell_type": "code",
   "execution_count": 166,
   "metadata": {},
   "outputs": [],
   "source": [
    "MW = {'G':57.05,\n",
    "      'A':71.09,\n",
    "      'S':87.08,\n",
    "      'T':101.11,\n",
    "      'C':103.15,\n",
    "      'V':99.14,\n",
    "      'L':113.16,\n",
    "      'I':113.16,\n",
    "      'M':131.19,\n",
    "      'P':97.12,\n",
    "      'F':147.18,\n",
    "      'Y':163.18,\n",
    "      'W':186.21,\n",
    "      'D':115.09,\n",
    "      'E':129.12,\n",
    "      'N':114.11,\n",
    "      'Q':128.14,\n",
    "      'H':137.14,\n",
    "      'K':128.17,\n",
    "      'R':156.19}"
   ]
  },
  {
   "cell_type": "code",
   "execution_count": 167,
   "metadata": {},
   "outputs": [
    {
     "data": {
      "text/plain": [
       "71.09"
      ]
     },
     "execution_count": 167,
     "metadata": {},
     "output_type": "execute_result"
    }
   ],
   "source": [
    "MW['A']"
   ]
  },
  {
   "cell_type": "code",
   "execution_count": 168,
   "metadata": {},
   "outputs": [
    {
     "data": {
      "text/plain": [
       "128.17"
      ]
     },
     "execution_count": 168,
     "metadata": {},
     "output_type": "execute_result"
    }
   ],
   "source": [
    "MW['K']"
   ]
  },
  {
   "cell_type": "markdown",
   "metadata": {},
   "source": [
    "단백질 서열을 처음부터 한 글자씩 읽은 다음, 이것을 딕셔너리에서 찾는다. \n",
    "찾는 숫자를 다 더한다. "
   ]
  },
  {
   "cell_type": "code",
   "execution_count": 13,
   "metadata": {},
   "outputs": [
    {
     "name": "stdout",
     "output_type": "stream",
     "text": [
      "M\n",
      "E\n",
      "E\n",
      "P\n",
      "Q\n",
      "S\n",
      "D\n",
      "P\n",
      "S\n",
      "V\n",
      "E\n",
      "P\n",
      "P\n",
      "L\n",
      "S\n",
      "Q\n",
      "E\n",
      "T\n",
      "F\n",
      "S\n",
      "D\n",
      "L\n",
      "W\n",
      "K\n",
      "L\n",
      "L\n",
      "P\n",
      "E\n",
      "N\n",
      "N\n",
      "V\n",
      "L\n",
      "S\n",
      "P\n",
      "L\n",
      "P\n",
      "S\n",
      "Q\n",
      "A\n",
      "M\n",
      "D\n",
      "D\n",
      "L\n",
      "M\n",
      "L\n",
      "S\n",
      "P\n",
      "D\n",
      "D\n",
      "I\n",
      "E\n",
      "Q\n",
      "W\n",
      "F\n",
      "T\n",
      "E\n",
      "D\n",
      "P\n",
      "G\n",
      "P\n",
      "D\n",
      "E\n",
      "A\n",
      "P\n",
      "R\n",
      "M\n",
      "P\n",
      "E\n",
      "A\n",
      "A\n",
      "P\n",
      "P\n",
      "V\n",
      "A\n",
      "P\n",
      "A\n",
      "P\n",
      "A\n",
      "A\n",
      "P\n",
      "T\n",
      "P\n",
      "A\n",
      "A\n",
      "P\n",
      "A\n",
      "P\n",
      "A\n",
      "P\n",
      "S\n",
      "W\n",
      "P\n",
      "L\n",
      "S\n",
      "S\n",
      "S\n",
      "V\n",
      "P\n",
      "S\n",
      "Q\n",
      "K\n",
      "T\n",
      "Y\n",
      "Q\n",
      "G\n",
      "S\n",
      "Y\n",
      "G\n",
      "F\n",
      "R\n",
      "L\n",
      "G\n",
      "F\n",
      "L\n",
      "H\n",
      "S\n",
      "G\n",
      "T\n",
      "A\n",
      "K\n",
      "S\n",
      "V\n",
      "T\n",
      "C\n",
      "T\n",
      "Y\n",
      "S\n",
      "P\n",
      "A\n",
      "L\n",
      "N\n",
      "K\n",
      "M\n",
      "F\n",
      "C\n",
      "Q\n",
      "L\n",
      "A\n",
      "K\n",
      "T\n",
      "C\n",
      "P\n",
      "V\n",
      "Q\n",
      "L\n",
      "W\n",
      "V\n",
      "D\n",
      "S\n",
      "T\n",
      "P\n",
      "P\n",
      "P\n",
      "G\n",
      "T\n",
      "R\n",
      "V\n",
      "R\n",
      "A\n",
      "M\n",
      "A\n",
      "I\n",
      "Y\n",
      "K\n",
      "Q\n",
      "S\n",
      "Q\n",
      "H\n",
      "M\n",
      "T\n",
      "E\n",
      "V\n",
      "V\n",
      "R\n",
      "R\n",
      "C\n",
      "P\n",
      "H\n",
      "H\n",
      "E\n",
      "R\n",
      "C\n",
      "S\n",
      "D\n",
      "S\n",
      "D\n",
      "G\n",
      "L\n",
      "A\n",
      "P\n",
      "P\n",
      "Q\n",
      "H\n",
      "L\n",
      "I\n",
      "R\n",
      "V\n",
      "E\n",
      "G\n",
      "N\n",
      "L\n",
      "R\n",
      "V\n",
      "E\n",
      "Y\n",
      "L\n",
      "D\n",
      "D\n",
      "R\n",
      "N\n",
      "T\n",
      "F\n",
      "R\n",
      "H\n",
      "S\n",
      "V\n",
      "V\n",
      "V\n",
      "P\n",
      "Y\n",
      "E\n",
      "P\n",
      "P\n",
      "E\n",
      "V\n",
      "G\n",
      "S\n",
      "D\n",
      "C\n",
      "T\n",
      "T\n",
      "I\n",
      "H\n",
      "Y\n",
      "N\n",
      "Y\n",
      "M\n",
      "C\n",
      "N\n",
      "S\n",
      "S\n",
      "C\n",
      "M\n",
      "G\n",
      "G\n",
      "M\n",
      "N\n",
      "R\n",
      "R\n",
      "P\n",
      "I\n",
      "L\n",
      "T\n",
      "I\n",
      "I\n",
      "T\n",
      "L\n",
      "E\n",
      "D\n",
      "S\n",
      "S\n",
      "G\n",
      "N\n",
      "L\n",
      "L\n",
      "G\n",
      "R\n",
      "N\n",
      "S\n",
      "F\n",
      "E\n",
      "V\n",
      "R\n",
      "V\n",
      "C\n",
      "A\n",
      "C\n",
      "P\n",
      "G\n",
      "R\n",
      "D\n",
      "R\n",
      "R\n",
      "T\n",
      "E\n",
      "E\n",
      "E\n",
      "N\n",
      "L\n",
      "R\n",
      "K\n",
      "K\n",
      "G\n",
      "E\n",
      "P\n",
      "H\n",
      "H\n",
      "E\n",
      "L\n",
      "P\n",
      "P\n",
      "G\n",
      "S\n",
      "T\n",
      "K\n",
      "R\n",
      "A\n",
      "L\n",
      "P\n",
      "N\n",
      "N\n",
      "T\n",
      "S\n",
      "S\n",
      "S\n",
      "P\n",
      "Q\n",
      "P\n",
      "K\n",
      "K\n",
      "K\n",
      "P\n",
      "L\n",
      "D\n",
      "G\n",
      "E\n",
      "Y\n",
      "F\n",
      "T\n",
      "L\n",
      "Q\n",
      "I\n",
      "R\n",
      "G\n",
      "R\n",
      "E\n",
      "R\n",
      "F\n",
      "E\n",
      "M\n",
      "F\n",
      "R\n",
      "E\n",
      "L\n",
      "N\n",
      "E\n",
      "A\n",
      "L\n",
      "E\n",
      "L\n",
      "K\n",
      "D\n",
      "A\n",
      "Q\n",
      "A\n",
      "G\n",
      "K\n",
      "E\n",
      "P\n",
      "G\n",
      "G\n",
      "S\n",
      "R\n",
      "A\n",
      "H\n",
      "S\n",
      "S\n",
      "H\n",
      "L\n",
      "K\n",
      "S\n",
      "K\n",
      "K\n",
      "G\n",
      "Q\n",
      "S\n",
      "T\n",
      "S\n",
      "R\n",
      "H\n",
      "K\n",
      "K\n",
      "L\n",
      "M\n",
      "F\n",
      "K\n",
      "T\n",
      "E\n",
      "G\n",
      "P\n",
      "D\n",
      "S\n",
      "D\n"
     ]
    }
   ],
   "source": [
    "for aa in seq:\n",
    "    print(aa)"
   ]
  },
  {
   "cell_type": "code",
   "execution_count": 173,
   "metadata": {},
   "outputs": [
    {
     "name": "stdout",
     "output_type": "stream",
     "text": [
      "131.19\n",
      "129.12\n",
      "129.12\n",
      "97.12\n",
      "128.14\n",
      "87.08\n",
      "115.09\n",
      "97.12\n",
      "87.08\n",
      "99.14\n",
      "129.12\n",
      "97.12\n",
      "97.12\n",
      "113.16\n",
      "87.08\n",
      "128.14\n",
      "129.12\n",
      "101.11\n",
      "147.18\n",
      "87.08\n",
      "115.09\n",
      "113.16\n",
      "186.21\n",
      "128.17\n",
      "113.16\n",
      "113.16\n",
      "97.12\n",
      "129.12\n",
      "114.11\n",
      "114.11\n",
      "99.14\n",
      "113.16\n",
      "87.08\n",
      "97.12\n",
      "113.16\n",
      "97.12\n",
      "87.08\n",
      "128.14\n",
      "71.09\n",
      "131.19\n",
      "115.09\n",
      "115.09\n",
      "113.16\n",
      "131.19\n",
      "113.16\n",
      "87.08\n",
      "97.12\n",
      "115.09\n",
      "115.09\n",
      "113.16\n",
      "129.12\n",
      "128.14\n",
      "186.21\n",
      "147.18\n",
      "101.11\n",
      "129.12\n",
      "115.09\n",
      "97.12\n",
      "57.05\n",
      "97.12\n",
      "115.09\n",
      "129.12\n",
      "71.09\n",
      "97.12\n",
      "156.19\n",
      "131.19\n",
      "97.12\n",
      "129.12\n",
      "71.09\n",
      "71.09\n",
      "97.12\n",
      "97.12\n",
      "99.14\n",
      "71.09\n",
      "97.12\n",
      "71.09\n",
      "97.12\n",
      "71.09\n",
      "71.09\n",
      "97.12\n",
      "101.11\n",
      "97.12\n",
      "71.09\n",
      "71.09\n",
      "97.12\n",
      "71.09\n",
      "97.12\n",
      "71.09\n",
      "97.12\n",
      "87.08\n",
      "186.21\n",
      "97.12\n",
      "113.16\n",
      "87.08\n",
      "87.08\n",
      "87.08\n",
      "99.14\n",
      "97.12\n",
      "87.08\n",
      "128.14\n",
      "128.17\n",
      "101.11\n",
      "163.18\n",
      "128.14\n",
      "57.05\n",
      "87.08\n",
      "163.18\n",
      "57.05\n",
      "147.18\n",
      "156.19\n",
      "113.16\n",
      "57.05\n",
      "147.18\n",
      "113.16\n",
      "137.14\n",
      "87.08\n",
      "57.05\n",
      "101.11\n",
      "71.09\n",
      "128.17\n",
      "87.08\n",
      "99.14\n",
      "101.11\n",
      "103.15\n",
      "101.11\n",
      "163.18\n",
      "87.08\n",
      "97.12\n",
      "71.09\n",
      "113.16\n",
      "114.11\n",
      "128.17\n",
      "131.19\n",
      "147.18\n",
      "103.15\n",
      "128.14\n",
      "113.16\n",
      "71.09\n",
      "128.17\n",
      "101.11\n",
      "103.15\n",
      "97.12\n",
      "99.14\n",
      "128.14\n",
      "113.16\n",
      "186.21\n",
      "99.14\n",
      "115.09\n",
      "87.08\n",
      "101.11\n",
      "97.12\n",
      "97.12\n",
      "97.12\n",
      "57.05\n",
      "101.11\n",
      "156.19\n",
      "99.14\n",
      "156.19\n",
      "71.09\n",
      "131.19\n",
      "71.09\n",
      "113.16\n",
      "163.18\n",
      "128.17\n",
      "128.14\n",
      "87.08\n",
      "128.14\n",
      "137.14\n",
      "131.19\n",
      "101.11\n",
      "129.12\n",
      "99.14\n",
      "99.14\n",
      "156.19\n",
      "156.19\n",
      "103.15\n",
      "97.12\n",
      "137.14\n",
      "137.14\n",
      "129.12\n",
      "156.19\n",
      "103.15\n",
      "87.08\n",
      "115.09\n",
      "87.08\n",
      "115.09\n",
      "57.05\n",
      "113.16\n",
      "71.09\n",
      "97.12\n",
      "97.12\n",
      "128.14\n",
      "137.14\n",
      "113.16\n",
      "113.16\n",
      "156.19\n",
      "99.14\n",
      "129.12\n",
      "57.05\n",
      "114.11\n",
      "113.16\n",
      "156.19\n",
      "99.14\n",
      "129.12\n",
      "163.18\n",
      "113.16\n",
      "115.09\n",
      "115.09\n",
      "156.19\n",
      "114.11\n",
      "101.11\n",
      "147.18\n",
      "156.19\n",
      "137.14\n",
      "87.08\n",
      "99.14\n",
      "99.14\n",
      "99.14\n",
      "97.12\n",
      "163.18\n",
      "129.12\n",
      "97.12\n",
      "97.12\n",
      "129.12\n",
      "99.14\n",
      "57.05\n",
      "87.08\n",
      "115.09\n",
      "103.15\n",
      "101.11\n",
      "101.11\n",
      "113.16\n",
      "137.14\n",
      "163.18\n",
      "114.11\n",
      "163.18\n",
      "131.19\n",
      "103.15\n",
      "114.11\n",
      "87.08\n",
      "87.08\n",
      "103.15\n",
      "131.19\n",
      "57.05\n",
      "57.05\n",
      "131.19\n",
      "114.11\n",
      "156.19\n",
      "156.19\n",
      "97.12\n",
      "113.16\n",
      "113.16\n",
      "101.11\n",
      "113.16\n",
      "113.16\n",
      "101.11\n",
      "113.16\n",
      "129.12\n",
      "115.09\n",
      "87.08\n",
      "87.08\n",
      "57.05\n",
      "114.11\n",
      "113.16\n",
      "113.16\n",
      "57.05\n",
      "156.19\n",
      "114.11\n",
      "87.08\n",
      "147.18\n",
      "129.12\n",
      "99.14\n",
      "156.19\n",
      "99.14\n",
      "103.15\n",
      "71.09\n",
      "103.15\n",
      "97.12\n",
      "57.05\n",
      "156.19\n",
      "115.09\n",
      "156.19\n",
      "156.19\n",
      "101.11\n",
      "129.12\n",
      "129.12\n",
      "129.12\n",
      "114.11\n",
      "113.16\n",
      "156.19\n",
      "128.17\n",
      "128.17\n",
      "57.05\n",
      "129.12\n",
      "97.12\n",
      "137.14\n",
      "137.14\n",
      "129.12\n",
      "113.16\n",
      "97.12\n",
      "97.12\n",
      "57.05\n",
      "87.08\n",
      "101.11\n",
      "128.17\n",
      "156.19\n",
      "71.09\n",
      "113.16\n",
      "97.12\n",
      "114.11\n",
      "114.11\n",
      "101.11\n",
      "87.08\n",
      "87.08\n",
      "87.08\n",
      "97.12\n",
      "128.14\n",
      "97.12\n",
      "128.17\n",
      "128.17\n",
      "128.17\n",
      "97.12\n",
      "113.16\n",
      "115.09\n",
      "57.05\n",
      "129.12\n",
      "163.18\n",
      "147.18\n",
      "101.11\n",
      "113.16\n",
      "128.14\n",
      "113.16\n",
      "156.19\n",
      "57.05\n",
      "156.19\n",
      "129.12\n",
      "156.19\n",
      "147.18\n",
      "129.12\n",
      "131.19\n",
      "147.18\n",
      "156.19\n",
      "129.12\n",
      "113.16\n",
      "114.11\n",
      "129.12\n",
      "71.09\n",
      "113.16\n",
      "129.12\n",
      "113.16\n",
      "128.17\n",
      "115.09\n",
      "71.09\n",
      "128.14\n",
      "71.09\n",
      "57.05\n",
      "128.17\n",
      "129.12\n",
      "97.12\n",
      "57.05\n",
      "57.05\n",
      "87.08\n",
      "156.19\n",
      "71.09\n",
      "137.14\n",
      "87.08\n",
      "87.08\n",
      "137.14\n",
      "113.16\n",
      "128.17\n",
      "87.08\n",
      "128.17\n",
      "128.17\n",
      "57.05\n",
      "128.14\n",
      "87.08\n",
      "101.11\n",
      "87.08\n",
      "156.19\n",
      "137.14\n",
      "128.17\n",
      "128.17\n",
      "113.16\n",
      "131.19\n",
      "147.18\n",
      "128.17\n",
      "101.11\n",
      "129.12\n",
      "57.05\n",
      "97.12\n",
      "115.09\n",
      "87.08\n",
      "115.09\n"
     ]
    }
   ],
   "source": [
    "for aa in seq:\n",
    "    print (MW[aa])"
   ]
  },
  {
   "cell_type": "markdown",
   "metadata": {},
   "source": [
    "어떻게 이 숫자를 더할 것인가? "
   ]
  },
  {
   "cell_type": "code",
   "execution_count": 175,
   "metadata": {},
   "outputs": [
    {
     "name": "stdout",
     "output_type": "stream",
     "text": [
      "43636.37000000006\n"
     ]
    }
   ],
   "source": [
    "molecular_weight=0\n",
    "for aa in seq:\n",
    "    molecular_weight=molecular_weight+MW[aa]\n",
    "    \n",
    "#\n",
    "#   molecular_weight+=molecular_weight 와 같이 써도 된다 \n",
    "#\n",
    "print (molecular_weight)"
   ]
  },
  {
   "cell_type": "code",
   "execution_count": 15,
   "metadata": {},
   "outputs": [
    {
     "data": {
      "text/plain": [
       "43636.37000000006"
      ]
     },
     "execution_count": 15,
     "metadata": {},
     "output_type": "execute_result"
    }
   ],
   "source": [
    "molecular_weight"
   ]
  },
  {
   "cell_type": "markdown",
   "metadata": {},
   "source": [
    "### 연습문제\n",
    "\n",
    "각각의 아미노산과 분자량을 같이 표시해보자.  \n",
    "\n",
    "Q 128.14\n",
    "\n",
    "S 87.08\n",
    "\n",
    "T 101.11\n",
    "\n",
    "S 87.08\n",
    "\n",
    "R 156.19\n",
    "\n",
    "H 137.14\n",
    "\n",
    "K 128.17\n",
    "\n",
    "K 128.17\n",
    "\n",
    "L 113.16\n",
    "\n",
    "M 131.19\n",
    "\n",
    "F 147.18\n",
    "\n",
    "K 128.17\n",
    "\n",
    "T 101.11\n",
    "\n",
    "E 129.12\n",
    "\n",
    "G 57.05\n",
    "\n",
    "P 97.12\n",
    "\n",
    "D 115.09\n",
    "\n",
    "S 87.08\n",
    "\n",
    "D 115.09\n",
    "\n",
    "Total  43636.37000000006\n",
    "\n",
    "이런 출력이 나오도록 위의 스크립트를 고쳐 보자. "
   ]
  },
  {
   "cell_type": "markdown",
   "metadata": {},
   "source": [
    "# 유닉스 명령 사용하기 \n",
    "\n",
    "Jupyter notebook에서도 유닉스 명령을 내릴 수 있는데..\n",
    "! (느낌표)를 치고 유닉스 명령을 치면 실행된다. "
   ]
  },
  {
   "cell_type": "code",
   "execution_count": 177,
   "metadata": {},
   "outputs": [
    {
     "name": "stdout",
     "output_type": "stream",
     "text": [
      "  % Total    % Received % Xferd  Average Speed   Time    Time     Time  Current\n",
      "                                 Dload  Upload   Total   Spent    Left  Speed\n",
      "100  1369  100  1369    0     0   1198      0  0:00:01  0:00:01 --:--:--  1198\n"
     ]
    }
   ],
   "source": [
    "!curl -O https://uniprot.org/uniprot/P59594.fasta "
   ]
  },
  {
   "cell_type": "code",
   "execution_count": 178,
   "metadata": {},
   "outputs": [
    {
     "name": "stdout",
     "output_type": "stream",
     "text": [
      ">sp|P59594|SPIKE_CVHSA Spike glycoprotein OS=Human SARS coronavirus OX=694009 GN=S PE=1 SV=1\r\n",
      "MFIFLLFLTLTSGSDLDRCTTFDDVQAPNYTQHTSSMRGVYYPDEIFRSDTLYLTQDLFL\r\n",
      "PFYSNVTGFHTINHTFGNPVIPFKDGIYFAATEKSNVVRGWVFGSTMNNKSQSVIIINNS\r\n",
      "TNVVIRACNFELCDNPFFAVSKPMGTQTHTMIFDNAFNCTFEYISDAFSLDVSEKSGNFK\r\n",
      "HLREFVFKNKDGFLYVYKGYQPIDVVRDLPSGFNTLKPIFKLPLGINITNFRAILTAFSP\r\n",
      "AQDIWGTSAAAYFVGYLKPTTFMLKYDENGTITDAVDCSQNPLAELKCSVKSFEIDKGIY\r\n",
      "QTSNFRVVPSGDVVRFPNITNLCPFGEVFNATKFPSVYAWERKKISNCVADYSVLYNSTF\r\n",
      "FSTFKCYGVSATKLNDLCFSNVYADSFVVKGDDVRQIAPGQTGVIADYNYKLPDDFMGCV\r\n",
      "LAWNTRNIDATSTGNYNYKYRYLRHGKLRPFERDISNVPFSPDGKPCTPPALNCYWPLND\r\n",
      "YGFYTTTGIGYQPYRVVVLSFELLNAPATVCGPKLSTDLIKNQCVNFNFNGLTGTGVLTP\r\n",
      "SSKRFQPFQQFGRDVSDFTDSVRDPKTSEILDISPCSFGGVSVITPGTNASSEVAVLYQD\r\n",
      "VNCTDVSTAIHADQLTPAWRIYSTGNNVFQTQAGCLIGAEHVDTSYECDIPIGAGICASY\r\n",
      "HTVSLLRSTSQKSIVAYTMSLGADSSIAYSNNTIAIPTNFSISITTEVMPVSMAKTSVDC\r\n",
      "NMYICGDSTECANLLLQYGSFCTQLNRALSGIAAEQDRNTREVFAQVKQMYKTPTLKYFG\r\n",
      "GFNFSQILPDPLKPTKRSFIEDLLFNKVTLADAGFMKQYGECLGDINARDLICAQKFNGL\r\n",
      "TVLPPLLTDDMIAAYTAALVSGTATAGWTFGAGAALQIPFAMQMAYRFNGIGVTQNVLYE\r\n",
      "NQKQIANQFNKAISQIQESLTTTSTALGKLQDVVNQNAQALNTLVKQLSSNFGAISSVLN\r\n",
      "DILSRLDKVEAEVQIDRLITGRLQSLQTYVTQQLIRAAEIRASANLAATKMSECVLGQSK\r\n",
      "RVDFCGKGYHLMSFPQAAPHGVVFLHVTYVPSQERNFTTAPAICHEGKAYFPREGVFVFN\r\n",
      "GTSWFITQRNFFSPQIITTDNTFVSGNCDVVIGIINNTVYDPLQPELDSFKEELDKYFKN\r\n",
      "HTSPDVDLGDISGINASVVNIQKEIDRLNEVAKNLNESLIDLQELGKYEQYIKWPWYVWL\r\n",
      "GFIAGLIAIVMVTILLCCMTSCCSCLKGACSCGSCCKFDEDDSEPVLKGVKLHYT\r\n"
     ]
    }
   ],
   "source": [
    "!cat P59594.fasta"
   ]
  },
  {
   "cell_type": "code",
   "execution_count": 8,
   "metadata": {},
   "outputs": [
    {
     "name": "stdout",
     "output_type": "stream",
     "text": [
      "Chapter4-2.ipynb Lect3.pptx       list.txt         ~$Lect3.pptx\r\n",
      "Chapter4.ipynb   Lect4.pptx       \u001b[31mpdbdownload\u001b[m\u001b[m\r\n",
      "Lect1.pptx       P59594.fasta     ~$Lect1.pptx\r\n",
      "Lect2.pptx       \u001b[31mblalist\u001b[m\u001b[m          ~$Lect2.pptx\r\n"
     ]
    }
   ],
   "source": [
    "!ls"
   ]
  },
  {
   "cell_type": "code",
   "execution_count": 9,
   "metadata": {},
   "outputs": [
    {
     "name": "stdout",
     "output_type": "stream",
     "text": [
      ">sp|P59594|SPIKE_CVHSA Spike glycoprotein OS=Human SARS coronavirus OX=694009 GN=S PE=1 SV=1\r\n",
      "MFIFLLFLTLTSGSDLDRCTTFDDVQAPNYTQHTSSMRGVYYPDEIFRSDTLYLTQDLFL\r\n",
      "PFYSNVTGFHTINHTFGNPVIPFKDGIYFAATEKSNVVRGWVFGSTMNNKSQSVIIINNS\r\n",
      "TNVVIRACNFELCDNPFFAVSKPMGTQTHTMIFDNAFNCTFEYISDAFSLDVSEKSGNFK\r\n",
      "HLREFVFKNKDGFLYVYKGYQPIDVVRDLPSGFNTLKPIFKLPLGINITNFRAILTAFSP\r\n",
      "AQDIWGTSAAAYFVGYLKPTTFMLKYDENGTITDAVDCSQNPLAELKCSVKSFEIDKGIY\r\n",
      "QTSNFRVVPSGDVVRFPNITNLCPFGEVFNATKFPSVYAWERKKISNCVADYSVLYNSTF\r\n",
      "FSTFKCYGVSATKLNDLCFSNVYADSFVVKGDDVRQIAPGQTGVIADYNYKLPDDFMGCV\r\n",
      "LAWNTRNIDATSTGNYNYKYRYLRHGKLRPFERDISNVPFSPDGKPCTPPALNCYWPLND\r\n",
      "YGFYTTTGIGYQPYRVVVLSFELLNAPATVCGPKLSTDLIKNQCVNFNFNGLTGTGVLTP\r\n",
      "SSKRFQPFQQFGRDVSDFTDSVRDPKTSEILDISPCSFGGVSVITPGTNASSEVAVLYQD\r\n",
      "VNCTDVSTAIHADQLTPAWRIYSTGNNVFQTQAGCLIGAEHVDTSYECDIPIGAGICASY\r\n",
      "HTVSLLRSTSQKSIVAYTMSLGADSSIAYSNNTIAIPTNFSISITTEVMPVSMAKTSVDC\r\n",
      "NMYICGDSTECANLLLQYGSFCTQLNRALSGIAAEQDRNTREVFAQVKQMYKTPTLKYFG\r\n",
      "GFNFSQILPDPLKPTKRSFIEDLLFNKVTLADAGFMKQYGECLGDINARDLICAQKFNGL\r\n",
      "TVLPPLLTDDMIAAYTAALVSGTATAGWTFGAGAALQIPFAMQMAYRFNGIGVTQNVLYE\r\n",
      "NQKQIANQFNKAISQIQESLTTTSTALGKLQDVVNQNAQALNTLVKQLSSNFGAISSVLN\r\n",
      "DILSRLDKVEAEVQIDRLITGRLQSLQTYVTQQLIRAAEIRASANLAATKMSECVLGQSK\r\n",
      "RVDFCGKGYHLMSFPQAAPHGVVFLHVTYVPSQERNFTTAPAICHEGKAYFPREGVFVFN\r\n",
      "GTSWFITQRNFFSPQIITTDNTFVSGNCDVVIGIINNTVYDPLQPELDSFKEELDKYFKN\r\n",
      "HTSPDVDLGDISGINASVVNIQKEIDRLNEVAKNLNESLIDLQELGKYEQYIKWPWYVWL\r\n",
      "GFIAGLIAIVMVTILLCCMTSCCSCLKGACSCGSCCKFDEDDSEPVLKGVKLHYT\r\n"
     ]
    }
   ],
   "source": [
    "!cat P59594.fasta"
   ]
  },
  {
   "cell_type": "code",
   "execution_count": 179,
   "metadata": {},
   "outputs": [],
   "source": [
    "!blastp -query P59594.fasta -db swissprot -out blastoutput -outfmt 6 -num_threads 16"
   ]
  },
  {
   "cell_type": "code",
   "execution_count": 180,
   "metadata": {},
   "outputs": [
    {
     "name": "stdout",
     "output_type": "stream",
     "text": [
      "sp|P59594|SPIKE_CVHSA\tP59594.1\t100.000\t1255\t0\t0\t1\t1255\t1\t1255\t0.0\t2602\r\n",
      "sp|P59594|SPIKE_CVHSA\tQ0Q475.1\t79.064\t1261\t236\t5\t1\t1255\t3\t1241\t0.0\t2062\r\n",
      "sp|P59594|SPIKE_CVHSA\tQ3I5J5.1\t78.668\t1261\t243\t4\t1\t1255\t1\t1241\t0.0\t2056\r\n",
      "sp|P59594|SPIKE_CVHSA\tQ3LZX1.1\t78.509\t1261\t244\t7\t1\t1255\t3\t1242\t0.0\t2050\r\n",
      "sp|P59594|SPIKE_CVHSA\tA3EXG6.1\t32.479\t1287\t749\t32\t29\t1248\t34\t1267\t0.0\t631\r\n",
      "sp|P59594|SPIKE_CVHSA\tA3EXD0.1\t35.801\t1148\t648\t36\t152\t1246\t238\t1349\t0.0\t590\r\n",
      "sp|P59594|SPIKE_CVHSA\tQ0Q4F2.1\t36.608\t1079\t610\t27\t222\t1246\t289\t1347\t0.0\t583\r\n",
      "sp|P59594|SPIKE_CVHSA\tA3EX94.1\t36.506\t1082\t609\t28\t222\t1246\t289\t1349\t3.10e-180\t571\r\n",
      "sp|P59594|SPIKE_CVHSA\tK9N5Q8.1\t34.791\t1052\t615\t28\t250\t1245\t311\t1347\t2.45e-172\t550\r\n",
      "sp|P59594|SPIKE_CVHSA\tP11225.1\t31.008\t1319\t757\t39\t1\t1253\t2\t1233\t2.72e-164\t525\r\n",
      "sp|P59594|SPIKE_CVHSA\tP11224.2\t30.312\t1346\t785\t41\t1\t1236\t2\t1304\t7.14e-158\t510\r\n",
      "sp|P59594|SPIKE_CVHSA\tP25192.1\t37.071\t758\t434\t12\t514\t1248\t621\t1358\t9.88e-145\t476\r\n",
      "sp|P59594|SPIKE_CVHSA\tP25192.1\t24.678\t466\t275\t18\t1\t424\t1\t432\t1.37e-20\t102\r\n",
      "sp|P59594|SPIKE_CVHSA\tQ9QAQ8.1\t37.154\t759\t432\t13\t514\t1248\t621\t1358\t2.42e-144\t475\r\n",
      "sp|P59594|SPIKE_CVHSA\tQ9QAQ8.1\t25.414\t362\t222\t12\t83\t424\t99\t432\t1.97e-20\t102\r\n",
      "sp|P59594|SPIKE_CVHSA\tQ91A26.1\t37.154\t759\t432\t13\t514\t1248\t621\t1358\t3.80e-144\t474\r\n",
      "sp|P59594|SPIKE_CVHSA\tQ91A26.1\t23.894\t452\t269\t17\t83\t493\t99\t516\t3.10e-19\t98.2\r\n",
      "sp|P59594|SPIKE_CVHSA\tQ9QAR5.1\t37.154\t759\t432\t13\t514\t1248\t621\t1358\t7.67e-144\t473\r\n",
      "sp|P59594|SPIKE_CVHSA\tQ9QAR5.1\t25.414\t362\t222\t12\t83\t424\t99\t432\t3.02e-20\t101\r\n",
      "sp|P59594|SPIKE_CVHSA\tQ8V436.1\t37.022\t759\t433\t13\t514\t1248\t621\t1358\t1.21e-143\t473\r\n",
      "sp|P59594|SPIKE_CVHSA\tQ8V436.1\t24.862\t362\t224\t12\t83\t424\t99\t432\t1.03e-18\t96.3\r\n",
      "sp|P59594|SPIKE_CVHSA\tP25190.1\t36.877\t762\t430\t12\t514\t1248\t621\t1358\t3.65e-143\t472\r\n",
      "sp|P59594|SPIKE_CVHSA\tP25190.1\t24.678\t466\t275\t18\t1\t424\t1\t432\t3.66e-20\t100\r\n",
      "sp|P59594|SPIKE_CVHSA\tP25194.1\t36.939\t758\t435\t12\t514\t1248\t621\t1358\t5.89e-143\t471\r\n",
      "sp|P59594|SPIKE_CVHSA\tP25194.1\t25.268\t467\t271\t19\t1\t424\t1\t432\t2.47e-21\t104\r\n",
      "sp|P59594|SPIKE_CVHSA\tP25191.1\t36.807\t758\t436\t12\t514\t1248\t621\t1358\t3.26e-142\t469\r\n",
      "sp|P59594|SPIKE_CVHSA\tP25191.1\t25.138\t362\t223\t12\t83\t424\t99\t432\t3.66e-20\t100\r\n",
      "sp|P59594|SPIKE_CVHSA\tP15777.1\t36.807\t758\t436\t12\t514\t1248\t621\t1358\t2.04e-141\t467\r\n",
      "sp|P59594|SPIKE_CVHSA\tP15777.1\t25.414\t362\t222\t12\t83\t424\t99\t432\t2.02e-20\t102\r\n",
      "sp|P59594|SPIKE_CVHSA\tP25193.2\t36.807\t758\t436\t12\t514\t1248\t621\t1358\t5.09e-141\t466\r\n",
      "sp|P59594|SPIKE_CVHSA\tP25193.2\t25.414\t362\t222\t12\t83\t424\t99\t432\t1.60e-20\t102\r\n",
      "sp|P59594|SPIKE_CVHSA\tQ0ZME7.1\t35.958\t762\t428\t16\t508\t1236\t600\t1334\t9.63e-138\t457\r\n",
      "sp|P59594|SPIKE_CVHSA\tQ0ZME7.1\t25.594\t379\t252\t11\t102\t472\t125\t481\t5.18e-23\t110\r\n",
      "sp|P59594|SPIKE_CVHSA\tP36334.1\t36.412\t758\t439\t12\t514\t1248\t611\t1348\t2.72e-137\t455\r\n",
      "sp|P59594|SPIKE_CVHSA\tP36334.1\t23.756\t442\t267\t17\t50\t450\t54\t466\t8.41e-19\t96.7\r\n",
      "sp|P59594|SPIKE_CVHSA\tQ14EB0.1\t35.827\t762\t429\t16\t508\t1236\t600\t1334\t4.15e-137\t455\r\n",
      "sp|P59594|SPIKE_CVHSA\tQ14EB0.1\t25.330\t379\t253\t11\t102\t472\t125\t481\t1.67e-22\t108\r\n",
      "sp|P59594|SPIKE_CVHSA\tQ8BB25.1\t35.938\t768\t444\t15\t508\t1248\t598\t1344\t3.71e-135\t449\r\n",
      "sp|P59594|SPIKE_CVHSA\tQ8BB25.1\t25.059\t427\t258\t17\t50\t442\t54\t452\t1.03e-19\t99.8\r\n",
      "sp|P59594|SPIKE_CVHSA\tQ9IKD1.1\t36.911\t764\t435\t17\t516\t1253\t611\t1353\t2.97e-134\t447\r\n",
      "sp|P59594|SPIKE_CVHSA\tQ9IKD1.1\t23.563\t522\t328\t19\t1\t474\t2\t500\t7.46e-22\t106\r\n",
      "sp|P59594|SPIKE_CVHSA\tQ02385.1\t36.328\t768\t438\t15\t503\t1236\t606\t1356\t7.06e-134\t446\r\n",
      "sp|P59594|SPIKE_CVHSA\tQ02385.1\t25.344\t509\t315\t21\t1\t470\t2\t484\t5.58e-22\t107\r\n",
      "sp|P59594|SPIKE_CVHSA\tP22432.1\t35.516\t794\t460\t16\t495\t1253\t598\t1374\t1.60e-133\t446\r\n",
      "sp|P59594|SPIKE_CVHSA\tP22432.1\t25.147\t509\t316\t21\t1\t470\t2\t484\t2.42e-21\t104\r\n",
      "sp|P59594|SPIKE_CVHSA\tQ8JSP8.1\t36.184\t760\t435\t16\t508\t1240\t598\t1334\t2.12e-133\t445\r\n",
      "sp|P59594|SPIKE_CVHSA\tQ8JSP8.1\t25.065\t383\t237\t14\t82\t442\t98\t452\t2.99e-19\t98.2\r\n",
      "sp|P59594|SPIKE_CVHSA\tQ5MQD0.1\t34.923\t776\t448\t19\t495\t1236\t587\t1339\t8.70e-131\t437\r\n",
      "sp|P59594|SPIKE_CVHSA\tQ5MQD0.1\t25.648\t347\t234\t8\t102\t446\t125\t449\t7.65e-22\t106\r\n",
      "sp|P59594|SPIKE_CVHSA\tP15423.1\t34.804\t612\t345\t13\t684\t1253\t572\t1171\t1.02e-101\t353\r\n",
      "sp|P59594|SPIKE_CVHSA\tP12650.1\t37.687\t536\t308\t10\t694\t1212\t584\t1110\t1.50e-101\t352\r\n",
      "sp|P59594|SPIKE_CVHSA\tP12651.1\t36.940\t536\t312\t10\t694\t1212\t584\t1110\t6.66e-100\t348\r\n",
      "sp|P59594|SPIKE_CVHSA\tP05135.1\t37.316\t544\t315\t11\t694\t1220\t585\t1119\t2.55e-99\t346\r\n",
      "sp|P59594|SPIKE_CVHSA\tP12722.1\t37.132\t544\t316\t11\t694\t1220\t585\t1119\t5.70e-99\t345\r\n",
      "sp|P59594|SPIKE_CVHSA\tP11223.1\t36.142\t534\t319\t9\t694\t1212\t584\t1110\t2.26e-97\t340\r\n",
      "sp|P59594|SPIKE_CVHSA\tQ0Q466.1\t36.201\t558\t313\t12\t694\t1215\t782\t1332\t3.93e-94\t334\r\n",
      "sp|P59594|SPIKE_CVHSA\tP24413.1\t32.288\t765\t409\t25\t522\t1216\t460\t1185\t7.35e-94\t332\r\n",
      "sp|P59594|SPIKE_CVHSA\tP27655.1\t31.895\t765\t412\t24\t522\t1216\t460\t1185\t8.24e-94\t331\r\n",
      "sp|P59594|SPIKE_CVHSA\tQ65984.1\t30.955\t785\t431\t24\t503\t1216\t669\t1413\t1.39e-92\t330\r\n",
      "sp|P59594|SPIKE_CVHSA\tQ6Q1S2.1\t30.049\t822\t458\t25\t474\t1234\t577\t1342\t1.86e-92\t329\r\n",
      "sp|P59594|SPIKE_CVHSA\tP10033.1\t30.982\t794\t430\t26\t503\t1221\t668\t1418\t1.88e-92\t330\r\n",
      "sp|P59594|SPIKE_CVHSA\tP07946.2\t31.043\t786\t429\t24\t503\t1216\t663\t1407\t5.47e-92\t328\r\n",
      "sp|P59594|SPIKE_CVHSA\tP33470.2\t31.421\t767\t413\t24\t522\t1216\t684\t1409\t1.93e-91\t327\r\n",
      "sp|P59594|SPIKE_CVHSA\tQ01977.1\t30.916\t786\t430\t24\t503\t1216\t663\t1407\t2.82e-91\t327\r\n",
      "sp|P59594|SPIKE_CVHSA\tQ7T6T3.1\t31.004\t787\t428\t26\t503\t1216\t669\t1413\t5.95e-91\t325\r\n",
      "sp|P59594|SPIKE_CVHSA\tP18450.2\t31.030\t767\t416\t24\t522\t1216\t684\t1409\t3.04e-90\t323\r\n",
      "sp|P59594|SPIKE_CVHSA\tP36300.1\t30.623\t787\t430\t25\t503\t1216\t668\t1411\t4.17e-89\t320\r\n",
      "sp|P59594|SPIKE_CVHSA\tQ91AV1.1\t35.018\t554\t308\t13\t694\t1199\t779\t1328\t9.06e-86\t310\r\n",
      "sp|P59594|SPIKE_CVHSA\tB8F3P6.1\t26.230\t122\t75\t3\t879\t990\t160\t276\t0.17\t39.7\r\n",
      "sp|P59594|SPIKE_CVHSA\tA5UEK6.1\t25.714\t105\t64\t2\t879\t969\t163\t267\t0.25\t38.9\r\n",
      "sp|P59594|SPIKE_CVHSA\tQ7VL94.1\t24.762\t105\t65\t2\t879\t969\t160\t264\t0.58\t37.7\r\n",
      "sp|P59594|SPIKE_CVHSA\tQ38WX8.1\t51.282\t39\t18\t1\t804\t842\t124\t161\t0.68\t37.4\r\n",
      "sp|P59594|SPIKE_CVHSA\tP45185.2\t24.762\t105\t65\t2\t879\t969\t163\t267\t0.70\t37.7\r\n",
      "sp|P59594|SPIKE_CVHSA\tA5UBY0.1\t24.762\t105\t65\t2\t879\t969\t163\t267\t0.80\t37.4\r\n",
      "sp|P59594|SPIKE_CVHSA\tO30867.1\t24.762\t105\t65\t2\t879\t969\t162\t266\t0.82\t37.4\r\n",
      "sp|P59594|SPIKE_CVHSA\tB7UN08.1\t27.049\t122\t74\t4\t879\t990\t159\t275\t1.00\t37.0\r\n",
      "sp|P59594|SPIKE_CVHSA\tB5R8K9.1\t27.049\t122\t74\t4\t879\t990\t159\t275\t1.0\t37.0\r\n",
      "sp|P59594|SPIKE_CVHSA\tP60107.1\t32.323\t99\t55\t5\t902\t994\t63\t155\t1.0\t37.0\r\n",
      "sp|P59594|SPIKE_CVHSA\tQ2YY12.1\t32.323\t99\t55\t5\t902\t994\t63\t155\t1.0\t37.0\r\n",
      "sp|P59594|SPIKE_CVHSA\tQ2FH32.1\t32.323\t99\t55\t5\t902\t994\t63\t155\t1.0\t37.0\r\n",
      "sp|P59594|SPIKE_CVHSA\tA8AIF7.1\t24.675\t154\t96\t5\t879\t1017\t159\t307\t1.2\t37.0\r\n",
      "sp|P59594|SPIKE_CVHSA\tQ6G9F5.1\t32.323\t99\t55\t5\t902\t994\t63\t155\t1.2\t36.6\r\n",
      "sp|P59594|SPIKE_CVHSA\tQ8N9W4.3\t23.276\t116\t80\t3\t640\t753\t81\t189\t1.3\t37.0\r\n",
      "sp|P59594|SPIKE_CVHSA\tB4T156.1\t27.049\t122\t74\t4\t879\t990\t159\t275\t1.3\t36.6\r\n",
      "sp|P59594|SPIKE_CVHSA\tQ8Z7Z7.1\t27.049\t122\t74\t4\t879\t990\t159\t275\t1.4\t36.6\r\n",
      "sp|P59594|SPIKE_CVHSA\tA9N7T9.1\t27.049\t122\t74\t4\t879\t990\t159\t275\t1.4\t36.6\r\n",
      "sp|P59594|SPIKE_CVHSA\tA7MZI2.1\t21.970\t132\t80\t5\t881\t989\t505\t636\t1.5\t36.6\r\n",
      "sp|P59594|SPIKE_CVHSA\tP48479.2\t25.352\t71\t53\t0\t924\t994\t303\t373\t1.5\t36.6\r\n",
      "sp|P59594|SPIKE_CVHSA\tA9MHW1.1\t27.049\t122\t74\t4\t879\t990\t159\t275\t2.2\t35.8\r\n",
      "sp|P59594|SPIKE_CVHSA\tB5YT56.1\t27.049\t122\t74\t4\t879\t990\t159\t275\t2.3\t35.8\r\n",
      "sp|P59594|SPIKE_CVHSA\tA7ZK12.1\t27.049\t122\t74\t4\t879\t990\t159\t275\t2.5\t35.8\r\n",
      "sp|P59594|SPIKE_CVHSA\tB7LN84.1\t27.049\t122\t74\t4\t879\t990\t159\t275\t2.6\t35.8\r\n",
      "sp|P59594|SPIKE_CVHSA\tO67068.1\t26.214\t103\t61\t3\t175\t272\t224\t316\t2.6\t35.8\r\n",
      "sp|P59594|SPIKE_CVHSA\tA7ZYM4.1\t27.049\t122\t74\t4\t879\t990\t159\t275\t2.6\t35.8\r\n",
      "sp|P59594|SPIKE_CVHSA\tA1A9J9.1\t27.049\t122\t74\t4\t879\t990\t159\t275\t2.7\t35.8\r\n",
      "sp|P59594|SPIKE_CVHSA\tP75434.1\t27.273\t77\t55\t1\t896\t972\t141\t216\t2.9\t35.0\r\n",
      "sp|P59594|SPIKE_CVHSA\tQ31YS8.1\t27.049\t122\t74\t4\t879\t990\t159\t275\t3.4\t35.4\r\n",
      "sp|P59594|SPIKE_CVHSA\tA1S7B2.1\t30.488\t82\t50\t2\t916\t997\t91\t165\t3.6\t34.7\r\n",
      "sp|P59594|SPIKE_CVHSA\tB2TUF7.1\t27.049\t122\t74\t4\t879\t990\t159\t275\t4.2\t35.0\r\n",
      "sp|P59594|SPIKE_CVHSA\tP0DJF6.1\t23.485\t132\t85\t4\t633\t749\t51\t181\t6.2\t34.3\r\n",
      "sp|P59594|SPIKE_CVHSA\tB1IW09.1\t27.049\t122\t74\t4\t879\t990\t159\t275\t6.3\t34.3\r\n",
      "sp|P59594|SPIKE_CVHSA\tQ6D445.1\t23.585\t106\t66\t2\t879\t969\t159\t264\t7.0\t34.3\r\n",
      "sp|P59594|SPIKE_CVHSA\tA3MZU5.1\t23.602\t161\t103\t5\t840\t990\t126\t276\t7.1\t34.3\r\n",
      "sp|P59594|SPIKE_CVHSA\tP37535.1\t31.068\t103\t64\t5\t881\t978\t51\t151\t7.5\t34.3\r\n",
      "sp|P59594|SPIKE_CVHSA\tQ9UL45.1\t28.333\t60\t41\t1\t1127\t1184\t82\t141\t8.2\t33.1\r\n",
      "sp|P59594|SPIKE_CVHSA\tB0BUD7.1\t23.602\t161\t103\t5\t840\t990\t126\t276\t8.6\t33.9\r\n",
      "sp|P59594|SPIKE_CVHSA\tB3GXC3.1\t23.602\t161\t103\t5\t840\t990\t126\t276\t8.9\t33.9\r\n",
      "sp|P59594|SPIKE_CVHSA\tA8H5M2.1\t31.915\t94\t51\t4\t912\t1002\t88\t171\t9.3\t33.1\r\n",
      "sp|P59594|SPIKE_CVHSA\tB0TQ01.1\t31.915\t94\t51\t4\t912\t1002\t88\t171\t9.3\t33.1\r\n"
     ]
    }
   ],
   "source": [
    "!cat blastoutput"
   ]
  },
  {
   "cell_type": "markdown",
   "metadata": {},
   "source": [
    "유닉스 명령어를 노트북을 이용하여 이용햐면 기록이 남으니 매우 편리! "
   ]
  },
  {
   "cell_type": "markdown",
   "metadata": {},
   "source": [
    "파이썬에서도 텍스트 파일 출력을 읽을 수 있다. \n",
    "앞에서 blast의 출력 파일인 blastoutput을 읽어보자.\n",
    "\n",
    "파일을 읽기 위해서는 일단 파일을 지정해야 한다. "
   ]
  },
  {
   "cell_type": "code",
   "execution_count": 181,
   "metadata": {},
   "outputs": [
    {
     "name": "stdout",
     "output_type": "stream",
     "text": [
      "sp|P59594|SPIKE_CVHSA\tP59594.1\t100.000\t1255\t0\t0\t1\t1255\t1\t1255\t0.0\t2602\r\n",
      "sp|P59594|SPIKE_CVHSA\tQ0Q475.1\t79.064\t1261\t236\t5\t1\t1255\t3\t1241\t0.0\t2062\r\n",
      "sp|P59594|SPIKE_CVHSA\tQ3I5J5.1\t78.668\t1261\t243\t4\t1\t1255\t1\t1241\t0.0\t2056\r\n",
      "sp|P59594|SPIKE_CVHSA\tQ3LZX1.1\t78.509\t1261\t244\t7\t1\t1255\t3\t1242\t0.0\t2050\r\n",
      "sp|P59594|SPIKE_CVHSA\tA3EXG6.1\t32.479\t1287\t749\t32\t29\t1248\t34\t1267\t0.0\t631\r\n",
      "sp|P59594|SPIKE_CVHSA\tA3EXD0.1\t35.801\t1148\t648\t36\t152\t1246\t238\t1349\t0.0\t590\r\n",
      "sp|P59594|SPIKE_CVHSA\tQ0Q4F2.1\t36.608\t1079\t610\t27\t222\t1246\t289\t1347\t0.0\t583\r\n",
      "sp|P59594|SPIKE_CVHSA\tA3EX94.1\t36.506\t1082\t609\t28\t222\t1246\t289\t1349\t3.10e-180\t571\r\n",
      "sp|P59594|SPIKE_CVHSA\tK9N5Q8.1\t34.791\t1052\t615\t28\t250\t1245\t311\t1347\t2.45e-172\t550\r\n",
      "sp|P59594|SPIKE_CVHSA\tP11225.1\t31.008\t1319\t757\t39\t1\t1253\t2\t1233\t2.72e-164\t525\r\n",
      "sp|P59594|SPIKE_CVHSA\tP11224.2\t30.312\t1346\t785\t41\t1\t1236\t2\t1304\t7.14e-158\t510\r\n",
      "sp|P59594|SPIKE_CVHSA\tP25192.1\t37.071\t758\t434\t12\t514\t1248\t621\t1358\t9.88e-145\t476\r\n",
      "sp|P59594|SPIKE_CVHSA\tP25192.1\t24.678\t466\t275\t18\t1\t424\t1\t432\t1.37e-20\t102\r\n",
      "sp|P59594|SPIKE_CVHSA\tQ9QAQ8.1\t37.154\t759\t432\t13\t514\t1248\t621\t1358\t2.42e-144\t475\r\n",
      "sp|P59594|SPIKE_CVHSA\tQ9QAQ8.1\t25.414\t362\t222\t12\t83\t424\t99\t432\t1.97e-20\t102\r\n",
      "sp|P59594|SPIKE_CVHSA\tQ91A26.1\t37.154\t759\t432\t13\t514\t1248\t621\t1358\t3.80e-144\t474\r\n",
      "sp|P59594|SPIKE_CVHSA\tQ91A26.1\t23.894\t452\t269\t17\t83\t493\t99\t516\t3.10e-19\t98.2\r\n",
      "sp|P59594|SPIKE_CVHSA\tQ9QAR5.1\t37.154\t759\t432\t13\t514\t1248\t621\t1358\t7.67e-144\t473\r\n",
      "sp|P59594|SPIKE_CVHSA\tQ9QAR5.1\t25.414\t362\t222\t12\t83\t424\t99\t432\t3.02e-20\t101\r\n",
      "sp|P59594|SPIKE_CVHSA\tQ8V436.1\t37.022\t759\t433\t13\t514\t1248\t621\t1358\t1.21e-143\t473\r\n",
      "sp|P59594|SPIKE_CVHSA\tQ8V436.1\t24.862\t362\t224\t12\t83\t424\t99\t432\t1.03e-18\t96.3\r\n",
      "sp|P59594|SPIKE_CVHSA\tP25190.1\t36.877\t762\t430\t12\t514\t1248\t621\t1358\t3.65e-143\t472\r\n",
      "sp|P59594|SPIKE_CVHSA\tP25190.1\t24.678\t466\t275\t18\t1\t424\t1\t432\t3.66e-20\t100\r\n",
      "sp|P59594|SPIKE_CVHSA\tP25194.1\t36.939\t758\t435\t12\t514\t1248\t621\t1358\t5.89e-143\t471\r\n",
      "sp|P59594|SPIKE_CVHSA\tP25194.1\t25.268\t467\t271\t19\t1\t424\t1\t432\t2.47e-21\t104\r\n",
      "sp|P59594|SPIKE_CVHSA\tP25191.1\t36.807\t758\t436\t12\t514\t1248\t621\t1358\t3.26e-142\t469\r\n",
      "sp|P59594|SPIKE_CVHSA\tP25191.1\t25.138\t362\t223\t12\t83\t424\t99\t432\t3.66e-20\t100\r\n",
      "sp|P59594|SPIKE_CVHSA\tP15777.1\t36.807\t758\t436\t12\t514\t1248\t621\t1358\t2.04e-141\t467\r\n",
      "sp|P59594|SPIKE_CVHSA\tP15777.1\t25.414\t362\t222\t12\t83\t424\t99\t432\t2.02e-20\t102\r\n",
      "sp|P59594|SPIKE_CVHSA\tP25193.2\t36.807\t758\t436\t12\t514\t1248\t621\t1358\t5.09e-141\t466\r\n",
      "sp|P59594|SPIKE_CVHSA\tP25193.2\t25.414\t362\t222\t12\t83\t424\t99\t432\t1.60e-20\t102\r\n",
      "sp|P59594|SPIKE_CVHSA\tQ0ZME7.1\t35.958\t762\t428\t16\t508\t1236\t600\t1334\t9.63e-138\t457\r\n",
      "sp|P59594|SPIKE_CVHSA\tQ0ZME7.1\t25.594\t379\t252\t11\t102\t472\t125\t481\t5.18e-23\t110\r\n",
      "sp|P59594|SPIKE_CVHSA\tP36334.1\t36.412\t758\t439\t12\t514\t1248\t611\t1348\t2.72e-137\t455\r\n",
      "sp|P59594|SPIKE_CVHSA\tP36334.1\t23.756\t442\t267\t17\t50\t450\t54\t466\t8.41e-19\t96.7\r\n",
      "sp|P59594|SPIKE_CVHSA\tQ14EB0.1\t35.827\t762\t429\t16\t508\t1236\t600\t1334\t4.15e-137\t455\r\n",
      "sp|P59594|SPIKE_CVHSA\tQ14EB0.1\t25.330\t379\t253\t11\t102\t472\t125\t481\t1.67e-22\t108\r\n",
      "sp|P59594|SPIKE_CVHSA\tQ8BB25.1\t35.938\t768\t444\t15\t508\t1248\t598\t1344\t3.71e-135\t449\r\n",
      "sp|P59594|SPIKE_CVHSA\tQ8BB25.1\t25.059\t427\t258\t17\t50\t442\t54\t452\t1.03e-19\t99.8\r\n",
      "sp|P59594|SPIKE_CVHSA\tQ9IKD1.1\t36.911\t764\t435\t17\t516\t1253\t611\t1353\t2.97e-134\t447\r\n",
      "sp|P59594|SPIKE_CVHSA\tQ9IKD1.1\t23.563\t522\t328\t19\t1\t474\t2\t500\t7.46e-22\t106\r\n",
      "sp|P59594|SPIKE_CVHSA\tQ02385.1\t36.328\t768\t438\t15\t503\t1236\t606\t1356\t7.06e-134\t446\r\n",
      "sp|P59594|SPIKE_CVHSA\tQ02385.1\t25.344\t509\t315\t21\t1\t470\t2\t484\t5.58e-22\t107\r\n",
      "sp|P59594|SPIKE_CVHSA\tP22432.1\t35.516\t794\t460\t16\t495\t1253\t598\t1374\t1.60e-133\t446\r\n",
      "sp|P59594|SPIKE_CVHSA\tP22432.1\t25.147\t509\t316\t21\t1\t470\t2\t484\t2.42e-21\t104\r\n",
      "sp|P59594|SPIKE_CVHSA\tQ8JSP8.1\t36.184\t760\t435\t16\t508\t1240\t598\t1334\t2.12e-133\t445\r\n",
      "sp|P59594|SPIKE_CVHSA\tQ8JSP8.1\t25.065\t383\t237\t14\t82\t442\t98\t452\t2.99e-19\t98.2\r\n",
      "sp|P59594|SPIKE_CVHSA\tQ5MQD0.1\t34.923\t776\t448\t19\t495\t1236\t587\t1339\t8.70e-131\t437\r\n",
      "sp|P59594|SPIKE_CVHSA\tQ5MQD0.1\t25.648\t347\t234\t8\t102\t446\t125\t449\t7.65e-22\t106\r\n",
      "sp|P59594|SPIKE_CVHSA\tP15423.1\t34.804\t612\t345\t13\t684\t1253\t572\t1171\t1.02e-101\t353\r\n",
      "sp|P59594|SPIKE_CVHSA\tP12650.1\t37.687\t536\t308\t10\t694\t1212\t584\t1110\t1.50e-101\t352\r\n",
      "sp|P59594|SPIKE_CVHSA\tP12651.1\t36.940\t536\t312\t10\t694\t1212\t584\t1110\t6.66e-100\t348\r\n",
      "sp|P59594|SPIKE_CVHSA\tP05135.1\t37.316\t544\t315\t11\t694\t1220\t585\t1119\t2.55e-99\t346\r\n",
      "sp|P59594|SPIKE_CVHSA\tP12722.1\t37.132\t544\t316\t11\t694\t1220\t585\t1119\t5.70e-99\t345\r\n",
      "sp|P59594|SPIKE_CVHSA\tP11223.1\t36.142\t534\t319\t9\t694\t1212\t584\t1110\t2.26e-97\t340\r\n",
      "sp|P59594|SPIKE_CVHSA\tQ0Q466.1\t36.201\t558\t313\t12\t694\t1215\t782\t1332\t3.93e-94\t334\r\n",
      "sp|P59594|SPIKE_CVHSA\tP24413.1\t32.288\t765\t409\t25\t522\t1216\t460\t1185\t7.35e-94\t332\r\n",
      "sp|P59594|SPIKE_CVHSA\tP27655.1\t31.895\t765\t412\t24\t522\t1216\t460\t1185\t8.24e-94\t331\r\n",
      "sp|P59594|SPIKE_CVHSA\tQ65984.1\t30.955\t785\t431\t24\t503\t1216\t669\t1413\t1.39e-92\t330\r\n",
      "sp|P59594|SPIKE_CVHSA\tQ6Q1S2.1\t30.049\t822\t458\t25\t474\t1234\t577\t1342\t1.86e-92\t329\r\n",
      "sp|P59594|SPIKE_CVHSA\tP10033.1\t30.982\t794\t430\t26\t503\t1221\t668\t1418\t1.88e-92\t330\r\n",
      "sp|P59594|SPIKE_CVHSA\tP07946.2\t31.043\t786\t429\t24\t503\t1216\t663\t1407\t5.47e-92\t328\r\n",
      "sp|P59594|SPIKE_CVHSA\tP33470.2\t31.421\t767\t413\t24\t522\t1216\t684\t1409\t1.93e-91\t327\r\n",
      "sp|P59594|SPIKE_CVHSA\tQ01977.1\t30.916\t786\t430\t24\t503\t1216\t663\t1407\t2.82e-91\t327\r\n",
      "sp|P59594|SPIKE_CVHSA\tQ7T6T3.1\t31.004\t787\t428\t26\t503\t1216\t669\t1413\t5.95e-91\t325\r\n",
      "sp|P59594|SPIKE_CVHSA\tP18450.2\t31.030\t767\t416\t24\t522\t1216\t684\t1409\t3.04e-90\t323\r\n",
      "sp|P59594|SPIKE_CVHSA\tP36300.1\t30.623\t787\t430\t25\t503\t1216\t668\t1411\t4.17e-89\t320\r\n",
      "sp|P59594|SPIKE_CVHSA\tQ91AV1.1\t35.018\t554\t308\t13\t694\t1199\t779\t1328\t9.06e-86\t310\r\n",
      "sp|P59594|SPIKE_CVHSA\tB8F3P6.1\t26.230\t122\t75\t3\t879\t990\t160\t276\t0.17\t39.7\r\n",
      "sp|P59594|SPIKE_CVHSA\tA5UEK6.1\t25.714\t105\t64\t2\t879\t969\t163\t267\t0.25\t38.9\r\n",
      "sp|P59594|SPIKE_CVHSA\tQ7VL94.1\t24.762\t105\t65\t2\t879\t969\t160\t264\t0.58\t37.7\r\n",
      "sp|P59594|SPIKE_CVHSA\tQ38WX8.1\t51.282\t39\t18\t1\t804\t842\t124\t161\t0.68\t37.4\r\n",
      "sp|P59594|SPIKE_CVHSA\tP45185.2\t24.762\t105\t65\t2\t879\t969\t163\t267\t0.70\t37.7\r\n",
      "sp|P59594|SPIKE_CVHSA\tA5UBY0.1\t24.762\t105\t65\t2\t879\t969\t163\t267\t0.80\t37.4\r\n",
      "sp|P59594|SPIKE_CVHSA\tO30867.1\t24.762\t105\t65\t2\t879\t969\t162\t266\t0.82\t37.4\r\n",
      "sp|P59594|SPIKE_CVHSA\tB7UN08.1\t27.049\t122\t74\t4\t879\t990\t159\t275\t1.00\t37.0\r\n",
      "sp|P59594|SPIKE_CVHSA\tB5R8K9.1\t27.049\t122\t74\t4\t879\t990\t159\t275\t1.0\t37.0\r\n",
      "sp|P59594|SPIKE_CVHSA\tP60107.1\t32.323\t99\t55\t5\t902\t994\t63\t155\t1.0\t37.0\r\n",
      "sp|P59594|SPIKE_CVHSA\tQ2YY12.1\t32.323\t99\t55\t5\t902\t994\t63\t155\t1.0\t37.0\r\n",
      "sp|P59594|SPIKE_CVHSA\tQ2FH32.1\t32.323\t99\t55\t5\t902\t994\t63\t155\t1.0\t37.0\r\n",
      "sp|P59594|SPIKE_CVHSA\tA8AIF7.1\t24.675\t154\t96\t5\t879\t1017\t159\t307\t1.2\t37.0\r\n",
      "sp|P59594|SPIKE_CVHSA\tQ6G9F5.1\t32.323\t99\t55\t5\t902\t994\t63\t155\t1.2\t36.6\r\n",
      "sp|P59594|SPIKE_CVHSA\tQ8N9W4.3\t23.276\t116\t80\t3\t640\t753\t81\t189\t1.3\t37.0\r\n",
      "sp|P59594|SPIKE_CVHSA\tB4T156.1\t27.049\t122\t74\t4\t879\t990\t159\t275\t1.3\t36.6\r\n",
      "sp|P59594|SPIKE_CVHSA\tQ8Z7Z7.1\t27.049\t122\t74\t4\t879\t990\t159\t275\t1.4\t36.6\r\n",
      "sp|P59594|SPIKE_CVHSA\tA9N7T9.1\t27.049\t122\t74\t4\t879\t990\t159\t275\t1.4\t36.6\r\n",
      "sp|P59594|SPIKE_CVHSA\tA7MZI2.1\t21.970\t132\t80\t5\t881\t989\t505\t636\t1.5\t36.6\r\n",
      "sp|P59594|SPIKE_CVHSA\tP48479.2\t25.352\t71\t53\t0\t924\t994\t303\t373\t1.5\t36.6\r\n",
      "sp|P59594|SPIKE_CVHSA\tA9MHW1.1\t27.049\t122\t74\t4\t879\t990\t159\t275\t2.2\t35.8\r\n",
      "sp|P59594|SPIKE_CVHSA\tB5YT56.1\t27.049\t122\t74\t4\t879\t990\t159\t275\t2.3\t35.8\r\n",
      "sp|P59594|SPIKE_CVHSA\tA7ZK12.1\t27.049\t122\t74\t4\t879\t990\t159\t275\t2.5\t35.8\r\n",
      "sp|P59594|SPIKE_CVHSA\tB7LN84.1\t27.049\t122\t74\t4\t879\t990\t159\t275\t2.6\t35.8\r\n",
      "sp|P59594|SPIKE_CVHSA\tO67068.1\t26.214\t103\t61\t3\t175\t272\t224\t316\t2.6\t35.8\r\n",
      "sp|P59594|SPIKE_CVHSA\tA7ZYM4.1\t27.049\t122\t74\t4\t879\t990\t159\t275\t2.6\t35.8\r\n",
      "sp|P59594|SPIKE_CVHSA\tA1A9J9.1\t27.049\t122\t74\t4\t879\t990\t159\t275\t2.7\t35.8\r\n",
      "sp|P59594|SPIKE_CVHSA\tP75434.1\t27.273\t77\t55\t1\t896\t972\t141\t216\t2.9\t35.0\r\n",
      "sp|P59594|SPIKE_CVHSA\tQ31YS8.1\t27.049\t122\t74\t4\t879\t990\t159\t275\t3.4\t35.4\r\n",
      "sp|P59594|SPIKE_CVHSA\tA1S7B2.1\t30.488\t82\t50\t2\t916\t997\t91\t165\t3.6\t34.7\r\n",
      "sp|P59594|SPIKE_CVHSA\tB2TUF7.1\t27.049\t122\t74\t4\t879\t990\t159\t275\t4.2\t35.0\r\n",
      "sp|P59594|SPIKE_CVHSA\tP0DJF6.1\t23.485\t132\t85\t4\t633\t749\t51\t181\t6.2\t34.3\r\n",
      "sp|P59594|SPIKE_CVHSA\tB1IW09.1\t27.049\t122\t74\t4\t879\t990\t159\t275\t6.3\t34.3\r\n",
      "sp|P59594|SPIKE_CVHSA\tQ6D445.1\t23.585\t106\t66\t2\t879\t969\t159\t264\t7.0\t34.3\r\n",
      "sp|P59594|SPIKE_CVHSA\tA3MZU5.1\t23.602\t161\t103\t5\t840\t990\t126\t276\t7.1\t34.3\r\n",
      "sp|P59594|SPIKE_CVHSA\tP37535.1\t31.068\t103\t64\t5\t881\t978\t51\t151\t7.5\t34.3\r\n",
      "sp|P59594|SPIKE_CVHSA\tQ9UL45.1\t28.333\t60\t41\t1\t1127\t1184\t82\t141\t8.2\t33.1\r\n",
      "sp|P59594|SPIKE_CVHSA\tB0BUD7.1\t23.602\t161\t103\t5\t840\t990\t126\t276\t8.6\t33.9\r\n",
      "sp|P59594|SPIKE_CVHSA\tB3GXC3.1\t23.602\t161\t103\t5\t840\t990\t126\t276\t8.9\t33.9\r\n",
      "sp|P59594|SPIKE_CVHSA\tA8H5M2.1\t31.915\t94\t51\t4\t912\t1002\t88\t171\t9.3\t33.1\r\n",
      "sp|P59594|SPIKE_CVHSA\tB0TQ01.1\t31.915\t94\t51\t4\t912\t1002\t88\t171\t9.3\t33.1\r\n"
     ]
    }
   ],
   "source": [
    "!cat blastoutput"
   ]
  },
  {
   "cell_type": "code",
   "execution_count": 182,
   "metadata": {},
   "outputs": [],
   "source": [
    "f=open('blastoutput','r')\n",
    "#open 이라는 명령어를 사용한다\n",
    "#파일 이름을 지정하고\n",
    "#파일을 읽을 때는 'r', 파일을 기록할 때는 'w'를 이용한다. \n",
    "filecontent = f.readlines()\n",
    "f.close()\n",
    "#파일 내용을 몽땅 filecontent 라는 list 에 기록한다."
   ]
  },
  {
   "cell_type": "code",
   "execution_count": 184,
   "metadata": {},
   "outputs": [
    {
     "name": "stdout",
     "output_type": "stream",
     "text": [
      "sp|P59594|SPIKE_CVHSA\tP59594.1\t100.000\t1255\t0\t0\t1\t1255\t1\t1255\t0.0\t2602\n",
      "\n",
      "sp|P59594|SPIKE_CVHSA\tQ0Q475.1\t79.064\t1261\t236\t5\t1\t1255\t3\t1241\t0.0\t2062\n",
      "\n",
      "sp|P59594|SPIKE_CVHSA\tQ3I5J5.1\t78.668\t1261\t243\t4\t1\t1255\t1\t1241\t0.0\t2056\n",
      "\n",
      "sp|P59594|SPIKE_CVHSA\tQ3LZX1.1\t78.509\t1261\t244\t7\t1\t1255\t3\t1242\t0.0\t2050\n",
      "\n",
      "sp|P59594|SPIKE_CVHSA\tA3EXG6.1\t32.479\t1287\t749\t32\t29\t1248\t34\t1267\t0.0\t631\n",
      "\n",
      "sp|P59594|SPIKE_CVHSA\tA3EXD0.1\t35.801\t1148\t648\t36\t152\t1246\t238\t1349\t0.0\t590\n",
      "\n",
      "sp|P59594|SPIKE_CVHSA\tQ0Q4F2.1\t36.608\t1079\t610\t27\t222\t1246\t289\t1347\t0.0\t583\n",
      "\n",
      "sp|P59594|SPIKE_CVHSA\tA3EX94.1\t36.506\t1082\t609\t28\t222\t1246\t289\t1349\t3.10e-180\t571\n",
      "\n",
      "sp|P59594|SPIKE_CVHSA\tK9N5Q8.1\t34.791\t1052\t615\t28\t250\t1245\t311\t1347\t2.45e-172\t550\n",
      "\n",
      "sp|P59594|SPIKE_CVHSA\tP11225.1\t31.008\t1319\t757\t39\t1\t1253\t2\t1233\t2.72e-164\t525\n",
      "\n",
      "sp|P59594|SPIKE_CVHSA\tP11224.2\t30.312\t1346\t785\t41\t1\t1236\t2\t1304\t7.14e-158\t510\n",
      "\n",
      "sp|P59594|SPIKE_CVHSA\tP25192.1\t37.071\t758\t434\t12\t514\t1248\t621\t1358\t9.88e-145\t476\n",
      "\n",
      "sp|P59594|SPIKE_CVHSA\tP25192.1\t24.678\t466\t275\t18\t1\t424\t1\t432\t1.37e-20\t102\n",
      "\n",
      "sp|P59594|SPIKE_CVHSA\tQ9QAQ8.1\t37.154\t759\t432\t13\t514\t1248\t621\t1358\t2.42e-144\t475\n",
      "\n",
      "sp|P59594|SPIKE_CVHSA\tQ9QAQ8.1\t25.414\t362\t222\t12\t83\t424\t99\t432\t1.97e-20\t102\n",
      "\n",
      "sp|P59594|SPIKE_CVHSA\tQ91A26.1\t37.154\t759\t432\t13\t514\t1248\t621\t1358\t3.80e-144\t474\n",
      "\n",
      "sp|P59594|SPIKE_CVHSA\tQ91A26.1\t23.894\t452\t269\t17\t83\t493\t99\t516\t3.10e-19\t98.2\n",
      "\n",
      "sp|P59594|SPIKE_CVHSA\tQ9QAR5.1\t37.154\t759\t432\t13\t514\t1248\t621\t1358\t7.67e-144\t473\n",
      "\n",
      "sp|P59594|SPIKE_CVHSA\tQ9QAR5.1\t25.414\t362\t222\t12\t83\t424\t99\t432\t3.02e-20\t101\n",
      "\n",
      "sp|P59594|SPIKE_CVHSA\tQ8V436.1\t37.022\t759\t433\t13\t514\t1248\t621\t1358\t1.21e-143\t473\n",
      "\n",
      "sp|P59594|SPIKE_CVHSA\tQ8V436.1\t24.862\t362\t224\t12\t83\t424\t99\t432\t1.03e-18\t96.3\n",
      "\n",
      "sp|P59594|SPIKE_CVHSA\tP25190.1\t36.877\t762\t430\t12\t514\t1248\t621\t1358\t3.65e-143\t472\n",
      "\n",
      "sp|P59594|SPIKE_CVHSA\tP25190.1\t24.678\t466\t275\t18\t1\t424\t1\t432\t3.66e-20\t100\n",
      "\n",
      "sp|P59594|SPIKE_CVHSA\tP25194.1\t36.939\t758\t435\t12\t514\t1248\t621\t1358\t5.89e-143\t471\n",
      "\n",
      "sp|P59594|SPIKE_CVHSA\tP25194.1\t25.268\t467\t271\t19\t1\t424\t1\t432\t2.47e-21\t104\n",
      "\n",
      "sp|P59594|SPIKE_CVHSA\tP25191.1\t36.807\t758\t436\t12\t514\t1248\t621\t1358\t3.26e-142\t469\n",
      "\n",
      "sp|P59594|SPIKE_CVHSA\tP25191.1\t25.138\t362\t223\t12\t83\t424\t99\t432\t3.66e-20\t100\n",
      "\n",
      "sp|P59594|SPIKE_CVHSA\tP15777.1\t36.807\t758\t436\t12\t514\t1248\t621\t1358\t2.04e-141\t467\n",
      "\n",
      "sp|P59594|SPIKE_CVHSA\tP15777.1\t25.414\t362\t222\t12\t83\t424\t99\t432\t2.02e-20\t102\n",
      "\n",
      "sp|P59594|SPIKE_CVHSA\tP25193.2\t36.807\t758\t436\t12\t514\t1248\t621\t1358\t5.09e-141\t466\n",
      "\n",
      "sp|P59594|SPIKE_CVHSA\tP25193.2\t25.414\t362\t222\t12\t83\t424\t99\t432\t1.60e-20\t102\n",
      "\n",
      "sp|P59594|SPIKE_CVHSA\tQ0ZME7.1\t35.958\t762\t428\t16\t508\t1236\t600\t1334\t9.63e-138\t457\n",
      "\n",
      "sp|P59594|SPIKE_CVHSA\tQ0ZME7.1\t25.594\t379\t252\t11\t102\t472\t125\t481\t5.18e-23\t110\n",
      "\n",
      "sp|P59594|SPIKE_CVHSA\tP36334.1\t36.412\t758\t439\t12\t514\t1248\t611\t1348\t2.72e-137\t455\n",
      "\n",
      "sp|P59594|SPIKE_CVHSA\tP36334.1\t23.756\t442\t267\t17\t50\t450\t54\t466\t8.41e-19\t96.7\n",
      "\n",
      "sp|P59594|SPIKE_CVHSA\tQ14EB0.1\t35.827\t762\t429\t16\t508\t1236\t600\t1334\t4.15e-137\t455\n",
      "\n",
      "sp|P59594|SPIKE_CVHSA\tQ14EB0.1\t25.330\t379\t253\t11\t102\t472\t125\t481\t1.67e-22\t108\n",
      "\n",
      "sp|P59594|SPIKE_CVHSA\tQ8BB25.1\t35.938\t768\t444\t15\t508\t1248\t598\t1344\t3.71e-135\t449\n",
      "\n",
      "sp|P59594|SPIKE_CVHSA\tQ8BB25.1\t25.059\t427\t258\t17\t50\t442\t54\t452\t1.03e-19\t99.8\n",
      "\n",
      "sp|P59594|SPIKE_CVHSA\tQ9IKD1.1\t36.911\t764\t435\t17\t516\t1253\t611\t1353\t2.97e-134\t447\n",
      "\n",
      "sp|P59594|SPIKE_CVHSA\tQ9IKD1.1\t23.563\t522\t328\t19\t1\t474\t2\t500\t7.46e-22\t106\n",
      "\n",
      "sp|P59594|SPIKE_CVHSA\tQ02385.1\t36.328\t768\t438\t15\t503\t1236\t606\t1356\t7.06e-134\t446\n",
      "\n",
      "sp|P59594|SPIKE_CVHSA\tQ02385.1\t25.344\t509\t315\t21\t1\t470\t2\t484\t5.58e-22\t107\n",
      "\n",
      "sp|P59594|SPIKE_CVHSA\tP22432.1\t35.516\t794\t460\t16\t495\t1253\t598\t1374\t1.60e-133\t446\n",
      "\n",
      "sp|P59594|SPIKE_CVHSA\tP22432.1\t25.147\t509\t316\t21\t1\t470\t2\t484\t2.42e-21\t104\n",
      "\n",
      "sp|P59594|SPIKE_CVHSA\tQ8JSP8.1\t36.184\t760\t435\t16\t508\t1240\t598\t1334\t2.12e-133\t445\n",
      "\n",
      "sp|P59594|SPIKE_CVHSA\tQ8JSP8.1\t25.065\t383\t237\t14\t82\t442\t98\t452\t2.99e-19\t98.2\n",
      "\n",
      "sp|P59594|SPIKE_CVHSA\tQ5MQD0.1\t34.923\t776\t448\t19\t495\t1236\t587\t1339\t8.70e-131\t437\n",
      "\n",
      "sp|P59594|SPIKE_CVHSA\tQ5MQD0.1\t25.648\t347\t234\t8\t102\t446\t125\t449\t7.65e-22\t106\n",
      "\n",
      "sp|P59594|SPIKE_CVHSA\tP15423.1\t34.804\t612\t345\t13\t684\t1253\t572\t1171\t1.02e-101\t353\n",
      "\n",
      "sp|P59594|SPIKE_CVHSA\tP12650.1\t37.687\t536\t308\t10\t694\t1212\t584\t1110\t1.50e-101\t352\n",
      "\n",
      "sp|P59594|SPIKE_CVHSA\tP12651.1\t36.940\t536\t312\t10\t694\t1212\t584\t1110\t6.66e-100\t348\n",
      "\n",
      "sp|P59594|SPIKE_CVHSA\tP05135.1\t37.316\t544\t315\t11\t694\t1220\t585\t1119\t2.55e-99\t346\n",
      "\n",
      "sp|P59594|SPIKE_CVHSA\tP12722.1\t37.132\t544\t316\t11\t694\t1220\t585\t1119\t5.70e-99\t345\n",
      "\n",
      "sp|P59594|SPIKE_CVHSA\tP11223.1\t36.142\t534\t319\t9\t694\t1212\t584\t1110\t2.26e-97\t340\n",
      "\n",
      "sp|P59594|SPIKE_CVHSA\tQ0Q466.1\t36.201\t558\t313\t12\t694\t1215\t782\t1332\t3.93e-94\t334\n",
      "\n",
      "sp|P59594|SPIKE_CVHSA\tP24413.1\t32.288\t765\t409\t25\t522\t1216\t460\t1185\t7.35e-94\t332\n",
      "\n",
      "sp|P59594|SPIKE_CVHSA\tP27655.1\t31.895\t765\t412\t24\t522\t1216\t460\t1185\t8.24e-94\t331\n",
      "\n",
      "sp|P59594|SPIKE_CVHSA\tQ65984.1\t30.955\t785\t431\t24\t503\t1216\t669\t1413\t1.39e-92\t330\n",
      "\n",
      "sp|P59594|SPIKE_CVHSA\tQ6Q1S2.1\t30.049\t822\t458\t25\t474\t1234\t577\t1342\t1.86e-92\t329\n",
      "\n",
      "sp|P59594|SPIKE_CVHSA\tP10033.1\t30.982\t794\t430\t26\t503\t1221\t668\t1418\t1.88e-92\t330\n",
      "\n",
      "sp|P59594|SPIKE_CVHSA\tP07946.2\t31.043\t786\t429\t24\t503\t1216\t663\t1407\t5.47e-92\t328\n",
      "\n",
      "sp|P59594|SPIKE_CVHSA\tP33470.2\t31.421\t767\t413\t24\t522\t1216\t684\t1409\t1.93e-91\t327\n",
      "\n",
      "sp|P59594|SPIKE_CVHSA\tQ01977.1\t30.916\t786\t430\t24\t503\t1216\t663\t1407\t2.82e-91\t327\n",
      "\n",
      "sp|P59594|SPIKE_CVHSA\tQ7T6T3.1\t31.004\t787\t428\t26\t503\t1216\t669\t1413\t5.95e-91\t325\n",
      "\n",
      "sp|P59594|SPIKE_CVHSA\tP18450.2\t31.030\t767\t416\t24\t522\t1216\t684\t1409\t3.04e-90\t323\n",
      "\n",
      "sp|P59594|SPIKE_CVHSA\tP36300.1\t30.623\t787\t430\t25\t503\t1216\t668\t1411\t4.17e-89\t320\n",
      "\n",
      "sp|P59594|SPIKE_CVHSA\tQ91AV1.1\t35.018\t554\t308\t13\t694\t1199\t779\t1328\t9.06e-86\t310\n",
      "\n",
      "sp|P59594|SPIKE_CVHSA\tB8F3P6.1\t26.230\t122\t75\t3\t879\t990\t160\t276\t0.17\t39.7\n",
      "\n",
      "sp|P59594|SPIKE_CVHSA\tA5UEK6.1\t25.714\t105\t64\t2\t879\t969\t163\t267\t0.25\t38.9\n",
      "\n",
      "sp|P59594|SPIKE_CVHSA\tQ7VL94.1\t24.762\t105\t65\t2\t879\t969\t160\t264\t0.58\t37.7\n",
      "\n",
      "sp|P59594|SPIKE_CVHSA\tQ38WX8.1\t51.282\t39\t18\t1\t804\t842\t124\t161\t0.68\t37.4\n",
      "\n",
      "sp|P59594|SPIKE_CVHSA\tP45185.2\t24.762\t105\t65\t2\t879\t969\t163\t267\t0.70\t37.7\n",
      "\n",
      "sp|P59594|SPIKE_CVHSA\tA5UBY0.1\t24.762\t105\t65\t2\t879\t969\t163\t267\t0.80\t37.4\n",
      "\n",
      "sp|P59594|SPIKE_CVHSA\tO30867.1\t24.762\t105\t65\t2\t879\t969\t162\t266\t0.82\t37.4\n",
      "\n",
      "sp|P59594|SPIKE_CVHSA\tB7UN08.1\t27.049\t122\t74\t4\t879\t990\t159\t275\t1.00\t37.0\n",
      "\n",
      "sp|P59594|SPIKE_CVHSA\tB5R8K9.1\t27.049\t122\t74\t4\t879\t990\t159\t275\t1.0\t37.0\n",
      "\n",
      "sp|P59594|SPIKE_CVHSA\tP60107.1\t32.323\t99\t55\t5\t902\t994\t63\t155\t1.0\t37.0\n",
      "\n",
      "sp|P59594|SPIKE_CVHSA\tQ2YY12.1\t32.323\t99\t55\t5\t902\t994\t63\t155\t1.0\t37.0\n",
      "\n",
      "sp|P59594|SPIKE_CVHSA\tQ2FH32.1\t32.323\t99\t55\t5\t902\t994\t63\t155\t1.0\t37.0\n",
      "\n",
      "sp|P59594|SPIKE_CVHSA\tA8AIF7.1\t24.675\t154\t96\t5\t879\t1017\t159\t307\t1.2\t37.0\n",
      "\n",
      "sp|P59594|SPIKE_CVHSA\tQ6G9F5.1\t32.323\t99\t55\t5\t902\t994\t63\t155\t1.2\t36.6\n",
      "\n",
      "sp|P59594|SPIKE_CVHSA\tQ8N9W4.3\t23.276\t116\t80\t3\t640\t753\t81\t189\t1.3\t37.0\n",
      "\n",
      "sp|P59594|SPIKE_CVHSA\tB4T156.1\t27.049\t122\t74\t4\t879\t990\t159\t275\t1.3\t36.6\n",
      "\n",
      "sp|P59594|SPIKE_CVHSA\tQ8Z7Z7.1\t27.049\t122\t74\t4\t879\t990\t159\t275\t1.4\t36.6\n",
      "\n",
      "sp|P59594|SPIKE_CVHSA\tA9N7T9.1\t27.049\t122\t74\t4\t879\t990\t159\t275\t1.4\t36.6\n",
      "\n",
      "sp|P59594|SPIKE_CVHSA\tA7MZI2.1\t21.970\t132\t80\t5\t881\t989\t505\t636\t1.5\t36.6\n",
      "\n",
      "sp|P59594|SPIKE_CVHSA\tP48479.2\t25.352\t71\t53\t0\t924\t994\t303\t373\t1.5\t36.6\n",
      "\n",
      "sp|P59594|SPIKE_CVHSA\tA9MHW1.1\t27.049\t122\t74\t4\t879\t990\t159\t275\t2.2\t35.8\n",
      "\n",
      "sp|P59594|SPIKE_CVHSA\tB5YT56.1\t27.049\t122\t74\t4\t879\t990\t159\t275\t2.3\t35.8\n",
      "\n",
      "sp|P59594|SPIKE_CVHSA\tA7ZK12.1\t27.049\t122\t74\t4\t879\t990\t159\t275\t2.5\t35.8\n",
      "\n",
      "sp|P59594|SPIKE_CVHSA\tB7LN84.1\t27.049\t122\t74\t4\t879\t990\t159\t275\t2.6\t35.8\n",
      "\n",
      "sp|P59594|SPIKE_CVHSA\tO67068.1\t26.214\t103\t61\t3\t175\t272\t224\t316\t2.6\t35.8\n",
      "\n",
      "sp|P59594|SPIKE_CVHSA\tA7ZYM4.1\t27.049\t122\t74\t4\t879\t990\t159\t275\t2.6\t35.8\n",
      "\n",
      "sp|P59594|SPIKE_CVHSA\tA1A9J9.1\t27.049\t122\t74\t4\t879\t990\t159\t275\t2.7\t35.8\n",
      "\n",
      "sp|P59594|SPIKE_CVHSA\tP75434.1\t27.273\t77\t55\t1\t896\t972\t141\t216\t2.9\t35.0\n",
      "\n",
      "sp|P59594|SPIKE_CVHSA\tQ31YS8.1\t27.049\t122\t74\t4\t879\t990\t159\t275\t3.4\t35.4\n",
      "\n",
      "sp|P59594|SPIKE_CVHSA\tA1S7B2.1\t30.488\t82\t50\t2\t916\t997\t91\t165\t3.6\t34.7\n",
      "\n",
      "sp|P59594|SPIKE_CVHSA\tB2TUF7.1\t27.049\t122\t74\t4\t879\t990\t159\t275\t4.2\t35.0\n",
      "\n",
      "sp|P59594|SPIKE_CVHSA\tP0DJF6.1\t23.485\t132\t85\t4\t633\t749\t51\t181\t6.2\t34.3\n",
      "\n",
      "sp|P59594|SPIKE_CVHSA\tB1IW09.1\t27.049\t122\t74\t4\t879\t990\t159\t275\t6.3\t34.3\n",
      "\n",
      "sp|P59594|SPIKE_CVHSA\tQ6D445.1\t23.585\t106\t66\t2\t879\t969\t159\t264\t7.0\t34.3\n",
      "\n",
      "sp|P59594|SPIKE_CVHSA\tA3MZU5.1\t23.602\t161\t103\t5\t840\t990\t126\t276\t7.1\t34.3\n",
      "\n",
      "sp|P59594|SPIKE_CVHSA\tP37535.1\t31.068\t103\t64\t5\t881\t978\t51\t151\t7.5\t34.3\n",
      "\n",
      "sp|P59594|SPIKE_CVHSA\tQ9UL45.1\t28.333\t60\t41\t1\t1127\t1184\t82\t141\t8.2\t33.1\n",
      "\n",
      "sp|P59594|SPIKE_CVHSA\tB0BUD7.1\t23.602\t161\t103\t5\t840\t990\t126\t276\t8.6\t33.9\n",
      "\n",
      "sp|P59594|SPIKE_CVHSA\tB3GXC3.1\t23.602\t161\t103\t5\t840\t990\t126\t276\t8.9\t33.9\n",
      "\n",
      "sp|P59594|SPIKE_CVHSA\tA8H5M2.1\t31.915\t94\t51\t4\t912\t1002\t88\t171\t9.3\t33.1\n",
      "\n",
      "sp|P59594|SPIKE_CVHSA\tB0TQ01.1\t31.915\t94\t51\t4\t912\t1002\t88\t171\t9.3\t33.1\n",
      "\n"
     ]
    }
   ],
   "source": [
    "for line in filecontent:\n",
    "    print (line)"
   ]
  },
  {
   "cell_type": "code",
   "execution_count": 4,
   "metadata": {},
   "outputs": [
    {
     "name": "stdout",
     "output_type": "stream",
     "text": [
      "sp|P59594|SPIKE_CVHSA\tP59594.1\t100.000\t1255\t0\t0\t1\t1255\t1\t1255\t0.0\t2602\n",
      "\n",
      "sp|P59594|SPIKE_CVHSA\tQ0Q475.1\t79.064\t1261\t236\t5\t1\t1255\t3\t1241\t0.0\t2062\n",
      "\n",
      "sp|P59594|SPIKE_CVHSA\tQ3I5J5.1\t78.668\t1261\t243\t4\t1\t1255\t1\t1241\t0.0\t2056\n",
      "\n",
      "sp|P59594|SPIKE_CVHSA\tQ3LZX1.1\t78.509\t1261\t244\t7\t1\t1255\t3\t1242\t0.0\t2050\n",
      "\n",
      "sp|P59594|SPIKE_CVHSA\tA3EXG6.1\t32.479\t1287\t749\t32\t29\t1248\t34\t1267\t0.0\t631\n",
      "\n",
      "sp|P59594|SPIKE_CVHSA\tA3EXD0.1\t35.801\t1148\t648\t36\t152\t1246\t238\t1349\t0.0\t590\n",
      "\n",
      "sp|P59594|SPIKE_CVHSA\tQ0Q4F2.1\t36.608\t1079\t610\t27\t222\t1246\t289\t1347\t0.0\t583\n",
      "\n",
      "sp|P59594|SPIKE_CVHSA\tA3EX94.1\t36.506\t1082\t609\t28\t222\t1246\t289\t1349\t3.10e-180\t571\n",
      "\n",
      "sp|P59594|SPIKE_CVHSA\tK9N5Q8.1\t34.791\t1052\t615\t28\t250\t1245\t311\t1347\t2.45e-172\t550\n",
      "\n",
      "sp|P59594|SPIKE_CVHSA\tP11225.1\t31.008\t1319\t757\t39\t1\t1253\t2\t1233\t2.72e-164\t525\n",
      "\n",
      "sp|P59594|SPIKE_CVHSA\tP11224.2\t30.312\t1346\t785\t41\t1\t1236\t2\t1304\t7.14e-158\t510\n",
      "\n",
      "sp|P59594|SPIKE_CVHSA\tP25192.1\t37.071\t758\t434\t12\t514\t1248\t621\t1358\t9.88e-145\t476\n",
      "\n",
      "sp|P59594|SPIKE_CVHSA\tP25192.1\t24.678\t466\t275\t18\t1\t424\t1\t432\t1.37e-20\t102\n",
      "\n",
      "sp|P59594|SPIKE_CVHSA\tQ9QAQ8.1\t37.154\t759\t432\t13\t514\t1248\t621\t1358\t2.42e-144\t475\n",
      "\n",
      "sp|P59594|SPIKE_CVHSA\tQ9QAQ8.1\t25.414\t362\t222\t12\t83\t424\t99\t432\t1.97e-20\t102\n",
      "\n",
      "sp|P59594|SPIKE_CVHSA\tQ91A26.1\t37.154\t759\t432\t13\t514\t1248\t621\t1358\t3.80e-144\t474\n",
      "\n",
      "sp|P59594|SPIKE_CVHSA\tQ91A26.1\t23.894\t452\t269\t17\t83\t493\t99\t516\t3.10e-19\t98.2\n",
      "\n",
      "sp|P59594|SPIKE_CVHSA\tQ9QAR5.1\t37.154\t759\t432\t13\t514\t1248\t621\t1358\t7.67e-144\t473\n",
      "\n",
      "sp|P59594|SPIKE_CVHSA\tQ9QAR5.1\t25.414\t362\t222\t12\t83\t424\t99\t432\t3.02e-20\t101\n",
      "\n",
      "sp|P59594|SPIKE_CVHSA\tQ8V436.1\t37.022\t759\t433\t13\t514\t1248\t621\t1358\t1.21e-143\t473\n",
      "\n",
      "sp|P59594|SPIKE_CVHSA\tQ8V436.1\t24.862\t362\t224\t12\t83\t424\t99\t432\t1.03e-18\t96.3\n",
      "\n",
      "sp|P59594|SPIKE_CVHSA\tP25190.1\t36.877\t762\t430\t12\t514\t1248\t621\t1358\t3.65e-143\t472\n",
      "\n",
      "sp|P59594|SPIKE_CVHSA\tP25190.1\t24.678\t466\t275\t18\t1\t424\t1\t432\t3.66e-20\t100\n",
      "\n",
      "sp|P59594|SPIKE_CVHSA\tP25194.1\t36.939\t758\t435\t12\t514\t1248\t621\t1358\t5.89e-143\t471\n",
      "\n",
      "sp|P59594|SPIKE_CVHSA\tP25194.1\t25.268\t467\t271\t19\t1\t424\t1\t432\t2.47e-21\t104\n",
      "\n",
      "sp|P59594|SPIKE_CVHSA\tP25191.1\t36.807\t758\t436\t12\t514\t1248\t621\t1358\t3.26e-142\t469\n",
      "\n",
      "sp|P59594|SPIKE_CVHSA\tP25191.1\t25.138\t362\t223\t12\t83\t424\t99\t432\t3.66e-20\t100\n",
      "\n",
      "sp|P59594|SPIKE_CVHSA\tP15777.1\t36.807\t758\t436\t12\t514\t1248\t621\t1358\t2.04e-141\t467\n",
      "\n",
      "sp|P59594|SPIKE_CVHSA\tP15777.1\t25.414\t362\t222\t12\t83\t424\t99\t432\t2.02e-20\t102\n",
      "\n",
      "sp|P59594|SPIKE_CVHSA\tP25193.2\t36.807\t758\t436\t12\t514\t1248\t621\t1358\t5.09e-141\t466\n",
      "\n",
      "sp|P59594|SPIKE_CVHSA\tP25193.2\t25.414\t362\t222\t12\t83\t424\t99\t432\t1.60e-20\t102\n",
      "\n",
      "sp|P59594|SPIKE_CVHSA\tQ0ZME7.1\t35.958\t762\t428\t16\t508\t1236\t600\t1334\t9.63e-138\t457\n",
      "\n",
      "sp|P59594|SPIKE_CVHSA\tQ0ZME7.1\t25.594\t379\t252\t11\t102\t472\t125\t481\t5.18e-23\t110\n",
      "\n",
      "sp|P59594|SPIKE_CVHSA\tP36334.1\t36.412\t758\t439\t12\t514\t1248\t611\t1348\t2.72e-137\t455\n",
      "\n",
      "sp|P59594|SPIKE_CVHSA\tP36334.1\t23.756\t442\t267\t17\t50\t450\t54\t466\t8.41e-19\t96.7\n",
      "\n",
      "sp|P59594|SPIKE_CVHSA\tQ14EB0.1\t35.827\t762\t429\t16\t508\t1236\t600\t1334\t4.15e-137\t455\n",
      "\n",
      "sp|P59594|SPIKE_CVHSA\tQ14EB0.1\t25.330\t379\t253\t11\t102\t472\t125\t481\t1.67e-22\t108\n",
      "\n",
      "sp|P59594|SPIKE_CVHSA\tQ8BB25.1\t35.938\t768\t444\t15\t508\t1248\t598\t1344\t3.71e-135\t449\n",
      "\n",
      "sp|P59594|SPIKE_CVHSA\tQ8BB25.1\t25.059\t427\t258\t17\t50\t442\t54\t452\t1.03e-19\t99.8\n",
      "\n",
      "sp|P59594|SPIKE_CVHSA\tQ9IKD1.1\t36.911\t764\t435\t17\t516\t1253\t611\t1353\t2.97e-134\t447\n",
      "\n",
      "sp|P59594|SPIKE_CVHSA\tQ9IKD1.1\t23.563\t522\t328\t19\t1\t474\t2\t500\t7.46e-22\t106\n",
      "\n",
      "sp|P59594|SPIKE_CVHSA\tQ02385.1\t36.328\t768\t438\t15\t503\t1236\t606\t1356\t7.06e-134\t446\n",
      "\n",
      "sp|P59594|SPIKE_CVHSA\tQ02385.1\t25.344\t509\t315\t21\t1\t470\t2\t484\t5.58e-22\t107\n",
      "\n",
      "sp|P59594|SPIKE_CVHSA\tP22432.1\t35.516\t794\t460\t16\t495\t1253\t598\t1374\t1.60e-133\t446\n",
      "\n",
      "sp|P59594|SPIKE_CVHSA\tP22432.1\t25.147\t509\t316\t21\t1\t470\t2\t484\t2.42e-21\t104\n",
      "\n",
      "sp|P59594|SPIKE_CVHSA\tQ8JSP8.1\t36.184\t760\t435\t16\t508\t1240\t598\t1334\t2.12e-133\t445\n",
      "\n",
      "sp|P59594|SPIKE_CVHSA\tQ8JSP8.1\t25.065\t383\t237\t14\t82\t442\t98\t452\t2.99e-19\t98.2\n",
      "\n",
      "sp|P59594|SPIKE_CVHSA\tQ5MQD0.1\t34.923\t776\t448\t19\t495\t1236\t587\t1339\t8.70e-131\t437\n",
      "\n",
      "sp|P59594|SPIKE_CVHSA\tQ5MQD0.1\t25.648\t347\t234\t8\t102\t446\t125\t449\t7.65e-22\t106\n",
      "\n",
      "sp|P59594|SPIKE_CVHSA\tP15423.1\t34.804\t612\t345\t13\t684\t1253\t572\t1171\t1.02e-101\t353\n",
      "\n",
      "sp|P59594|SPIKE_CVHSA\tP12650.1\t37.687\t536\t308\t10\t694\t1212\t584\t1110\t1.50e-101\t352\n",
      "\n",
      "sp|P59594|SPIKE_CVHSA\tP12651.1\t36.940\t536\t312\t10\t694\t1212\t584\t1110\t6.66e-100\t348\n",
      "\n",
      "sp|P59594|SPIKE_CVHSA\tP05135.1\t37.316\t544\t315\t11\t694\t1220\t585\t1119\t2.55e-99\t346\n",
      "\n",
      "sp|P59594|SPIKE_CVHSA\tP12722.1\t37.132\t544\t316\t11\t694\t1220\t585\t1119\t5.70e-99\t345\n",
      "\n",
      "sp|P59594|SPIKE_CVHSA\tP11223.1\t36.142\t534\t319\t9\t694\t1212\t584\t1110\t2.26e-97\t340\n",
      "\n",
      "sp|P59594|SPIKE_CVHSA\tQ0Q466.1\t36.201\t558\t313\t12\t694\t1215\t782\t1332\t3.93e-94\t334\n",
      "\n",
      "sp|P59594|SPIKE_CVHSA\tP24413.1\t32.288\t765\t409\t25\t522\t1216\t460\t1185\t7.35e-94\t332\n",
      "\n",
      "sp|P59594|SPIKE_CVHSA\tP27655.1\t31.895\t765\t412\t24\t522\t1216\t460\t1185\t8.24e-94\t331\n",
      "\n",
      "sp|P59594|SPIKE_CVHSA\tQ65984.1\t30.955\t785\t431\t24\t503\t1216\t669\t1413\t1.39e-92\t330\n",
      "\n",
      "sp|P59594|SPIKE_CVHSA\tQ6Q1S2.1\t30.049\t822\t458\t25\t474\t1234\t577\t1342\t1.86e-92\t329\n",
      "\n",
      "sp|P59594|SPIKE_CVHSA\tP10033.1\t30.982\t794\t430\t26\t503\t1221\t668\t1418\t1.88e-92\t330\n",
      "\n",
      "sp|P59594|SPIKE_CVHSA\tP07946.2\t31.043\t786\t429\t24\t503\t1216\t663\t1407\t5.47e-92\t328\n",
      "\n",
      "sp|P59594|SPIKE_CVHSA\tP33470.2\t31.421\t767\t413\t24\t522\t1216\t684\t1409\t1.93e-91\t327\n",
      "\n",
      "sp|P59594|SPIKE_CVHSA\tQ01977.1\t30.916\t786\t430\t24\t503\t1216\t663\t1407\t2.82e-91\t327\n",
      "\n",
      "sp|P59594|SPIKE_CVHSA\tQ7T6T3.1\t31.004\t787\t428\t26\t503\t1216\t669\t1413\t5.95e-91\t325\n",
      "\n",
      "sp|P59594|SPIKE_CVHSA\tP18450.2\t31.030\t767\t416\t24\t522\t1216\t684\t1409\t3.04e-90\t323\n",
      "\n",
      "sp|P59594|SPIKE_CVHSA\tP36300.1\t30.623\t787\t430\t25\t503\t1216\t668\t1411\t4.17e-89\t320\n",
      "\n",
      "sp|P59594|SPIKE_CVHSA\tQ91AV1.1\t35.018\t554\t308\t13\t694\t1199\t779\t1328\t9.06e-86\t310\n",
      "\n",
      "sp|P59594|SPIKE_CVHSA\tB8F3P6.1\t26.230\t122\t75\t3\t879\t990\t160\t276\t0.17\t39.7\n",
      "\n",
      "sp|P59594|SPIKE_CVHSA\tA5UEK6.1\t25.714\t105\t64\t2\t879\t969\t163\t267\t0.25\t38.9\n",
      "\n",
      "sp|P59594|SPIKE_CVHSA\tQ7VL94.1\t24.762\t105\t65\t2\t879\t969\t160\t264\t0.58\t37.7\n",
      "\n",
      "sp|P59594|SPIKE_CVHSA\tQ38WX8.1\t51.282\t39\t18\t1\t804\t842\t124\t161\t0.68\t37.4\n",
      "\n",
      "sp|P59594|SPIKE_CVHSA\tP45185.2\t24.762\t105\t65\t2\t879\t969\t163\t267\t0.70\t37.7\n",
      "\n",
      "sp|P59594|SPIKE_CVHSA\tA5UBY0.1\t24.762\t105\t65\t2\t879\t969\t163\t267\t0.80\t37.4\n",
      "\n",
      "sp|P59594|SPIKE_CVHSA\tO30867.1\t24.762\t105\t65\t2\t879\t969\t162\t266\t0.82\t37.4\n",
      "\n",
      "sp|P59594|SPIKE_CVHSA\tB7UN08.1\t27.049\t122\t74\t4\t879\t990\t159\t275\t1.00\t37.0\n",
      "\n",
      "sp|P59594|SPIKE_CVHSA\tB5R8K9.1\t27.049\t122\t74\t4\t879\t990\t159\t275\t1.0\t37.0\n",
      "\n",
      "sp|P59594|SPIKE_CVHSA\tP60107.1\t32.323\t99\t55\t5\t902\t994\t63\t155\t1.0\t37.0\n",
      "\n",
      "sp|P59594|SPIKE_CVHSA\tQ2YY12.1\t32.323\t99\t55\t5\t902\t994\t63\t155\t1.0\t37.0\n",
      "\n",
      "sp|P59594|SPIKE_CVHSA\tQ2FH32.1\t32.323\t99\t55\t5\t902\t994\t63\t155\t1.0\t37.0\n",
      "\n",
      "sp|P59594|SPIKE_CVHSA\tA8AIF7.1\t24.675\t154\t96\t5\t879\t1017\t159\t307\t1.2\t37.0\n",
      "\n",
      "sp|P59594|SPIKE_CVHSA\tQ6G9F5.1\t32.323\t99\t55\t5\t902\t994\t63\t155\t1.2\t36.6\n",
      "\n",
      "sp|P59594|SPIKE_CVHSA\tQ8N9W4.3\t23.276\t116\t80\t3\t640\t753\t81\t189\t1.3\t37.0\n",
      "\n",
      "sp|P59594|SPIKE_CVHSA\tB4T156.1\t27.049\t122\t74\t4\t879\t990\t159\t275\t1.3\t36.6\n",
      "\n",
      "sp|P59594|SPIKE_CVHSA\tQ8Z7Z7.1\t27.049\t122\t74\t4\t879\t990\t159\t275\t1.4\t36.6\n",
      "\n",
      "sp|P59594|SPIKE_CVHSA\tA9N7T9.1\t27.049\t122\t74\t4\t879\t990\t159\t275\t1.4\t36.6\n",
      "\n",
      "sp|P59594|SPIKE_CVHSA\tA7MZI2.1\t21.970\t132\t80\t5\t881\t989\t505\t636\t1.5\t36.6\n",
      "\n",
      "sp|P59594|SPIKE_CVHSA\tP48479.2\t25.352\t71\t53\t0\t924\t994\t303\t373\t1.5\t36.6\n",
      "\n",
      "sp|P59594|SPIKE_CVHSA\tA9MHW1.1\t27.049\t122\t74\t4\t879\t990\t159\t275\t2.2\t35.8\n",
      "\n",
      "sp|P59594|SPIKE_CVHSA\tB5YT56.1\t27.049\t122\t74\t4\t879\t990\t159\t275\t2.3\t35.8\n",
      "\n",
      "sp|P59594|SPIKE_CVHSA\tA7ZK12.1\t27.049\t122\t74\t4\t879\t990\t159\t275\t2.5\t35.8\n",
      "\n",
      "sp|P59594|SPIKE_CVHSA\tB7LN84.1\t27.049\t122\t74\t4\t879\t990\t159\t275\t2.6\t35.8\n",
      "\n",
      "sp|P59594|SPIKE_CVHSA\tO67068.1\t26.214\t103\t61\t3\t175\t272\t224\t316\t2.6\t35.8\n",
      "\n",
      "sp|P59594|SPIKE_CVHSA\tA7ZYM4.1\t27.049\t122\t74\t4\t879\t990\t159\t275\t2.6\t35.8\n",
      "\n",
      "sp|P59594|SPIKE_CVHSA\tA1A9J9.1\t27.049\t122\t74\t4\t879\t990\t159\t275\t2.7\t35.8\n",
      "\n",
      "sp|P59594|SPIKE_CVHSA\tP75434.1\t27.273\t77\t55\t1\t896\t972\t141\t216\t2.9\t35.0\n",
      "\n",
      "sp|P59594|SPIKE_CVHSA\tQ31YS8.1\t27.049\t122\t74\t4\t879\t990\t159\t275\t3.4\t35.4\n",
      "\n",
      "sp|P59594|SPIKE_CVHSA\tA1S7B2.1\t30.488\t82\t50\t2\t916\t997\t91\t165\t3.6\t34.7\n",
      "\n",
      "sp|P59594|SPIKE_CVHSA\tB2TUF7.1\t27.049\t122\t74\t4\t879\t990\t159\t275\t4.2\t35.0\n",
      "\n",
      "sp|P59594|SPIKE_CVHSA\tP0DJF6.1\t23.485\t132\t85\t4\t633\t749\t51\t181\t6.2\t34.3\n",
      "\n",
      "sp|P59594|SPIKE_CVHSA\tB1IW09.1\t27.049\t122\t74\t4\t879\t990\t159\t275\t6.3\t34.3\n",
      "\n",
      "sp|P59594|SPIKE_CVHSA\tQ6D445.1\t23.585\t106\t66\t2\t879\t969\t159\t264\t7.0\t34.3\n",
      "\n",
      "sp|P59594|SPIKE_CVHSA\tA3MZU5.1\t23.602\t161\t103\t5\t840\t990\t126\t276\t7.1\t34.3\n",
      "\n",
      "sp|P59594|SPIKE_CVHSA\tP37535.1\t31.068\t103\t64\t5\t881\t978\t51\t151\t7.5\t34.3\n",
      "\n",
      "sp|P59594|SPIKE_CVHSA\tQ9UL45.1\t28.333\t60\t41\t1\t1127\t1184\t82\t141\t8.2\t33.1\n",
      "\n",
      "sp|P59594|SPIKE_CVHSA\tB0BUD7.1\t23.602\t161\t103\t5\t840\t990\t126\t276\t8.6\t33.9\n",
      "\n",
      "sp|P59594|SPIKE_CVHSA\tB3GXC3.1\t23.602\t161\t103\t5\t840\t990\t126\t276\t8.9\t33.9\n",
      "\n",
      "sp|P59594|SPIKE_CVHSA\tA8H5M2.1\t31.915\t94\t51\t4\t912\t1002\t88\t171\t9.3\t33.1\n",
      "\n",
      "sp|P59594|SPIKE_CVHSA\tB0TQ01.1\t31.915\t94\t51\t4\t912\t1002\t88\t171\t9.3\t33.1\n",
      "\n"
     ]
    }
   ],
   "source": [
    "#각각의 줄이 별도의 항목으로 리스트에 저장된다. \n",
    "#\\t 는 탭 문자를 의미하며 \\n는 줄 띄우기 문자를 의미한다. \n",
    "#읽어서 filecontent 에 저장된 내용을 보기 위해서는 \n",
    "\n",
    "for line in filecontent:\n",
    "    print(line)"
   ]
  },
  {
   "cell_type": "markdown",
   "metadata": {},
   "source": [
    "이렇게 하면.\n",
    "\n",
    "읽어내는 줄을 '\\t' (탭 문자) 기준으로 분리하여 \n",
    "\n",
    "linecontent 라는 리스트에 저장한다. \n",
    "\n",
    "line.split('\\t') <- 탭 문자 "
   ]
  },
  {
   "cell_type": "code",
   "execution_count": 187,
   "metadata": {},
   "outputs": [
    {
     "name": "stdout",
     "output_type": "stream",
     "text": [
      "P59594.1\n",
      "Q0Q475.1\n",
      "Q3I5J5.1\n",
      "Q3LZX1.1\n",
      "A3EXG6.1\n",
      "A3EXD0.1\n",
      "Q0Q4F2.1\n",
      "A3EX94.1\n",
      "K9N5Q8.1\n",
      "P11225.1\n",
      "P11224.2\n",
      "P25192.1\n",
      "P25192.1\n",
      "Q9QAQ8.1\n",
      "Q9QAQ8.1\n",
      "Q91A26.1\n",
      "Q91A26.1\n",
      "Q9QAR5.1\n",
      "Q9QAR5.1\n",
      "Q8V436.1\n",
      "Q8V436.1\n",
      "P25190.1\n",
      "P25190.1\n",
      "P25194.1\n",
      "P25194.1\n",
      "P25191.1\n",
      "P25191.1\n",
      "P15777.1\n",
      "P15777.1\n",
      "P25193.2\n",
      "P25193.2\n",
      "Q0ZME7.1\n",
      "Q0ZME7.1\n",
      "P36334.1\n",
      "P36334.1\n",
      "Q14EB0.1\n",
      "Q14EB0.1\n",
      "Q8BB25.1\n",
      "Q8BB25.1\n",
      "Q9IKD1.1\n",
      "Q9IKD1.1\n",
      "Q02385.1\n",
      "Q02385.1\n",
      "P22432.1\n",
      "P22432.1\n",
      "Q8JSP8.1\n",
      "Q8JSP8.1\n",
      "Q5MQD0.1\n",
      "Q5MQD0.1\n",
      "P15423.1\n",
      "P12650.1\n",
      "P12651.1\n",
      "P05135.1\n",
      "P12722.1\n",
      "P11223.1\n",
      "Q0Q466.1\n",
      "P24413.1\n",
      "P27655.1\n",
      "Q65984.1\n",
      "Q6Q1S2.1\n",
      "P10033.1\n",
      "P07946.2\n",
      "P33470.2\n",
      "Q01977.1\n",
      "Q7T6T3.1\n",
      "P18450.2\n",
      "P36300.1\n",
      "Q91AV1.1\n",
      "B8F3P6.1\n",
      "A5UEK6.1\n",
      "Q7VL94.1\n",
      "Q38WX8.1\n",
      "P45185.2\n",
      "A5UBY0.1\n",
      "O30867.1\n",
      "B7UN08.1\n",
      "B5R8K9.1\n",
      "P60107.1\n",
      "Q2YY12.1\n",
      "Q2FH32.1\n",
      "A8AIF7.1\n",
      "Q6G9F5.1\n",
      "Q8N9W4.3\n",
      "B4T156.1\n",
      "Q8Z7Z7.1\n",
      "A9N7T9.1\n",
      "A7MZI2.1\n",
      "P48479.2\n",
      "A9MHW1.1\n",
      "B5YT56.1\n",
      "A7ZK12.1\n",
      "B7LN84.1\n",
      "O67068.1\n",
      "A7ZYM4.1\n",
      "A1A9J9.1\n",
      "P75434.1\n",
      "Q31YS8.1\n",
      "A1S7B2.1\n",
      "B2TUF7.1\n",
      "P0DJF6.1\n",
      "B1IW09.1\n",
      "Q6D445.1\n",
      "A3MZU5.1\n",
      "P37535.1\n",
      "Q9UL45.1\n",
      "B0BUD7.1\n",
      "B3GXC3.1\n",
      "A8H5M2.1\n",
      "B0TQ01.1\n"
     ]
    }
   ],
   "source": [
    "for line in filecontent:\n",
    "    linecontent = line.split('\\t')\n",
    "    print(linecontent[1])"
   ]
  },
  {
   "cell_type": "code",
   "execution_count": 188,
   "metadata": {},
   "outputs": [
    {
     "name": "stdout",
     "output_type": "stream",
     "text": [
      "sp|P59594|SPIKE_CVHSA\n",
      "sp|P59594|SPIKE_CVHSA\n",
      "sp|P59594|SPIKE_CVHSA\n",
      "sp|P59594|SPIKE_CVHSA\n",
      "sp|P59594|SPIKE_CVHSA\n",
      "sp|P59594|SPIKE_CVHSA\n",
      "sp|P59594|SPIKE_CVHSA\n",
      "sp|P59594|SPIKE_CVHSA\n",
      "sp|P59594|SPIKE_CVHSA\n",
      "sp|P59594|SPIKE_CVHSA\n",
      "sp|P59594|SPIKE_CVHSA\n",
      "sp|P59594|SPIKE_CVHSA\n",
      "sp|P59594|SPIKE_CVHSA\n",
      "sp|P59594|SPIKE_CVHSA\n",
      "sp|P59594|SPIKE_CVHSA\n",
      "sp|P59594|SPIKE_CVHSA\n",
      "sp|P59594|SPIKE_CVHSA\n",
      "sp|P59594|SPIKE_CVHSA\n",
      "sp|P59594|SPIKE_CVHSA\n",
      "sp|P59594|SPIKE_CVHSA\n",
      "sp|P59594|SPIKE_CVHSA\n",
      "sp|P59594|SPIKE_CVHSA\n",
      "sp|P59594|SPIKE_CVHSA\n",
      "sp|P59594|SPIKE_CVHSA\n",
      "sp|P59594|SPIKE_CVHSA\n",
      "sp|P59594|SPIKE_CVHSA\n",
      "sp|P59594|SPIKE_CVHSA\n",
      "sp|P59594|SPIKE_CVHSA\n",
      "sp|P59594|SPIKE_CVHSA\n",
      "sp|P59594|SPIKE_CVHSA\n",
      "sp|P59594|SPIKE_CVHSA\n",
      "sp|P59594|SPIKE_CVHSA\n",
      "sp|P59594|SPIKE_CVHSA\n",
      "sp|P59594|SPIKE_CVHSA\n",
      "sp|P59594|SPIKE_CVHSA\n",
      "sp|P59594|SPIKE_CVHSA\n",
      "sp|P59594|SPIKE_CVHSA\n",
      "sp|P59594|SPIKE_CVHSA\n",
      "sp|P59594|SPIKE_CVHSA\n",
      "sp|P59594|SPIKE_CVHSA\n",
      "sp|P59594|SPIKE_CVHSA\n",
      "sp|P59594|SPIKE_CVHSA\n",
      "sp|P59594|SPIKE_CVHSA\n",
      "sp|P59594|SPIKE_CVHSA\n",
      "sp|P59594|SPIKE_CVHSA\n",
      "sp|P59594|SPIKE_CVHSA\n",
      "sp|P59594|SPIKE_CVHSA\n",
      "sp|P59594|SPIKE_CVHSA\n",
      "sp|P59594|SPIKE_CVHSA\n",
      "sp|P59594|SPIKE_CVHSA\n",
      "sp|P59594|SPIKE_CVHSA\n",
      "sp|P59594|SPIKE_CVHSA\n",
      "sp|P59594|SPIKE_CVHSA\n",
      "sp|P59594|SPIKE_CVHSA\n",
      "sp|P59594|SPIKE_CVHSA\n",
      "sp|P59594|SPIKE_CVHSA\n",
      "sp|P59594|SPIKE_CVHSA\n",
      "sp|P59594|SPIKE_CVHSA\n",
      "sp|P59594|SPIKE_CVHSA\n",
      "sp|P59594|SPIKE_CVHSA\n",
      "sp|P59594|SPIKE_CVHSA\n",
      "sp|P59594|SPIKE_CVHSA\n",
      "sp|P59594|SPIKE_CVHSA\n",
      "sp|P59594|SPIKE_CVHSA\n",
      "sp|P59594|SPIKE_CVHSA\n",
      "sp|P59594|SPIKE_CVHSA\n",
      "sp|P59594|SPIKE_CVHSA\n",
      "sp|P59594|SPIKE_CVHSA\n",
      "sp|P59594|SPIKE_CVHSA\n",
      "sp|P59594|SPIKE_CVHSA\n",
      "sp|P59594|SPIKE_CVHSA\n",
      "sp|P59594|SPIKE_CVHSA\n",
      "sp|P59594|SPIKE_CVHSA\n",
      "sp|P59594|SPIKE_CVHSA\n",
      "sp|P59594|SPIKE_CVHSA\n",
      "sp|P59594|SPIKE_CVHSA\n",
      "sp|P59594|SPIKE_CVHSA\n",
      "sp|P59594|SPIKE_CVHSA\n",
      "sp|P59594|SPIKE_CVHSA\n",
      "sp|P59594|SPIKE_CVHSA\n",
      "sp|P59594|SPIKE_CVHSA\n",
      "sp|P59594|SPIKE_CVHSA\n",
      "sp|P59594|SPIKE_CVHSA\n",
      "sp|P59594|SPIKE_CVHSA\n",
      "sp|P59594|SPIKE_CVHSA\n",
      "sp|P59594|SPIKE_CVHSA\n",
      "sp|P59594|SPIKE_CVHSA\n",
      "sp|P59594|SPIKE_CVHSA\n",
      "sp|P59594|SPIKE_CVHSA\n",
      "sp|P59594|SPIKE_CVHSA\n",
      "sp|P59594|SPIKE_CVHSA\n",
      "sp|P59594|SPIKE_CVHSA\n",
      "sp|P59594|SPIKE_CVHSA\n",
      "sp|P59594|SPIKE_CVHSA\n",
      "sp|P59594|SPIKE_CVHSA\n",
      "sp|P59594|SPIKE_CVHSA\n",
      "sp|P59594|SPIKE_CVHSA\n",
      "sp|P59594|SPIKE_CVHSA\n",
      "sp|P59594|SPIKE_CVHSA\n",
      "sp|P59594|SPIKE_CVHSA\n",
      "sp|P59594|SPIKE_CVHSA\n",
      "sp|P59594|SPIKE_CVHSA\n",
      "sp|P59594|SPIKE_CVHSA\n",
      "sp|P59594|SPIKE_CVHSA\n",
      "sp|P59594|SPIKE_CVHSA\n",
      "sp|P59594|SPIKE_CVHSA\n",
      "sp|P59594|SPIKE_CVHSA\n",
      "sp|P59594|SPIKE_CVHSA\n",
      "sp|P59594|SPIKE_CVHSA\n"
     ]
    }
   ],
   "source": [
    "for line in filecontent:\n",
    "    linecontent = line.split('\\t')\n",
    "    print(linecontent[0])"
   ]
  },
  {
   "cell_type": "markdown",
   "metadata": {},
   "source": [
    "P59594.1...만을 출력하려면 어떻게 할까? "
   ]
  },
  {
   "cell_type": "code",
   "execution_count": 189,
   "metadata": {},
   "outputs": [
    {
     "name": "stdout",
     "output_type": "stream",
     "text": [
      "P59594.1\n",
      "Q0Q475.1\n",
      "Q3I5J5.1\n",
      "Q3LZX1.1\n",
      "A3EXG6.1\n",
      "A3EXD0.1\n",
      "Q0Q4F2.1\n",
      "A3EX94.1\n",
      "K9N5Q8.1\n",
      "P11225.1\n",
      "P11224.2\n",
      "P25192.1\n",
      "P25192.1\n",
      "Q9QAQ8.1\n",
      "Q9QAQ8.1\n",
      "Q91A26.1\n",
      "Q91A26.1\n",
      "Q9QAR5.1\n",
      "Q9QAR5.1\n",
      "Q8V436.1\n",
      "Q8V436.1\n",
      "P25190.1\n",
      "P25190.1\n",
      "P25194.1\n",
      "P25194.1\n",
      "P25191.1\n",
      "P25191.1\n",
      "P15777.1\n",
      "P15777.1\n",
      "P25193.2\n",
      "P25193.2\n",
      "Q0ZME7.1\n",
      "Q0ZME7.1\n",
      "P36334.1\n",
      "P36334.1\n",
      "Q14EB0.1\n",
      "Q14EB0.1\n",
      "Q8BB25.1\n",
      "Q8BB25.1\n",
      "Q9IKD1.1\n",
      "Q9IKD1.1\n",
      "Q02385.1\n",
      "Q02385.1\n",
      "P22432.1\n",
      "P22432.1\n",
      "Q8JSP8.1\n",
      "Q8JSP8.1\n",
      "Q5MQD0.1\n",
      "Q5MQD0.1\n",
      "P15423.1\n",
      "P12650.1\n",
      "P12651.1\n",
      "P05135.1\n",
      "P12722.1\n",
      "P11223.1\n",
      "Q0Q466.1\n",
      "P24413.1\n",
      "P27655.1\n",
      "Q65984.1\n",
      "Q6Q1S2.1\n",
      "P10033.1\n",
      "P07946.2\n",
      "P33470.2\n",
      "Q01977.1\n",
      "Q7T6T3.1\n",
      "P18450.2\n",
      "P36300.1\n",
      "Q91AV1.1\n",
      "B8F3P6.1\n",
      "A5UEK6.1\n",
      "Q7VL94.1\n",
      "Q38WX8.1\n",
      "P45185.2\n",
      "A5UBY0.1\n",
      "O30867.1\n",
      "B7UN08.1\n",
      "B5R8K9.1\n",
      "P60107.1\n",
      "Q2YY12.1\n",
      "Q2FH32.1\n",
      "A8AIF7.1\n",
      "Q6G9F5.1\n",
      "Q8N9W4.3\n",
      "B4T156.1\n",
      "Q8Z7Z7.1\n",
      "A9N7T9.1\n",
      "A7MZI2.1\n",
      "P48479.2\n",
      "A9MHW1.1\n",
      "B5YT56.1\n",
      "A7ZK12.1\n",
      "B7LN84.1\n",
      "O67068.1\n",
      "A7ZYM4.1\n",
      "A1A9J9.1\n",
      "P75434.1\n",
      "Q31YS8.1\n",
      "A1S7B2.1\n",
      "B2TUF7.1\n",
      "P0DJF6.1\n",
      "B1IW09.1\n",
      "Q6D445.1\n",
      "A3MZU5.1\n",
      "P37535.1\n",
      "Q9UL45.1\n",
      "B0BUD7.1\n",
      "B3GXC3.1\n",
      "A8H5M2.1\n",
      "B0TQ01.1\n"
     ]
    }
   ],
   "source": [
    "for line in filecontent:\n",
    "    linecontent = line.split('\\t')\n",
    "    print(linecontent[1])"
   ]
  },
  {
   "cell_type": "markdown",
   "metadata": {},
   "source": [
    "화면에 출력하지 말고 리스트에 저장하려면 어떻게 할까? \n"
   ]
  },
  {
   "cell_type": "code",
   "execution_count": 190,
   "metadata": {},
   "outputs": [],
   "source": [
    "#swissprot id 를 저장할 새로운 리스트 \n",
    "swissprot = []\n",
    "\n",
    "for line in filecontent:\n",
    "    linecontent = line.split('\\t')\n",
    "    swissprot.append(linecontent[1])"
   ]
  },
  {
   "cell_type": "code",
   "execution_count": 191,
   "metadata": {},
   "outputs": [
    {
     "data": {
      "text/plain": [
       "['P59594.1',\n",
       " 'Q0Q475.1',\n",
       " 'Q3I5J5.1',\n",
       " 'Q3LZX1.1',\n",
       " 'A3EXG6.1',\n",
       " 'A3EXD0.1',\n",
       " 'Q0Q4F2.1',\n",
       " 'A3EX94.1',\n",
       " 'K9N5Q8.1',\n",
       " 'P11225.1',\n",
       " 'P11224.2',\n",
       " 'P25192.1',\n",
       " 'P25192.1',\n",
       " 'Q9QAQ8.1',\n",
       " 'Q9QAQ8.1',\n",
       " 'Q91A26.1',\n",
       " 'Q91A26.1',\n",
       " 'Q9QAR5.1',\n",
       " 'Q9QAR5.1',\n",
       " 'Q8V436.1',\n",
       " 'Q8V436.1',\n",
       " 'P25190.1',\n",
       " 'P25190.1',\n",
       " 'P25194.1',\n",
       " 'P25194.1',\n",
       " 'P25191.1',\n",
       " 'P25191.1',\n",
       " 'P15777.1',\n",
       " 'P15777.1',\n",
       " 'P25193.2',\n",
       " 'P25193.2',\n",
       " 'Q0ZME7.1',\n",
       " 'Q0ZME7.1',\n",
       " 'P36334.1',\n",
       " 'P36334.1',\n",
       " 'Q14EB0.1',\n",
       " 'Q14EB0.1',\n",
       " 'Q8BB25.1',\n",
       " 'Q8BB25.1',\n",
       " 'Q9IKD1.1',\n",
       " 'Q9IKD1.1',\n",
       " 'Q02385.1',\n",
       " 'Q02385.1',\n",
       " 'P22432.1',\n",
       " 'P22432.1',\n",
       " 'Q8JSP8.1',\n",
       " 'Q8JSP8.1',\n",
       " 'Q5MQD0.1',\n",
       " 'Q5MQD0.1',\n",
       " 'P15423.1',\n",
       " 'P12650.1',\n",
       " 'P12651.1',\n",
       " 'P05135.1',\n",
       " 'P12722.1',\n",
       " 'P11223.1',\n",
       " 'Q0Q466.1',\n",
       " 'P24413.1',\n",
       " 'P27655.1',\n",
       " 'Q65984.1',\n",
       " 'Q6Q1S2.1',\n",
       " 'P10033.1',\n",
       " 'P07946.2',\n",
       " 'P33470.2',\n",
       " 'Q01977.1',\n",
       " 'Q7T6T3.1',\n",
       " 'P18450.2',\n",
       " 'P36300.1',\n",
       " 'Q91AV1.1',\n",
       " 'B8F3P6.1',\n",
       " 'A5UEK6.1',\n",
       " 'Q7VL94.1',\n",
       " 'Q38WX8.1',\n",
       " 'P45185.2',\n",
       " 'A5UBY0.1',\n",
       " 'O30867.1',\n",
       " 'B7UN08.1',\n",
       " 'B5R8K9.1',\n",
       " 'P60107.1',\n",
       " 'Q2YY12.1',\n",
       " 'Q2FH32.1',\n",
       " 'A8AIF7.1',\n",
       " 'Q6G9F5.1',\n",
       " 'Q8N9W4.3',\n",
       " 'B4T156.1',\n",
       " 'Q8Z7Z7.1',\n",
       " 'A9N7T9.1',\n",
       " 'A7MZI2.1',\n",
       " 'P48479.2',\n",
       " 'A9MHW1.1',\n",
       " 'B5YT56.1',\n",
       " 'A7ZK12.1',\n",
       " 'B7LN84.1',\n",
       " 'O67068.1',\n",
       " 'A7ZYM4.1',\n",
       " 'A1A9J9.1',\n",
       " 'P75434.1',\n",
       " 'Q31YS8.1',\n",
       " 'A1S7B2.1',\n",
       " 'B2TUF7.1',\n",
       " 'P0DJF6.1',\n",
       " 'B1IW09.1',\n",
       " 'Q6D445.1',\n",
       " 'A3MZU5.1',\n",
       " 'P37535.1',\n",
       " 'Q9UL45.1',\n",
       " 'B0BUD7.1',\n",
       " 'B3GXC3.1',\n",
       " 'A8H5M2.1',\n",
       " 'B0TQ01.1']"
      ]
     },
     "execution_count": 191,
     "metadata": {},
     "output_type": "execute_result"
    }
   ],
   "source": [
    "swissprot"
   ]
  },
  {
   "cell_type": "markdown",
   "metadata": {},
   "source": [
    "이것을 파일에 저장해보려고 한다. 어떻게 해야 할까? "
   ]
  },
  {
   "cell_type": "code",
   "execution_count": 192,
   "metadata": {},
   "outputs": [],
   "source": [
    "f=open('swissoutput','w')\n",
    "#open 이라는 명령어를 사용한다\n",
    "#파일 이름을 지정하고\n",
    "#파일을 기록할 때는 'w'를 이용한다. \n",
    "f.writelines(swissprot)\n",
    "f.close()"
   ]
  },
  {
   "cell_type": "code",
   "execution_count": 194,
   "metadata": {},
   "outputs": [
    {
     "name": "stdout",
     "output_type": "stream",
     "text": [
      "P59594.1Q0Q475.1Q3I5J5.1Q3LZX1.1A3EXG6.1A3EXD0.1Q0Q4F2.1A3EX94.1K9N5Q8.1P11225.1P11224.2P25192.1P25192.1Q9QAQ8.1Q9QAQ8.1Q91A26.1Q91A26.1Q9QAR5.1Q9QAR5.1Q8V436.1Q8V436.1P25190.1P25190.1P25194.1P25194.1P25191.1P25191.1P15777.1P15777.1P25193.2P25193.2Q0ZME7.1Q0ZME7.1P36334.1P36334.1Q14EB0.1Q14EB0.1Q8BB25.1Q8BB25.1Q9IKD1.1Q9IKD1.1Q02385.1Q02385.1P22432.1P22432.1Q8JSP8.1Q8JSP8.1Q5MQD0.1Q5MQD0.1P15423.1P12650.1P12651.1P05135.1P12722.1P11223.1Q0Q466.1P24413.1P27655.1Q65984.1Q6Q1S2.1P10033.1P07946.2P33470.2Q01977.1Q7T6T3.1P18450.2P36300.1Q91AV1.1B8F3P6.1A5UEK6.1Q7VL94.1Q38WX8.1P45185.2A5UBY0.1O30867.1B7UN08.1B5R8K9.1P60107.1Q2YY12.1Q2FH32.1A8AIF7.1Q6G9F5.1Q8N9W4.3B4T156.1Q8Z7Z7.1A9N7T9.1A7MZI2.1P48479.2A9MHW1.1B5YT56.1A7ZK12.1B7LN84.1O67068.1A7ZYM4.1A1A9J9.1P75434.1Q31YS8.1A1S7B2.1B2TUF7.1P0DJF6.1B1IW09.1Q6D445.1A3MZU5.1P37535.1Q9UL45.1B0BUD7.1B3GXC3.1A8H5M2.1B0TQ01.1"
     ]
    }
   ],
   "source": [
    "!cat swissoutput"
   ]
  },
  {
   "cell_type": "markdown",
   "metadata": {},
   "source": [
    "줄 간 구분이 안 되어 있다. 이것을 고치려면 어떻게 할까? \n",
    "\n",
    "텍스트 파일에서 쓰기를 하려면 각각에 새로 줄 띄기 문자 ('\\n')를 넣어야 한다. 이를 위해서 다음과 같이 수정하자. "
   ]
  },
  {
   "cell_type": "code",
   "execution_count": 195,
   "metadata": {},
   "outputs": [],
   "source": [
    "swissprot = []\n",
    "\n",
    "for line in filecontent:\n",
    "    linecontent = line.split('\\t')\n",
    "    #파일 줄 뒤에 '\\n' 문자를 추가하였다. \n",
    "    swissprot.append(linecontent[1]+'\\n')\n",
    "f=open('swissoutput','w')\n",
    "f.writelines(swissprot)\n",
    "f.close()"
   ]
  },
  {
   "cell_type": "code",
   "execution_count": 196,
   "metadata": {},
   "outputs": [
    {
     "name": "stdout",
     "output_type": "stream",
     "text": [
      "P59594.1\r\n",
      "Q0Q475.1\r\n",
      "Q3I5J5.1\r\n",
      "Q3LZX1.1\r\n",
      "A3EXG6.1\r\n",
      "A3EXD0.1\r\n",
      "Q0Q4F2.1\r\n",
      "A3EX94.1\r\n",
      "K9N5Q8.1\r\n",
      "P11225.1\r\n",
      "P11224.2\r\n",
      "P25192.1\r\n",
      "P25192.1\r\n",
      "Q9QAQ8.1\r\n",
      "Q9QAQ8.1\r\n",
      "Q91A26.1\r\n",
      "Q91A26.1\r\n",
      "Q9QAR5.1\r\n",
      "Q9QAR5.1\r\n",
      "Q8V436.1\r\n",
      "Q8V436.1\r\n",
      "P25190.1\r\n",
      "P25190.1\r\n",
      "P25194.1\r\n",
      "P25194.1\r\n",
      "P25191.1\r\n",
      "P25191.1\r\n",
      "P15777.1\r\n",
      "P15777.1\r\n",
      "P25193.2\r\n",
      "P25193.2\r\n",
      "Q0ZME7.1\r\n",
      "Q0ZME7.1\r\n",
      "P36334.1\r\n",
      "P36334.1\r\n",
      "Q14EB0.1\r\n",
      "Q14EB0.1\r\n",
      "Q8BB25.1\r\n",
      "Q8BB25.1\r\n",
      "Q9IKD1.1\r\n",
      "Q9IKD1.1\r\n",
      "Q02385.1\r\n",
      "Q02385.1\r\n",
      "P22432.1\r\n",
      "P22432.1\r\n",
      "Q8JSP8.1\r\n",
      "Q8JSP8.1\r\n",
      "Q5MQD0.1\r\n",
      "Q5MQD0.1\r\n",
      "P15423.1\r\n",
      "P12650.1\r\n",
      "P12651.1\r\n",
      "P05135.1\r\n",
      "P12722.1\r\n",
      "P11223.1\r\n",
      "Q0Q466.1\r\n",
      "P24413.1\r\n",
      "P27655.1\r\n",
      "Q65984.1\r\n",
      "Q6Q1S2.1\r\n",
      "P10033.1\r\n",
      "P07946.2\r\n",
      "P33470.2\r\n",
      "Q01977.1\r\n",
      "Q7T6T3.1\r\n",
      "P18450.2\r\n",
      "P36300.1\r\n",
      "Q91AV1.1\r\n",
      "B8F3P6.1\r\n",
      "A5UEK6.1\r\n",
      "Q7VL94.1\r\n",
      "Q38WX8.1\r\n",
      "P45185.2\r\n",
      "A5UBY0.1\r\n",
      "O30867.1\r\n",
      "B7UN08.1\r\n",
      "B5R8K9.1\r\n",
      "P60107.1\r\n",
      "Q2YY12.1\r\n",
      "Q2FH32.1\r\n",
      "A8AIF7.1\r\n",
      "Q6G9F5.1\r\n",
      "Q8N9W4.3\r\n",
      "B4T156.1\r\n",
      "Q8Z7Z7.1\r\n",
      "A9N7T9.1\r\n",
      "A7MZI2.1\r\n",
      "P48479.2\r\n",
      "A9MHW1.1\r\n",
      "B5YT56.1\r\n",
      "A7ZK12.1\r\n",
      "B7LN84.1\r\n",
      "O67068.1\r\n",
      "A7ZYM4.1\r\n",
      "A1A9J9.1\r\n",
      "P75434.1\r\n",
      "Q31YS8.1\r\n",
      "A1S7B2.1\r\n",
      "B2TUF7.1\r\n",
      "P0DJF6.1\r\n",
      "B1IW09.1\r\n",
      "Q6D445.1\r\n",
      "A3MZU5.1\r\n",
      "P37535.1\r\n",
      "Q9UL45.1\r\n",
      "B0BUD7.1\r\n",
      "B3GXC3.1\r\n",
      "A8H5M2.1\r\n",
      "B0TQ01.1\r\n"
     ]
    }
   ],
   "source": [
    "!cat swissoutput"
   ]
  },
  {
   "cell_type": "markdown",
   "metadata": {},
   "source": [
    "결국 유닉스 명령어로 cat blastoutput.txt | cut -d$'\\t' -f 2 > swissoutput 하는 것과 동일한 일이지만, 파이썬으로 수행 가능하다. \n"
   ]
  }
 ],
 "metadata": {
  "kernelspec": {
   "display_name": "Python 3",
   "language": "python",
   "name": "python3"
  },
  "language_info": {
   "codemirror_mode": {
    "name": "ipython",
    "version": 3
   },
   "file_extension": ".py",
   "mimetype": "text/x-python",
   "name": "python",
   "nbconvert_exporter": "python",
   "pygments_lexer": "ipython3",
   "version": "3.7.4"
  }
 },
 "nbformat": 4,
 "nbformat_minor": 2
}
